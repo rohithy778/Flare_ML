{
 "cells": [
  {
   "cell_type": "code",
   "execution_count": 1,
   "id": "4010827a",
   "metadata": {},
   "outputs": [],
   "source": [
    "import pandas as pd\n",
    "import numpy as np\n",
    "\n",
    "original_data = pd.read_csv('flaringar_original_data.csv')"
   ]
  },
  {
   "cell_type": "code",
   "execution_count": 2,
   "id": "3f33a887",
   "metadata": {},
   "outputs": [],
   "source": [
    "train_data = pd.read_csv(\"flaringar_training_sample.csv\")"
   ]
  },
  {
   "cell_type": "code",
   "execution_count": 3,
   "id": "a7311c1e",
   "metadata": {},
   "outputs": [
    {
     "data": {
      "text/html": [
       "<div>\n",
       "<style scoped>\n",
       "    .dataframe tbody tr th:only-of-type {\n",
       "        vertical-align: middle;\n",
       "    }\n",
       "\n",
       "    .dataframe tbody tr th {\n",
       "        vertical-align: top;\n",
       "    }\n",
       "\n",
       "    .dataframe thead th {\n",
       "        text-align: right;\n",
       "    }\n",
       "</style>\n",
       "<table border=\"1\" class=\"dataframe\">\n",
       "  <thead>\n",
       "    <tr style=\"text-align: right;\">\n",
       "      <th></th>\n",
       "      <th>Flare Class</th>\n",
       "      <th>TOTUSJH</th>\n",
       "      <th>TOTBSQ</th>\n",
       "      <th>TOTPOT</th>\n",
       "      <th>TOTUSJZ</th>\n",
       "      <th>ABSNJZH</th>\n",
       "      <th>SAVNCPP</th>\n",
       "      <th>USFLUX</th>\n",
       "      <th>AREA_ACR</th>\n",
       "      <th>TOTFZ</th>\n",
       "      <th>MEANPOT</th>\n",
       "      <th>R_VALUE</th>\n",
       "      <th>EPSZ</th>\n",
       "      <th>SHRGT45</th>\n",
       "    </tr>\n",
       "  </thead>\n",
       "  <tbody>\n",
       "    <tr>\n",
       "      <th>0</th>\n",
       "      <td>X</td>\n",
       "      <td>3249.07</td>\n",
       "      <td>41815000000</td>\n",
       "      <td>8.596110e+23</td>\n",
       "      <td>62133000000000</td>\n",
       "      <td>700.682</td>\n",
       "      <td>14899500000000</td>\n",
       "      <td>2.735020e+22</td>\n",
       "      <td>1103.97</td>\n",
       "      <td>-552.89</td>\n",
       "      <td>14038.00</td>\n",
       "      <td>4.820</td>\n",
       "      <td>-0.0251</td>\n",
       "      <td>59.489</td>\n",
       "    </tr>\n",
       "    <tr>\n",
       "      <th>1</th>\n",
       "      <td>X</td>\n",
       "      <td>3176.31</td>\n",
       "      <td>47782000000</td>\n",
       "      <td>9.662510e+23</td>\n",
       "      <td>69314200000000</td>\n",
       "      <td>157.759</td>\n",
       "      <td>9905710000000</td>\n",
       "      <td>3.176960e+22</td>\n",
       "      <td>1400.93</td>\n",
       "      <td>-869.70</td>\n",
       "      <td>13463.60</td>\n",
       "      <td>4.825</td>\n",
       "      <td>-0.0345</td>\n",
       "      <td>55.222</td>\n",
       "    </tr>\n",
       "    <tr>\n",
       "      <th>2</th>\n",
       "      <td>X</td>\n",
       "      <td>1892.92</td>\n",
       "      <td>26673000000</td>\n",
       "      <td>3.717600e+23</td>\n",
       "      <td>42117300000000</td>\n",
       "      <td>171.952</td>\n",
       "      <td>6528880000000</td>\n",
       "      <td>1.890010e+22</td>\n",
       "      <td>1370.85</td>\n",
       "      <td>-231.29</td>\n",
       "      <td>7496.19</td>\n",
       "      <td>4.438</td>\n",
       "      <td>-0.0164</td>\n",
       "      <td>42.934</td>\n",
       "    </tr>\n",
       "    <tr>\n",
       "      <th>3</th>\n",
       "      <td>X</td>\n",
       "      <td>1868.82</td>\n",
       "      <td>24509000000</td>\n",
       "      <td>3.483140e+23</td>\n",
       "      <td>36289300000000</td>\n",
       "      <td>429.602</td>\n",
       "      <td>21180700000000</td>\n",
       "      <td>1.732570e+22</td>\n",
       "      <td>1198.60</td>\n",
       "      <td>-317.56</td>\n",
       "      <td>8669.42</td>\n",
       "      <td>4.319</td>\n",
       "      <td>-0.0246</td>\n",
       "      <td>35.944</td>\n",
       "    </tr>\n",
       "    <tr>\n",
       "      <th>4</th>\n",
       "      <td>X</td>\n",
       "      <td>5271.77</td>\n",
       "      <td>102290000000</td>\n",
       "      <td>1.920230e+24</td>\n",
       "      <td>86898000000000</td>\n",
       "      <td>1066.250</td>\n",
       "      <td>16117800000000</td>\n",
       "      <td>6.440390e+22</td>\n",
       "      <td>1939.06</td>\n",
       "      <td>-6162.10</td>\n",
       "      <td>16094.80</td>\n",
       "      <td>4.912</td>\n",
       "      <td>-0.1143</td>\n",
       "      <td>41.102</td>\n",
       "    </tr>\n",
       "  </tbody>\n",
       "</table>\n",
       "</div>"
      ],
      "text/plain": [
       "  Flare Class  TOTUSJH        TOTBSQ        TOTPOT         TOTUSJZ   ABSNJZH  \\\n",
       "0           X  3249.07   41815000000  8.596110e+23  62133000000000   700.682   \n",
       "1           X  3176.31   47782000000  9.662510e+23  69314200000000   157.759   \n",
       "2           X  1892.92   26673000000  3.717600e+23  42117300000000   171.952   \n",
       "3           X  1868.82   24509000000  3.483140e+23  36289300000000   429.602   \n",
       "4           X  5271.77  102290000000  1.920230e+24  86898000000000  1066.250   \n",
       "\n",
       "          SAVNCPP        USFLUX  AREA_ACR    TOTFZ   MEANPOT  R_VALUE    EPSZ  \\\n",
       "0  14899500000000  2.735020e+22   1103.97  -552.89  14038.00    4.820 -0.0251   \n",
       "1   9905710000000  3.176960e+22   1400.93  -869.70  13463.60    4.825 -0.0345   \n",
       "2   6528880000000  1.890010e+22   1370.85  -231.29   7496.19    4.438 -0.0164   \n",
       "3  21180700000000  1.732570e+22   1198.60  -317.56   8669.42    4.319 -0.0246   \n",
       "4  16117800000000  6.440390e+22   1939.06 -6162.10  16094.80    4.912 -0.1143   \n",
       "\n",
       "   SHRGT45  \n",
       "0   59.489  \n",
       "1   55.222  \n",
       "2   42.934  \n",
       "3   35.944  \n",
       "4   41.102  "
      ]
     },
     "execution_count": 3,
     "metadata": {},
     "output_type": "execute_result"
    }
   ],
   "source": [
    "df = train_data.copy()\n",
    "df.head()"
   ]
  },
  {
   "cell_type": "code",
   "execution_count": 4,
   "id": "d19d5b59",
   "metadata": {},
   "outputs": [],
   "source": [
    "test_data = pd.read_csv(\"flaringar_simple_random_40.csv\")"
   ]
  },
  {
   "cell_type": "code",
   "execution_count": 5,
   "id": "5e0ea20f",
   "metadata": {},
   "outputs": [],
   "source": [
    "df2 = test_data.copy()"
   ]
  },
  {
   "cell_type": "code",
   "execution_count": 6,
   "id": "fe2265de",
   "metadata": {},
   "outputs": [],
   "source": [
    "def f(s):\n",
    "    return s[0]\n",
    "\n",
    "y_test = test_data['Flare Class'].apply(f)"
   ]
  },
  {
   "cell_type": "code",
   "execution_count": 7,
   "id": "f62b32bd",
   "metadata": {},
   "outputs": [],
   "source": [
    "del df2['fdate']\n",
    "del df2['noaaar']\n",
    "del df2['Flare Class']"
   ]
  },
  {
   "cell_type": "code",
   "execution_count": 8,
   "id": "369db835",
   "metadata": {},
   "outputs": [
    {
     "data": {
      "text/plain": [
       "0    B\n",
       "1    B\n",
       "2    M\n",
       "3    B\n",
       "4    B\n",
       "Name: Flare Class, dtype: object"
      ]
     },
     "execution_count": 8,
     "metadata": {},
     "output_type": "execute_result"
    }
   ],
   "source": [
    "y_test.head()"
   ]
  },
  {
   "cell_type": "code",
   "execution_count": 9,
   "id": "73e44de7",
   "metadata": {},
   "outputs": [
    {
     "data": {
      "text/html": [
       "<div>\n",
       "<style scoped>\n",
       "    .dataframe tbody tr th:only-of-type {\n",
       "        vertical-align: middle;\n",
       "    }\n",
       "\n",
       "    .dataframe tbody tr th {\n",
       "        vertical-align: top;\n",
       "    }\n",
       "\n",
       "    .dataframe thead th {\n",
       "        text-align: right;\n",
       "    }\n",
       "</style>\n",
       "<table border=\"1\" class=\"dataframe\">\n",
       "  <thead>\n",
       "    <tr style=\"text-align: right;\">\n",
       "      <th></th>\n",
       "      <th>TOTUSJH</th>\n",
       "      <th>TOTBSQ</th>\n",
       "      <th>TOTPOT</th>\n",
       "      <th>TOTUSJZ</th>\n",
       "      <th>ABSNJZH</th>\n",
       "      <th>SAVNCPP</th>\n",
       "      <th>USFLUX</th>\n",
       "      <th>AREA_ACR</th>\n",
       "      <th>TOTFZ</th>\n",
       "      <th>MEANPOT</th>\n",
       "      <th>R_VALUE</th>\n",
       "      <th>EPSZ</th>\n",
       "      <th>SHRGT45</th>\n",
       "    </tr>\n",
       "  </thead>\n",
       "  <tbody>\n",
       "    <tr>\n",
       "      <th>0</th>\n",
       "      <td>55.772</td>\n",
       "      <td>1.020700e+09</td>\n",
       "      <td>5.220000e+21</td>\n",
       "      <td>9.610000e+11</td>\n",
       "      <td>38.849</td>\n",
       "      <td>1.390000e+12</td>\n",
       "      <td>2.820000e+20</td>\n",
       "      <td>13.9159</td>\n",
       "      <td>115.820000</td>\n",
       "      <td>8009.98</td>\n",
       "      <td>3.102</td>\n",
       "      <td>0.2152</td>\n",
       "      <td>51.120</td>\n",
       "    </tr>\n",
       "    <tr>\n",
       "      <th>1</th>\n",
       "      <td>41.846</td>\n",
       "      <td>9.579600e+08</td>\n",
       "      <td>1.510000e+21</td>\n",
       "      <td>6.020000e+11</td>\n",
       "      <td>7.576</td>\n",
       "      <td>1.560000e+11</td>\n",
       "      <td>4.180000e+20</td>\n",
       "      <td>63.1692</td>\n",
       "      <td>-57.081000</td>\n",
       "      <td>2358.96</td>\n",
       "      <td>1.908</td>\n",
       "      <td>-0.1130</td>\n",
       "      <td>2.079</td>\n",
       "    </tr>\n",
       "    <tr>\n",
       "      <th>2</th>\n",
       "      <td>605.079</td>\n",
       "      <td>8.395900e+09</td>\n",
       "      <td>7.970000e+22</td>\n",
       "      <td>7.560000e+12</td>\n",
       "      <td>295.489</td>\n",
       "      <td>1.160000e+13</td>\n",
       "      <td>5.500000e+21</td>\n",
       "      <td>187.7550</td>\n",
       "      <td>-1069.000000</td>\n",
       "      <td>10742.80</td>\n",
       "      <td>4.173</td>\n",
       "      <td>-0.2415</td>\n",
       "      <td>12.511</td>\n",
       "    </tr>\n",
       "    <tr>\n",
       "      <th>3</th>\n",
       "      <td>34.981</td>\n",
       "      <td>1.882500e+09</td>\n",
       "      <td>1.590000e+21</td>\n",
       "      <td>6.240000e+11</td>\n",
       "      <td>1.055</td>\n",
       "      <td>7.150000e+11</td>\n",
       "      <td>4.610000e+20</td>\n",
       "      <td>134.5900</td>\n",
       "      <td>-0.072779</td>\n",
       "      <td>2012.54</td>\n",
       "      <td>2.449</td>\n",
       "      <td>-0.0001</td>\n",
       "      <td>1.010</td>\n",
       "    </tr>\n",
       "    <tr>\n",
       "      <th>4</th>\n",
       "      <td>633.567</td>\n",
       "      <td>1.114800e+10</td>\n",
       "      <td>1.060000e+23</td>\n",
       "      <td>8.990000e+12</td>\n",
       "      <td>30.109</td>\n",
       "      <td>4.540000e+12</td>\n",
       "      <td>7.240000e+21</td>\n",
       "      <td>255.5080</td>\n",
       "      <td>-1474.200000</td>\n",
       "      <td>9964.54</td>\n",
       "      <td>4.145</td>\n",
       "      <td>-0.2508</td>\n",
       "      <td>27.772</td>\n",
       "    </tr>\n",
       "  </tbody>\n",
       "</table>\n",
       "</div>"
      ],
      "text/plain": [
       "   TOTUSJH        TOTBSQ        TOTPOT       TOTUSJZ  ABSNJZH       SAVNCPP  \\\n",
       "0   55.772  1.020700e+09  5.220000e+21  9.610000e+11   38.849  1.390000e+12   \n",
       "1   41.846  9.579600e+08  1.510000e+21  6.020000e+11    7.576  1.560000e+11   \n",
       "2  605.079  8.395900e+09  7.970000e+22  7.560000e+12  295.489  1.160000e+13   \n",
       "3   34.981  1.882500e+09  1.590000e+21  6.240000e+11    1.055  7.150000e+11   \n",
       "4  633.567  1.114800e+10  1.060000e+23  8.990000e+12   30.109  4.540000e+12   \n",
       "\n",
       "         USFLUX  AREA_ACR        TOTFZ   MEANPOT  R_VALUE    EPSZ  SHRGT45  \n",
       "0  2.820000e+20   13.9159   115.820000   8009.98    3.102  0.2152   51.120  \n",
       "1  4.180000e+20   63.1692   -57.081000   2358.96    1.908 -0.1130    2.079  \n",
       "2  5.500000e+21  187.7550 -1069.000000  10742.80    4.173 -0.2415   12.511  \n",
       "3  4.610000e+20  134.5900    -0.072779   2012.54    2.449 -0.0001    1.010  \n",
       "4  7.240000e+21  255.5080 -1474.200000   9964.54    4.145 -0.2508   27.772  "
      ]
     },
     "execution_count": 9,
     "metadata": {},
     "output_type": "execute_result"
    }
   ],
   "source": [
    "df2.head()"
   ]
  },
  {
   "cell_type": "code",
   "execution_count": 10,
   "id": "63370de5",
   "metadata": {},
   "outputs": [],
   "source": [
    "x_test = df.copy()"
   ]
  },
  {
   "cell_type": "code",
   "execution_count": 11,
   "id": "7f5b8be0",
   "metadata": {},
   "outputs": [],
   "source": [
    "df2 = train_data.copy()\n",
    "y_train = df2['Flare Class']\n",
    "del df2['Flare Class']"
   ]
  },
  {
   "cell_type": "code",
   "execution_count": 12,
   "id": "170ffcb6",
   "metadata": {},
   "outputs": [],
   "source": [
    "x_train = df2"
   ]
  },
  {
   "cell_type": "code",
   "execution_count": 13,
   "id": "4b4b4d80",
   "metadata": {},
   "outputs": [
    {
     "data": {
      "text/plain": [
       "Index(['TOTUSJH', 'TOTBSQ', 'TOTPOT', 'TOTUSJZ', 'ABSNJZH', 'SAVNCPP',\n",
       "       'USFLUX', 'AREA_ACR', 'TOTFZ', 'MEANPOT', 'R_VALUE', 'EPSZ', 'SHRGT45'],\n",
       "      dtype='object')"
      ]
     },
     "execution_count": 13,
     "metadata": {},
     "output_type": "execute_result"
    }
   ],
   "source": [
    "x_train.columns"
   ]
  },
  {
   "cell_type": "code",
   "execution_count": 14,
   "id": "b45232e8",
   "metadata": {},
   "outputs": [
    {
     "data": {
      "text/plain": [
       "0      X\n",
       "1      X\n",
       "2      X\n",
       "3      X\n",
       "4      X\n",
       "      ..\n",
       "430    C\n",
       "431    C\n",
       "432    C\n",
       "433    C\n",
       "434    C\n",
       "Name: Flare Class, Length: 435, dtype: object"
      ]
     },
     "execution_count": 14,
     "metadata": {},
     "output_type": "execute_result"
    }
   ],
   "source": [
    "y_train "
   ]
  },
  {
   "cell_type": "code",
   "execution_count": 15,
   "id": "a4ea3728",
   "metadata": {},
   "outputs": [],
   "source": [
    "y = df['Flare Class']\n",
    "del df['Flare Class']\n",
    "x = df"
   ]
  },
  {
   "cell_type": "code",
   "execution_count": null,
   "id": "95a5cc97",
   "metadata": {},
   "outputs": [],
   "source": []
  },
  {
   "cell_type": "code",
   "execution_count": 16,
   "id": "7b91f481",
   "metadata": {},
   "outputs": [],
   "source": [
    "# From initial dataset to training-test split"
   ]
  },
  {
   "cell_type": "code",
   "execution_count": 17,
   "id": "90314774",
   "metadata": {},
   "outputs": [
    {
     "name": "stdout",
     "output_type": "stream",
     "text": [
      "[(348, 13), (348,)]\n",
      "[(87, 13), (87,)]\n",
      "0.5747126436781609\n",
      "Wall time: 853 ms\n"
     ]
    }
   ],
   "source": [
    "%%time\n",
    "from sklearn.model_selection import train_test_split\n",
    "from sklearn.tree import DecisionTreeClassifier\n",
    "\n",
    "x_train, x_test, y_train, y_test = train_test_split(x,y,train_size = 0.8)\n",
    "\n",
    "print([x_train.shape, y_train.shape])\n",
    "print([x_test.shape, y_test.shape])\n",
    "\n",
    "model = DecisionTreeClassifier()\n",
    "model.fit(x_train, y_train)\n",
    "result = model.score(x_test,y_test)\n",
    "print(result)"
   ]
  },
  {
   "cell_type": "code",
   "execution_count": 18,
   "id": "ca8a7f51",
   "metadata": {},
   "outputs": [],
   "source": [
    "# Repeated random test-train splits"
   ]
  },
  {
   "cell_type": "code",
   "execution_count": 19,
   "id": "434966cb",
   "metadata": {},
   "outputs": [
    {
     "name": "stdout",
     "output_type": "stream",
     "text": [
      "[0.47727273 0.61363636 0.45454545 0.54545455 0.52272727 0.43181818\n",
      " 0.54545455 0.63636364 0.43181818 0.56818182]\n",
      "0.5227272727272727\n",
      "Wall time: 79.8 ms\n"
     ]
    }
   ],
   "source": [
    "%%time\n",
    "from sklearn.model_selection import cross_val_score\n",
    "from sklearn.model_selection import ShuffleSplit\n",
    "from sklearn.tree import DecisionTreeClassifier\n",
    "\n",
    "model = DecisionTreeClassifier()\n",
    "ssplit = ShuffleSplit(n_splits = 10, test_size = 0.10)\n",
    "results = cross_val_score(model, x, y, cv = ssplit)\n",
    "print(results)\n",
    "print(np.mean(results))"
   ]
  },
  {
   "cell_type": "code",
   "execution_count": 20,
   "id": "7d2300da",
   "metadata": {},
   "outputs": [],
   "source": [
    "# From initial dataset to training-validation-test split"
   ]
  },
  {
   "cell_type": "code",
   "execution_count": 21,
   "id": "90f2cbf3",
   "metadata": {},
   "outputs": [
    {
     "name": "stdout",
     "output_type": "stream",
     "text": [
      "validation set score\n",
      "0.6046511627906976\n",
      "test score\n",
      "0.4318181818181818\n",
      "Wall time: 11 ms\n"
     ]
    }
   ],
   "source": [
    "%%time\n",
    "from sklearn.model_selection import train_test_split\n",
    "from sklearn.tree import DecisionTreeClassifier\n",
    "\n",
    "x_train, x_rem, y_train, y_rem = train_test_split(x, y, train_size = 0.8)\n",
    "\n",
    "test_size = 0.5\n",
    "x_valid, x_test, y_valid, y_test = train_test_split(x_rem, y_rem, test_size = test_size)\n",
    "\n",
    "model = DecisionTreeClassifier()\n",
    "model.fit(x_train, y_train)\n",
    "print(\"validation set score\")\n",
    "result = model.score(x_valid, y_valid)\n",
    "print(result)\n",
    "print(\"test score\")\n",
    "result = model.score(x_test, y_test)\n",
    "print(result)"
   ]
  },
  {
   "cell_type": "code",
   "execution_count": 22,
   "id": "3e274650",
   "metadata": {},
   "outputs": [],
   "source": [
    "# K fold cross validation"
   ]
  },
  {
   "cell_type": "code",
   "execution_count": 23,
   "id": "bbae2b57",
   "metadata": {},
   "outputs": [
    {
     "name": "stdout",
     "output_type": "stream",
     "text": [
      "[0.25       0.40909091 0.27272727 0.56818182 0.61363636 0.39534884\n",
      " 0.41860465 0.44186047 0.41860465 0.44186047]\n",
      "0.4229915433403805\n",
      "Wall time: 73.8 ms\n"
     ]
    }
   ],
   "source": [
    "%%time\n",
    "from sklearn.model_selection import KFold\n",
    "from sklearn.model_selection import cross_val_score\n",
    "from sklearn.tree import DecisionTreeClassifier\n",
    "\n",
    "model = DecisionTreeClassifier()\n",
    "kfold_validation = KFold(10)\n",
    "results = cross_val_score(model, x, y, cv = kfold_validation)\n",
    "print(results)\n",
    "print(np.mean(results))"
   ]
  },
  {
   "cell_type": "code",
   "execution_count": 24,
   "id": "c5556b2f",
   "metadata": {},
   "outputs": [],
   "source": [
    "# Stratified k-fold Cross Validation"
   ]
  },
  {
   "cell_type": "code",
   "execution_count": 25,
   "id": "e5393a3d",
   "metadata": {},
   "outputs": [
    {
     "name": "stdout",
     "output_type": "stream",
     "text": [
      "[0.40909091 0.34090909 0.38636364 0.54545455 0.56818182 0.44186047\n",
      " 0.48837209 0.53488372 0.51162791 0.41860465]\n",
      "0.4645348837209302\n",
      "Wall time: 78.4 ms\n"
     ]
    }
   ],
   "source": [
    "%%time\n",
    "from sklearn.model_selection import StratifiedKFold\n",
    "from sklearn.model_selection import cross_val_score\n",
    "from sklearn.tree import DecisionTreeClassifier\n",
    "\n",
    "skfold = StratifiedKFold(n_splits=10)\n",
    "model = DecisionTreeClassifier()\n",
    "scores = cross_val_score(model, x, y, cv=skfold)\n",
    "print(scores)\n",
    "print(np.mean(scores))"
   ]
  },
  {
   "cell_type": "code",
   "execution_count": 26,
   "id": "2b782be9",
   "metadata": {},
   "outputs": [],
   "source": [
    "# leave-one-out cross validation(LOOCV)"
   ]
  },
  {
   "cell_type": "code",
   "execution_count": 27,
   "id": "2393a644",
   "metadata": {},
   "outputs": [
    {
     "name": "stdout",
     "output_type": "stream",
     "text": [
      "[0. 0. 1. 1. 0. 0. 0. 1. 0. 0. 0. 0. 0. 0. 1. 0. 1. 1. 1. 1. 1. 0. 0. 1.\n",
      " 1. 0. 0. 0. 1. 0. 0. 0. 0. 1. 0. 1. 1. 0. 1. 0. 0. 1. 1. 0. 1. 0. 0. 0.\n",
      " 1. 0. 1. 0. 1. 1. 0. 1. 1. 1. 1. 0. 1. 0. 1. 0. 0. 0. 1. 0. 1. 0. 1. 1.\n",
      " 0. 1. 1. 0. 1. 1. 0. 0. 0. 1. 0. 1. 1. 1. 1. 1. 1. 1. 1. 0. 0. 1. 0. 1.\n",
      " 0. 1. 1. 0. 0. 1. 1. 0. 1. 1. 1. 0. 1. 1. 1. 0. 1. 0. 1. 1. 0. 1. 1. 1.\n",
      " 0. 0. 1. 1. 1. 0. 0. 1. 0. 0. 0. 1. 0. 1. 1. 0. 1. 1. 0. 1. 0. 1. 1. 1.\n",
      " 0. 0. 1. 1. 1. 1. 1. 0. 0. 1. 1. 1. 1. 1. 0. 0. 0. 0. 1. 0. 0. 1. 1. 1.\n",
      " 1. 1. 0. 1. 1. 0. 0. 1. 1. 1. 1. 1. 1. 0. 1. 1. 1. 1. 1. 1. 1. 0. 1. 1.\n",
      " 1. 1. 1. 1. 1. 0. 1. 1. 1. 1. 1. 1. 1. 1. 1. 1. 1. 1. 0. 1. 0. 1. 0. 0.\n",
      " 0. 0. 1. 1. 1. 1. 1. 1. 0. 1. 0. 1. 1. 0. 1. 0. 0. 0. 0. 0. 0. 0. 1. 1.\n",
      " 1. 1. 0. 0. 1. 0. 0. 1. 0. 1. 0. 0. 1. 1. 1. 1. 1. 0. 1. 0. 1. 1. 0. 0.\n",
      " 1. 1. 1. 1. 1. 0. 1. 0. 0. 1. 1. 0. 0. 0. 1. 1. 1. 0. 0. 0. 0. 1. 0. 0.\n",
      " 0. 0. 0. 1. 1. 1. 1. 1. 0. 1. 1. 1. 0. 0. 0. 1. 0. 1. 1. 1. 0. 1. 1. 0.\n",
      " 1. 0. 1. 0. 1. 1. 0. 0. 1. 0. 0. 1. 0. 0. 0. 0. 1. 1. 1. 0. 1. 1. 0. 0.\n",
      " 1. 0. 1. 1. 0. 1. 0. 1. 0. 1. 0. 1. 1. 0. 0. 1. 0. 0. 1. 0. 1. 0. 1. 1.\n",
      " 0. 1. 1. 0. 1. 1. 1. 1. 0. 1. 0. 1. 1. 1. 0. 0. 0. 1. 0. 1. 0. 0. 1. 0.\n",
      " 1. 1. 0. 0. 0. 1. 1. 0. 1. 1. 0. 0. 0. 0. 0. 0. 0. 1. 1. 1. 1. 0. 1. 0.\n",
      " 1. 0. 0. 1. 1. 1. 0. 0. 0. 0. 0. 0. 1. 0. 1. 0. 0. 0. 0. 1. 0. 0. 1. 0.\n",
      " 1. 0. 1.]\n",
      "435\n",
      "0.5471264367816092\n",
      "Wall time: 3.81 s\n"
     ]
    }
   ],
   "source": [
    "%%time\n",
    "from sklearn.model_selection import LeaveOneOut\n",
    "from sklearn.tree import DecisionTreeClassifier\n",
    "from sklearn.model_selection import cross_val_score\n",
    "\n",
    "model = DecisionTreeClassifier()\n",
    "leave_validation = LeaveOneOut()\n",
    "results = cross_val_score(model, x, y, cv=leave_validation)\n",
    "print(results)\n",
    "print(len(results))\n",
    "print(np.mean(results))"
   ]
  },
  {
   "cell_type": "code",
   "execution_count": null,
   "id": "f1bcd05a",
   "metadata": {},
   "outputs": [],
   "source": []
  },
  {
   "cell_type": "markdown",
   "id": "450a4bfb",
   "metadata": {},
   "source": [
    "# Bagging - Bootstrap + Aggregation"
   ]
  },
  {
   "cell_type": "code",
   "execution_count": 28,
   "id": "c98d0e4e",
   "metadata": {},
   "outputs": [
    {
     "name": "stdout",
     "output_type": "stream",
     "text": [
      "Accuracy:  0.6252642706131079\n"
     ]
    }
   ],
   "source": [
    "from numpy import mean\n",
    "from numpy import std\n",
    "from sklearn.model_selection import RepeatedStratifiedKFold\n",
    "from sklearn.ensemble import BaggingClassifier\n",
    "\n",
    "model = BaggingClassifier()\n",
    "model.fit(x_train, y_train)\n",
    "cv = RepeatedStratifiedKFold(n_splits = 10, n_repeats = 3, random_state = 4)\n",
    "results = cross_val_score(model,x,y, scoring='accuracy', cv = cv)\n",
    "\n",
    "print('Accuracy: ',mean(results))"
   ]
  },
  {
   "cell_type": "code",
   "execution_count": 29,
   "id": "c39c7cd1",
   "metadata": {},
   "outputs": [],
   "source": [
    "y_test_pred = model.predict(x_test)"
   ]
  },
  {
   "cell_type": "code",
   "execution_count": 30,
   "id": "63518e8f",
   "metadata": {},
   "outputs": [],
   "source": [
    "y_pred_bagging = y_test_pred"
   ]
  },
  {
   "cell_type": "markdown",
   "id": "10d2dda9",
   "metadata": {},
   "source": [
    "# Boosting "
   ]
  },
  {
   "cell_type": "markdown",
   "id": "2abb9cc9",
   "metadata": {},
   "source": [
    "# Adaptive Boosting - Ada boost"
   ]
  },
  {
   "cell_type": "code",
   "execution_count": 31,
   "id": "724e87a7",
   "metadata": {},
   "outputs": [
    {
     "name": "stdout",
     "output_type": "stream",
     "text": [
      "train score:  0.5114942528735632\n",
      "test score:  0.5057471264367817\n"
     ]
    }
   ],
   "source": [
    "from sklearn.ensemble import AdaBoostClassifier\n",
    "\n",
    "x_train, x_test, y_train, y_test = train_test_split(x,y,train_size = 0.8,random_state = 5)\n",
    "\n",
    "clf = AdaBoostClassifier(random_state = 2)\n",
    "clf.fit(x_train, y_train)\n",
    "\n",
    "print('train score: ', clf.score(x_train, y_train))\n",
    "print('test score: ', clf.score(x_test, y_test))"
   ]
  },
  {
   "cell_type": "code",
   "execution_count": 32,
   "id": "803ecea1",
   "metadata": {},
   "outputs": [],
   "source": [
    "y_test_pred = clf.predict(x_test)"
   ]
  },
  {
   "cell_type": "code",
   "execution_count": 33,
   "id": "6a4e5d6b",
   "metadata": {},
   "outputs": [],
   "source": [
    "y_pred_adaboost = y_test_pred"
   ]
  },
  {
   "cell_type": "markdown",
   "id": "b78a246b",
   "metadata": {},
   "source": [
    "# Gradient Boosting"
   ]
  },
  {
   "cell_type": "code",
   "execution_count": 34,
   "id": "cfd870fe",
   "metadata": {},
   "outputs": [
    {
     "name": "stdout",
     "output_type": "stream",
     "text": [
      "train score:  1.0\n",
      "test score:  0.5977011494252874\n"
     ]
    }
   ],
   "source": [
    "from sklearn.ensemble import GradientBoostingClassifier\n",
    "\n",
    "x_train, x_test, y_train, y_test = train_test_split(x,y,train_size = 0.8,random_state = 5)\n",
    "\n",
    "clf = GradientBoostingClassifier(random_state = 2)\n",
    "clf.fit(x_train, y_train)\n",
    "\n",
    "print('train score: ', clf.score(x_train, y_train))\n",
    "print('test score: ', clf.score(x_test, y_test))"
   ]
  },
  {
   "cell_type": "code",
   "execution_count": 35,
   "id": "8719698f",
   "metadata": {},
   "outputs": [],
   "source": [
    "y_test_pred = clf.predict(x_test)"
   ]
  },
  {
   "cell_type": "code",
   "execution_count": 36,
   "id": "7ed66c28",
   "metadata": {},
   "outputs": [],
   "source": [
    "y_pred_gradientboost = y_test_pred"
   ]
  },
  {
   "cell_type": "markdown",
   "id": "c9b11055",
   "metadata": {},
   "source": [
    "# XGBoost"
   ]
  },
  {
   "cell_type": "code",
   "execution_count": 37,
   "id": "9c5068ec",
   "metadata": {},
   "outputs": [
    {
     "name": "stdout",
     "output_type": "stream",
     "text": [
      "Requirement already satisfied: xgboost in c:\\users\\226735 c2in\\appdata\\local\\programs\\python\\python37\\lib\\site-packages (1.6.2)\n",
      "Requirement already satisfied: scipy in c:\\users\\226735 c2in\\appdata\\local\\programs\\python\\python37\\lib\\site-packages (from xgboost) (1.7.3)\n",
      "Requirement already satisfied: numpy in c:\\users\\226735 c2in\\appdata\\local\\programs\\python\\python37\\lib\\site-packages (from xgboost) (1.19.5)\n",
      "Note: you may need to restart the kernel to use updated packages.\n"
     ]
    },
    {
     "name": "stderr",
     "output_type": "stream",
     "text": [
      "You are using pip version 19.0.3, however version 22.2.2 is available.\n",
      "You should consider upgrading via the 'python -m pip install --upgrade pip' command.\n"
     ]
    }
   ],
   "source": [
    "pip install xgboost"
   ]
  },
  {
   "cell_type": "code",
   "execution_count": 38,
   "id": "1cb8decd",
   "metadata": {},
   "outputs": [],
   "source": [
    "from xgboost import XGBClassifier\n",
    "\n",
    "x_train, x_test, y_train, y_test = train_test_split(x,y,train_size = 0.8,random_state = 5)\n",
    "\n",
    "d = {'B':0,'C':1,'M':2,'X':3}"
   ]
  },
  {
   "cell_type": "code",
   "execution_count": 39,
   "id": "26bc7ea9",
   "metadata": {},
   "outputs": [],
   "source": [
    "def f(char):\n",
    "    if(char == 'B'):\n",
    "        return d['B']\n",
    "    elif(char == 'C'):\n",
    "        return d['C']\n",
    "    elif(char == 'M'):\n",
    "        return d['M']\n",
    "    else:\n",
    "        return d['X']\n",
    "    \n",
    "y_train = y_train.apply(f)\n",
    "y_test = y_test.apply(f)"
   ]
  },
  {
   "cell_type": "code",
   "execution_count": 40,
   "id": "5260ae54",
   "metadata": {},
   "outputs": [
    {
     "name": "stdout",
     "output_type": "stream",
     "text": [
      "train score:  1.0\n",
      "test score:  0.632183908045977\n"
     ]
    }
   ],
   "source": [
    "clf = XGBClassifier(random_state = 2)\n",
    "clf.fit(x_train, y_train)\n",
    "\n",
    "print('train score: ', clf.score(x_train, y_train))\n",
    "print('test score: ', clf.score(x_test, y_test))"
   ]
  },
  {
   "cell_type": "code",
   "execution_count": 41,
   "id": "a1d2c4aa",
   "metadata": {},
   "outputs": [],
   "source": [
    "y_test_pred = clf.predict(x_test)"
   ]
  },
  {
   "cell_type": "code",
   "execution_count": 42,
   "id": "72d26351",
   "metadata": {},
   "outputs": [],
   "source": [
    "y_pred_xgboost = y_test_pred"
   ]
  },
  {
   "cell_type": "code",
   "execution_count": 43,
   "id": "57d55edd",
   "metadata": {},
   "outputs": [],
   "source": [
    "from sklearn.model_selection import train_test_split\n",
    "x_train, x_test, y_train, y_test = train_test_split(x,y,train_size = 0.8)"
   ]
  },
  {
   "cell_type": "markdown",
   "id": "9281335e",
   "metadata": {},
   "source": [
    "# Logistic Regression"
   ]
  },
  {
   "cell_type": "code",
   "execution_count": 44,
   "id": "c25bc877",
   "metadata": {},
   "outputs": [],
   "source": [
    "from sklearn.linear_model import LogisticRegression\n",
    "from sklearn import preprocessing"
   ]
  },
  {
   "cell_type": "code",
   "execution_count": 45,
   "id": "37a54ea1",
   "metadata": {},
   "outputs": [],
   "source": [
    "scaler = preprocessing.StandardScaler()\n",
    "scaler.fit(x_train)\n",
    "x_train_scaled = scaler.transform(x_train)\n",
    "scaler.fit(x_test)\n",
    "x_test_scaled = scaler.transform(x_test)"
   ]
  },
  {
   "cell_type": "code",
   "execution_count": 46,
   "id": "a4ed5114",
   "metadata": {},
   "outputs": [
    {
     "name": "stderr",
     "output_type": "stream",
     "text": [
      "c:\\users\\226735 c2in\\appdata\\local\\programs\\python\\python37\\lib\\site-packages\\sklearn\\linear_model\\_logistic.py:818: ConvergenceWarning: lbfgs failed to converge (status=2):\n",
      "ABNORMAL_TERMINATION_IN_LNSRCH.\n",
      "\n",
      "Increase the number of iterations (max_iter) or scale the data as shown in:\n",
      "    https://scikit-learn.org/stable/modules/preprocessing.html\n",
      "Please also refer to the documentation for alternative solver options:\n",
      "    https://scikit-learn.org/stable/modules/linear_model.html#logistic-regression\n",
      "  extra_warning_msg=_LOGISTIC_SOLVER_CONVERGENCE_MSG,\n"
     ]
    },
    {
     "data": {
      "text/plain": [
       "LogisticRegression()"
      ]
     },
     "execution_count": 46,
     "metadata": {},
     "output_type": "execute_result"
    }
   ],
   "source": [
    "clf = LogisticRegression()\n",
    "clf.fit(x_train, y_train)"
   ]
  },
  {
   "cell_type": "code",
   "execution_count": 47,
   "id": "32e06023",
   "metadata": {},
   "outputs": [
    {
     "data": {
      "text/plain": [
       "LogisticRegression()"
      ]
     },
     "execution_count": 47,
     "metadata": {},
     "output_type": "execute_result"
    }
   ],
   "source": [
    "clf2 = LogisticRegression()\n",
    "clf2.fit(x_train_scaled, y_train)"
   ]
  },
  {
   "cell_type": "code",
   "execution_count": 48,
   "id": "dd9d06c1",
   "metadata": {},
   "outputs": [
    {
     "data": {
      "text/plain": [
       "array(['B', 'B', 'B', 'B', 'B', 'B', 'B', 'B', 'B', 'B', 'B', 'B', 'B',\n",
       "       'B', 'B', 'B', 'B', 'B', 'B', 'B', 'B', 'B', 'B', 'B', 'B', 'B',\n",
       "       'B', 'B', 'B', 'B', 'B', 'B', 'B', 'B', 'B', 'B', 'B', 'B', 'B',\n",
       "       'B', 'B', 'B', 'B', 'B', 'B', 'B', 'B', 'B', 'B', 'B', 'B', 'B',\n",
       "       'B', 'B', 'B', 'B', 'B', 'B', 'B', 'B', 'B', 'B', 'B', 'B', 'B',\n",
       "       'B', 'B', 'B', 'B', 'B', 'B', 'B', 'B', 'B', 'B', 'B', 'B', 'B',\n",
       "       'B', 'B', 'B', 'B', 'B', 'B', 'B', 'B', 'B'], dtype=object)"
      ]
     },
     "execution_count": 48,
     "metadata": {},
     "output_type": "execute_result"
    }
   ],
   "source": [
    "clf.predict(x_test)"
   ]
  },
  {
   "cell_type": "code",
   "execution_count": 49,
   "id": "5cf81b5d",
   "metadata": {},
   "outputs": [
    {
     "name": "stderr",
     "output_type": "stream",
     "text": [
      "c:\\users\\226735 c2in\\appdata\\local\\programs\\python\\python37\\lib\\site-packages\\sklearn\\base.py:444: UserWarning: X has feature names, but LogisticRegression was fitted without feature names\n",
      "  f\"X has feature names, but {self.__class__.__name__} was fitted without\"\n"
     ]
    },
    {
     "data": {
      "text/plain": [
       "array(['X', 'X', 'X', 'X', 'X', 'X', 'X', 'X', 'X', 'X', 'X', 'X', 'X',\n",
       "       'X', 'X', 'X', 'X', 'X', 'X', 'X', 'X', 'X', 'X', 'X', 'X', 'X',\n",
       "       'X', 'X', 'X', 'X', 'X', 'X', 'X', 'X', 'X', 'X', 'X', 'X', 'X',\n",
       "       'X', 'X', 'X', 'X', 'X', 'X', 'X', 'X', 'X', 'X', 'X', 'X', 'X',\n",
       "       'X', 'X', 'X', 'X', 'X', 'X', 'X', 'X', 'X', 'X', 'X', 'X', 'X',\n",
       "       'X', 'X', 'X', 'X', 'X', 'X', 'X', 'X', 'X', 'X', 'X', 'X', 'X',\n",
       "       'X', 'X', 'X', 'X', 'X', 'X', 'X', 'X', 'X'], dtype=object)"
      ]
     },
     "execution_count": 49,
     "metadata": {},
     "output_type": "execute_result"
    }
   ],
   "source": [
    "clf2.predict(x_test)"
   ]
  },
  {
   "cell_type": "code",
   "execution_count": 50,
   "id": "1fcacb9e",
   "metadata": {},
   "outputs": [
    {
     "data": {
      "text/plain": [
       "LogisticRegression(max_iter=1000, multi_class='multinomial', solver='newton-cg')"
      ]
     },
     "execution_count": 50,
     "metadata": {},
     "output_type": "execute_result"
    }
   ],
   "source": [
    "clf3 = LogisticRegression(solver = \"newton-cg\", multi_class = 'multinomial', max_iter=1000)\n",
    "clf3.fit(x_train_scaled, y_train)"
   ]
  },
  {
   "cell_type": "code",
   "execution_count": 51,
   "id": "37119629",
   "metadata": {},
   "outputs": [
    {
     "name": "stderr",
     "output_type": "stream",
     "text": [
      "c:\\users\\226735 c2in\\appdata\\local\\programs\\python\\python37\\lib\\site-packages\\sklearn\\base.py:444: UserWarning: X has feature names, but LogisticRegression was fitted without feature names\n",
      "  f\"X has feature names, but {self.__class__.__name__} was fitted without\"\n"
     ]
    },
    {
     "data": {
      "text/plain": [
       "array(['X', 'X', 'X', 'X', 'X', 'X', 'X', 'X', 'X', 'X', 'X', 'X', 'X',\n",
       "       'X', 'X', 'X', 'X', 'X', 'X', 'X', 'X', 'X', 'X', 'X', 'X', 'X',\n",
       "       'X', 'X', 'X', 'X', 'X', 'X', 'X', 'X', 'X', 'X', 'X', 'X', 'X',\n",
       "       'X', 'X', 'X', 'X', 'X', 'X', 'X', 'X', 'X', 'X', 'X', 'X', 'X',\n",
       "       'X', 'X', 'X', 'X', 'X', 'X', 'X', 'X', 'X', 'X', 'X', 'X', 'X',\n",
       "       'X', 'X', 'X', 'X', 'X', 'X', 'X', 'X', 'X', 'X', 'X', 'X', 'X',\n",
       "       'X', 'X', 'X', 'X', 'X', 'X', 'X', 'X', 'X'], dtype=object)"
      ]
     },
     "execution_count": 51,
     "metadata": {},
     "output_type": "execute_result"
    }
   ],
   "source": [
    "clf3.predict(x_test)"
   ]
  },
  {
   "cell_type": "code",
   "execution_count": 52,
   "id": "9b78c9d9",
   "metadata": {},
   "outputs": [],
   "source": [
    "y_test_pred = clf2.predict(x_test_scaled)"
   ]
  },
  {
   "cell_type": "code",
   "execution_count": 53,
   "id": "a205628b",
   "metadata": {},
   "outputs": [
    {
     "data": {
      "text/plain": [
       "array([[24,  1,  1,  0],\n",
       "       [ 4, 17, 10,  0],\n",
       "       [ 3,  6, 14,  3],\n",
       "       [ 0,  0,  4,  0]], dtype=int64)"
      ]
     },
     "execution_count": 53,
     "metadata": {},
     "output_type": "execute_result"
    }
   ],
   "source": [
    "from sklearn.metrics import confusion_matrix\n",
    "confusion_matrix(y_test,y_test_pred)\n"
   ]
  },
  {
   "cell_type": "code",
   "execution_count": 54,
   "id": "fc2c2e57",
   "metadata": {},
   "outputs": [
    {
     "data": {
      "text/plain": [
       "0.632183908045977"
      ]
     },
     "execution_count": 54,
     "metadata": {},
     "output_type": "execute_result"
    }
   ],
   "source": [
    "clf2.score(x_test_scaled,y_test)"
   ]
  },
  {
   "cell_type": "code",
   "execution_count": 55,
   "id": "e9380be9",
   "metadata": {},
   "outputs": [],
   "source": [
    "from sklearn.metrics import accuracy_score"
   ]
  },
  {
   "cell_type": "code",
   "execution_count": 56,
   "id": "0b0004af",
   "metadata": {},
   "outputs": [
    {
     "data": {
      "text/plain": [
       "0.632183908045977"
      ]
     },
     "execution_count": 56,
     "metadata": {},
     "output_type": "execute_result"
    }
   ],
   "source": [
    "accuracy_score(y_test, y_test_pred)"
   ]
  },
  {
   "cell_type": "markdown",
   "id": "e3d78b07",
   "metadata": {},
   "source": [
    "# Random Forest"
   ]
  },
  {
   "cell_type": "code",
   "execution_count": 57,
   "id": "e0821b0b",
   "metadata": {},
   "outputs": [],
   "source": [
    "from sklearn.ensemble import RandomForestClassifier\n",
    "clf5 = RandomForestClassifier(random_state = 0)"
   ]
  },
  {
   "cell_type": "code",
   "execution_count": 58,
   "id": "2a8bba5b",
   "metadata": {},
   "outputs": [
    {
     "data": {
      "text/plain": [
       "RandomForestClassifier(random_state=0)"
      ]
     },
     "execution_count": 58,
     "metadata": {},
     "output_type": "execute_result"
    }
   ],
   "source": [
    "clf5.fit(x_train_scaled, y_train)"
   ]
  },
  {
   "cell_type": "code",
   "execution_count": 59,
   "id": "d5678999",
   "metadata": {},
   "outputs": [
    {
     "data": {
      "text/plain": [
       "0.5862068965517241"
      ]
     },
     "execution_count": 59,
     "metadata": {},
     "output_type": "execute_result"
    }
   ],
   "source": [
    "clf5.score(x_test_scaled,y_test)"
   ]
  },
  {
   "cell_type": "code",
   "execution_count": 60,
   "id": "90534ea3",
   "metadata": {},
   "outputs": [],
   "source": [
    "y_test_pred = clf5.predict(x_test_scaled)"
   ]
  },
  {
   "cell_type": "code",
   "execution_count": 61,
   "id": "036199a5",
   "metadata": {},
   "outputs": [],
   "source": [
    "y_pred_rf = y_test_pred"
   ]
  },
  {
   "cell_type": "code",
   "execution_count": 62,
   "id": "63f499ba",
   "metadata": {},
   "outputs": [
    {
     "data": {
      "text/plain": [
       "array([[24,  2,  0,  0],\n",
       "       [ 7, 10, 14,  0],\n",
       "       [ 3,  5, 17,  1],\n",
       "       [ 0,  0,  4,  0]], dtype=int64)"
      ]
     },
     "execution_count": 62,
     "metadata": {},
     "output_type": "execute_result"
    }
   ],
   "source": [
    "confusion_matrix(y_test,y_test_pred)"
   ]
  },
  {
   "cell_type": "code",
   "execution_count": 63,
   "id": "a2f4b2b9",
   "metadata": {},
   "outputs": [],
   "source": [
    "clf6 = RandomForestClassifier(random_state = 0, max_features = 7)"
   ]
  },
  {
   "cell_type": "code",
   "execution_count": 64,
   "id": "330c3fe4",
   "metadata": {},
   "outputs": [
    {
     "data": {
      "text/plain": [
       "0.5057471264367817"
      ]
     },
     "execution_count": 64,
     "metadata": {},
     "output_type": "execute_result"
    }
   ],
   "source": [
    "clf6.fit(x_train_scaled, y_train)\n",
    "clf6.score(x_test_scaled,y_test)"
   ]
  },
  {
   "cell_type": "code",
   "execution_count": 65,
   "id": "d792a47a",
   "metadata": {},
   "outputs": [
    {
     "data": {
      "text/plain": [
       "array([[19,  6,  1,  0],\n",
       "       [ 8,  9, 14,  0],\n",
       "       [ 2,  6, 16,  2],\n",
       "       [ 0,  0,  4,  0]], dtype=int64)"
      ]
     },
     "execution_count": 65,
     "metadata": {},
     "output_type": "execute_result"
    }
   ],
   "source": [
    "y_test_pred = clf6.predict(x_test_scaled)\n",
    "confusion_matrix(y_test,y_test_pred)"
   ]
  },
  {
   "cell_type": "code",
   "execution_count": 66,
   "id": "ee3e90f9",
   "metadata": {},
   "outputs": [
    {
     "data": {
      "text/plain": [
       "0.5057471264367817"
      ]
     },
     "execution_count": 66,
     "metadata": {},
     "output_type": "execute_result"
    }
   ],
   "source": [
    "accuracy_score(y_test, y_test_pred)"
   ]
  },
  {
   "cell_type": "code",
   "execution_count": 67,
   "id": "d1f3637b",
   "metadata": {},
   "outputs": [],
   "source": [
    "clf7 = RandomForestClassifier(n_estimators = 1000, \n",
    "                                       max_features=5, \n",
    "                                       )"
   ]
  },
  {
   "cell_type": "code",
   "execution_count": 68,
   "id": "4550dc98",
   "metadata": {},
   "outputs": [
    {
     "data": {
      "text/plain": [
       "0.5747126436781609"
      ]
     },
     "execution_count": 68,
     "metadata": {},
     "output_type": "execute_result"
    }
   ],
   "source": [
    "clf7.fit(x_train_scaled, y_train)\n",
    "clf7.score(x_test_scaled,y_test)"
   ]
  },
  {
   "cell_type": "markdown",
   "id": "20124304",
   "metadata": {},
   "source": [
    "# KNN"
   ]
  },
  {
   "cell_type": "code",
   "execution_count": 69,
   "id": "ac787ad8",
   "metadata": {},
   "outputs": [],
   "source": [
    "from sklearn.neighbors import KNeighborsClassifier\n",
    "from sklearn.model_selection import cross_val_score"
   ]
  },
  {
   "cell_type": "code",
   "execution_count": 70,
   "id": "19795434",
   "metadata": {},
   "outputs": [
    {
     "data": {
      "text/plain": [
       "KNeighborsClassifier()"
      ]
     },
     "execution_count": 70,
     "metadata": {},
     "output_type": "execute_result"
    }
   ],
   "source": [
    "clf7 = KNeighborsClassifier()\n",
    "clf7.fit(x_train_scaled, y_train)"
   ]
  },
  {
   "cell_type": "code",
   "execution_count": 71,
   "id": "7eda5b31",
   "metadata": {},
   "outputs": [
    {
     "data": {
      "text/plain": [
       "0.4942528735632184"
      ]
     },
     "execution_count": 71,
     "metadata": {},
     "output_type": "execute_result"
    }
   ],
   "source": [
    "clf7.score(x_test_scaled, y_test)"
   ]
  },
  {
   "cell_type": "code",
   "execution_count": 72,
   "id": "d0bfad63",
   "metadata": {},
   "outputs": [],
   "source": [
    "import matplotlib.pyplot as plt"
   ]
  },
  {
   "cell_type": "code",
   "execution_count": 73,
   "id": "f3a02994",
   "metadata": {},
   "outputs": [
    {
     "data": {
      "image/png": "[encoded data removed]",
      "text/plain": [
       "<Figure size 432x288 with 1 Axes>"
      ]
     },
     "metadata": {
      "needs_background": "light"
     },
     "output_type": "display_data"
    }
   ],
   "source": [
    "x_axis = []\n",
    "y_axis = []\n",
    "for i in range(1, 16, 2):\n",
    "    clf8 = KNeighborsClassifier(n_neighbors = i)\n",
    "    score = cross_val_score(clf8, x_train_scaled, y_train)\n",
    "    x_axis.append(i)\n",
    "    y_axis.append(score.mean())\n",
    "    \n",
    "plt.plot(x_axis,y_axis)\n",
    "plt.grid()\n",
    "plt.show()"
   ]
  },
  {
   "cell_type": "code",
   "execution_count": 74,
   "id": "9545e0fe",
   "metadata": {},
   "outputs": [
    {
     "data": {
      "text/plain": [
       "KNeighborsClassifier(n_neighbors=9)"
      ]
     },
     "execution_count": 74,
     "metadata": {},
     "output_type": "execute_result"
    }
   ],
   "source": [
    "clf9 = KNeighborsClassifier(n_neighbors=9)\n",
    "clf9.fit(x_train_scaled, y_train)"
   ]
  },
  {
   "cell_type": "code",
   "execution_count": 75,
   "id": "95f6fde3",
   "metadata": {},
   "outputs": [
    {
     "data": {
      "text/plain": [
       "0.5517241379310345"
      ]
     },
     "execution_count": 75,
     "metadata": {},
     "output_type": "execute_result"
    }
   ],
   "source": [
    "clf9.score(x_test_scaled, y_test)"
   ]
  },
  {
   "cell_type": "code",
   "execution_count": 76,
   "id": "27208496",
   "metadata": {},
   "outputs": [
    {
     "data": {
      "text/plain": [
       "array([[19,  7,  0,  0],\n",
       "       [ 6, 13, 12,  0],\n",
       "       [ 3,  7, 16,  0],\n",
       "       [ 0,  0,  4,  0]], dtype=int64)"
      ]
     },
     "execution_count": 76,
     "metadata": {},
     "output_type": "execute_result"
    }
   ],
   "source": [
    "y_test_pred = clf9.predict(x_test_scaled)\n",
    "confusion_matrix(y_test,y_test_pred)"
   ]
  },
  {
   "cell_type": "code",
   "execution_count": 77,
   "id": "653dd6a3",
   "metadata": {},
   "outputs": [],
   "source": [
    "y_pred_knn = y_test_pred"
   ]
  },
  {
   "cell_type": "code",
   "execution_count": 78,
   "id": "3a95f81d",
   "metadata": {},
   "outputs": [
    {
     "data": {
      "text/plain": [
       "0.5517241379310345"
      ]
     },
     "execution_count": 78,
     "metadata": {},
     "output_type": "execute_result"
    }
   ],
   "source": [
    "accuracy_score(y_test, y_test_pred)"
   ]
  },
  {
   "cell_type": "markdown",
   "id": "99652a44",
   "metadata": {},
   "source": [
    "# SVM"
   ]
  },
  {
   "cell_type": "code",
   "execution_count": 79,
   "id": "1f716ea0",
   "metadata": {},
   "outputs": [],
   "source": [
    "from sklearn.svm import SVC"
   ]
  },
  {
   "cell_type": "code",
   "execution_count": 80,
   "id": "f07f89fd",
   "metadata": {},
   "outputs": [
    {
     "data": {
      "text/plain": [
       "SVC(C=2)"
      ]
     },
     "execution_count": 80,
     "metadata": {},
     "output_type": "execute_result"
    }
   ],
   "source": [
    "clf10 = SVC(C=2)\n",
    "clf10.fit(x_train_scaled, y_train)"
   ]
  },
  {
   "cell_type": "code",
   "execution_count": 81,
   "id": "b94b0c78",
   "metadata": {},
   "outputs": [
    {
     "data": {
      "text/plain": [
       "0.6206896551724138"
      ]
     },
     "execution_count": 81,
     "metadata": {},
     "output_type": "execute_result"
    }
   ],
   "source": [
    "clf10.score(x_test_scaled, y_test)"
   ]
  },
  {
   "cell_type": "code",
   "execution_count": 82,
   "id": "1f208317",
   "metadata": {},
   "outputs": [],
   "source": [
    "# Grid search Cross validation for choosing paramters"
   ]
  },
  {
   "cell_type": "code",
   "execution_count": 83,
   "id": "1ae08f38",
   "metadata": {},
   "outputs": [],
   "source": [
    "from sklearn.model_selection import GridSearchCV"
   ]
  },
  {
   "cell_type": "code",
   "execution_count": 84,
   "id": "725f14ea",
   "metadata": {},
   "outputs": [
    {
     "data": {
      "text/plain": [
       "GridSearchCV(estimator=SVC(),\n",
       "             param_grid={'C': [100.0, 1000.0, 5000.0, 10000.0, 100000.0],\n",
       "                         'gamma': [0.001, 0.0005, 0.0001, 0.005]})"
      ]
     },
     "execution_count": 84,
     "metadata": {},
     "output_type": "execute_result"
    }
   ],
   "source": [
    "clf11 = SVC()\n",
    "grid = {'C':[1e2, 1e3, 5e3, 1e4, 1e5],\n",
    "       'gamma': [1e-3, 5e-4, 1e-4, 5e-3]}\n",
    "abc = GridSearchCV(clf11, grid)\n",
    "abc.fit(x_train_scaled, y_train)"
   ]
  },
  {
   "cell_type": "code",
   "execution_count": 85,
   "id": "ff6ec5c5",
   "metadata": {},
   "outputs": [
    {
     "data": {
      "text/plain": [
       "SVC(C=100.0, gamma=0.005)"
      ]
     },
     "execution_count": 85,
     "metadata": {},
     "output_type": "execute_result"
    }
   ],
   "source": [
    "abc.best_estimator_"
   ]
  },
  {
   "cell_type": "code",
   "execution_count": 86,
   "id": "a41e0195",
   "metadata": {},
   "outputs": [
    {
     "data": {
      "text/plain": [
       "SVC(C=100, gamma=0.0005)"
      ]
     },
     "execution_count": 86,
     "metadata": {},
     "output_type": "execute_result"
    }
   ],
   "source": [
    "clf12 = SVC(C=100, gamma = 0.0005)\n",
    "clf12.fit(x_train_scaled, y_train)"
   ]
  },
  {
   "cell_type": "code",
   "execution_count": 87,
   "id": "adfbc9de",
   "metadata": {},
   "outputs": [
    {
     "data": {
      "text/plain": [
       "0.7011494252873564"
      ]
     },
     "execution_count": 87,
     "metadata": {},
     "output_type": "execute_result"
    }
   ],
   "source": [
    "clf12.score(x_test_scaled, y_test)"
   ]
  },
  {
   "cell_type": "code",
   "execution_count": 88,
   "id": "717e02ed",
   "metadata": {},
   "outputs": [
    {
     "data": {
      "text/plain": [
       "array([[25,  1,  0,  0],\n",
       "       [ 4, 18,  9,  0],\n",
       "       [ 2,  6, 18,  0],\n",
       "       [ 0,  0,  4,  0]], dtype=int64)"
      ]
     },
     "execution_count": 88,
     "metadata": {},
     "output_type": "execute_result"
    }
   ],
   "source": [
    "y_test_pred = clf12.predict(x_test_scaled)\n",
    "confusion_matrix(y_test,y_test_pred)"
   ]
  },
  {
   "cell_type": "code",
   "execution_count": 89,
   "id": "37648eef",
   "metadata": {},
   "outputs": [],
   "source": [
    "y_pred_svm = y_test_pred"
   ]
  },
  {
   "cell_type": "markdown",
   "id": "36cb59e5",
   "metadata": {},
   "source": [
    "# Naive Bayes"
   ]
  },
  {
   "cell_type": "code",
   "execution_count": 90,
   "id": "ec011984",
   "metadata": {},
   "outputs": [],
   "source": [
    "from sklearn.naive_bayes import GaussianNB"
   ]
  },
  {
   "cell_type": "code",
   "execution_count": 91,
   "id": "f336a40e",
   "metadata": {},
   "outputs": [
    {
     "data": {
      "text/plain": [
       "GaussianNB()"
      ]
     },
     "execution_count": 91,
     "metadata": {},
     "output_type": "execute_result"
    }
   ],
   "source": [
    "clf13 = GaussianNB()\n",
    "clf13.fit(x_train_scaled, y_train)"
   ]
  },
  {
   "cell_type": "code",
   "execution_count": 92,
   "id": "a7d88a4f",
   "metadata": {},
   "outputs": [
    {
     "data": {
      "text/plain": [
       "array([[25,  1,  0,  0],\n",
       "       [ 4, 18,  9,  0],\n",
       "       [ 2,  6, 18,  0],\n",
       "       [ 0,  0,  4,  0]], dtype=int64)"
      ]
     },
     "execution_count": 92,
     "metadata": {},
     "output_type": "execute_result"
    }
   ],
   "source": [
    "y_pred = clf13.predict(x_test_scaled)\n",
    "confusion_matrix(y_test, y_test_pred)"
   ]
  },
  {
   "cell_type": "code",
   "execution_count": 93,
   "id": "9f7a4e97",
   "metadata": {},
   "outputs": [],
   "source": [
    "y_pred_nb = y_pred"
   ]
  },
  {
   "cell_type": "code",
   "execution_count": 94,
   "id": "30f22143",
   "metadata": {},
   "outputs": [
    {
     "data": {
      "text/plain": [
       "array(['B', 'B', 'C', 'B', 'M', 'C', 'B', 'C', 'M', 'X', 'X', 'B', 'M',\n",
       "       'B', 'B', 'M', 'C', 'B', 'X', 'X', 'X', 'B', 'B', 'M', 'C', 'B',\n",
       "       'B', 'B', 'C', 'B', 'B', 'C', 'B', 'M', 'X', 'B', 'B', 'B', 'C',\n",
       "       'M', 'X', 'B', 'M', 'X', 'C', 'C', 'M', 'M', 'M', 'B', 'C', 'M',\n",
       "       'B', 'B', 'B', 'B', 'M', 'M', 'B', 'C', 'C', 'C', 'M', 'B', 'C',\n",
       "       'X', 'B', 'B', 'B', 'M', 'B', 'B', 'M', 'M', 'M', 'C', 'C', 'M',\n",
       "       'B', 'C', 'B', 'C', 'B', 'B', 'M', 'B', 'C'], dtype='<U1')"
      ]
     },
     "execution_count": 94,
     "metadata": {},
     "output_type": "execute_result"
    }
   ],
   "source": [
    "y_pred_nb"
   ]
  },
  {
   "cell_type": "code",
   "execution_count": 95,
   "id": "aeaed8ef",
   "metadata": {},
   "outputs": [
    {
     "data": {
      "text/plain": [
       "0.5747126436781609"
      ]
     },
     "execution_count": 95,
     "metadata": {},
     "output_type": "execute_result"
    }
   ],
   "source": [
    "clf13.score(x_test_scaled, y_test)"
   ]
  },
  {
   "cell_type": "markdown",
   "id": "050e73de",
   "metadata": {},
   "source": [
    "# ENS for RF, SVM, KNN"
   ]
  },
  {
   "cell_type": "code",
   "execution_count": 96,
   "id": "ac0cda5f",
   "metadata": {},
   "outputs": [],
   "source": [
    "def compute_ens_result(rf_result, knn_result, svm_result):\n",
    "    final_results = []\n",
    "    for i in range(0, len(rf_result)):\n",
    "        rf_p = rf_result[i]\n",
    "        knn_p = knn_result[i]\n",
    "        svm_p = svm_result[i]\n",
    "        if rf_p == knn_p and rf_p == svm_p :\n",
    "            final_results.append(rf_p) \n",
    "        elif rf_p == knn_p or rf_p == svm_p :\n",
    "            final_results.append(rf_p)\n",
    "        elif svm_p == knn_p :\n",
    "            final_results.append(knn_p)\n",
    "        else :\n",
    "            final_results.append(rf_p)\n",
    "    \n",
    "    return final_results"
   ]
  },
  {
   "cell_type": "code",
   "execution_count": 97,
   "id": "b4627184",
   "metadata": {},
   "outputs": [],
   "source": [
    "ens = compute_ens_result(y_pred_rf,y_pred_knn,y_pred_svm)"
   ]
  },
  {
   "cell_type": "code",
   "execution_count": 98,
   "id": "fece9b69",
   "metadata": {},
   "outputs": [
    {
     "data": {
      "text/plain": [
       "array([[24,  2,  0,  0],\n",
       "       [ 5, 13, 13,  0],\n",
       "       [ 3,  6, 17,  0],\n",
       "       [ 0,  0,  4,  0]], dtype=int64)"
      ]
     },
     "execution_count": 98,
     "metadata": {},
     "output_type": "execute_result"
    }
   ],
   "source": [
    "confusion_matrix(y_test, ens)"
   ]
  },
  {
   "cell_type": "code",
   "execution_count": 99,
   "id": "3c0bb137",
   "metadata": {},
   "outputs": [],
   "source": [
    "labels = ['B','C','M','X']"
   ]
  },
  {
   "cell_type": "code",
   "execution_count": 100,
   "id": "9d1c3df5",
   "metadata": {},
   "outputs": [],
   "source": [
    "from sklearn.metrics import multilabel_confusion_matrix"
   ]
  },
  {
   "cell_type": "code",
   "execution_count": 101,
   "id": "f17e3a19",
   "metadata": {},
   "outputs": [],
   "source": [
    "def log_cv_report(y_true, y_pred):\n",
    "    labels = ['B','C','M','X']\n",
    "    r = multilabel_confusion_matrix(y_true, y_pred,labels=labels)\n",
    "    pm={}\n",
    "    \n",
    "    for i in range(len(labels)):\n",
    "        l = labels[i]\n",
    "        c = {}\n",
    "        cm = r[i]\n",
    "        c['TN'] = cm[0][0]\n",
    "        c['FN'] = cm[1][0]\n",
    "        c['TP'] = cm[1][1]\n",
    "        c['FP'] = cm[0][1]\n",
    "        c['T'] = cm.sum()\n",
    "        if (c['FP'] == 0):\n",
    "            c['TN'] = c['TN'] - 1\n",
    "            c['FP'] = 1\n",
    "        if (c['FN'] == 0):\n",
    "            c['TP'] = c['TP'] - 1\n",
    "            c['FN'] = 1\n",
    "                  \n",
    "        pm[l] = calc_metrics(c['TP'],c['TN'],c['FP'],c['FN'])\n",
    "        \n",
    "    ac = accuracy_score(y_true, y_pred)\n",
    "    print('Prediction accuracy: ',ac)\n",
    "    return pm;"
   ]
  },
  {
   "cell_type": "code",
   "execution_count": 102,
   "id": "ef5b5e22",
   "metadata": {},
   "outputs": [],
   "source": [
    "def truncate_float(number, digits=4) -> float:\n",
    "    try :\n",
    "        if math.isnan(number):\n",
    "            return 0.0\n",
    "        stepper = 10.0 ** digits\n",
    "        return math.trunc(stepper * number) / stepper\n",
    "    except Exception as e:\n",
    "        return number"
   ]
  },
  {
   "cell_type": "code",
   "execution_count": 103,
   "id": "0cc26329",
   "metadata": {},
   "outputs": [],
   "source": [
    "def calc_metrics(TP,TN,FP,FN):\n",
    "    P = TP + FN \n",
    "    N = TN + FP\n",
    "    T = N + P \n",
    "    accuracy = 0\n",
    "    balanced_accuracy = 0 \n",
    "    precision = 0 \n",
    "    recall = 0 \n",
    "    TSS = 0 \n",
    "    \n",
    "\n",
    "    accuracy = (TP+TN) / (TP+FP+TN+FN)\n",
    "    BACC =  ( (TP/(TP + FN)) + (TN/(TN + FP)) ) /2\n",
    "    TPR = TP/(TP+FN)\n",
    "    FPR = FP/(FP+TN)\n",
    "    precision = TP / (TP + FP)\n",
    "    recall = TP / (TP  + FN) \n",
    "    TSS = (TP/(TP+FN)) - (FP/(FP+TN))\n",
    "\n",
    "\n",
    "    return [truncate_float(BACC),truncate_float(TSS)]"
   ]
  },
  {
   "cell_type": "code",
   "execution_count": 104,
   "id": "c5b0a896",
   "metadata": {},
   "outputs": [
    {
     "name": "stdout",
     "output_type": "stream",
     "text": [
      "Prediction accuracy:  0.6206896551724138\n"
     ]
    },
    {
     "data": {
      "text/plain": [
       "{'B': [0.8959646910466583, 0.7919293820933165],\n",
       " 'C': [0.6382488479262672, 0.2764976958525346],\n",
       " 'M': [0.687578814627995, 0.37515762925598994],\n",
       " 'X': [0.4939759036144578, -0.012048192771084338]}"
      ]
     },
     "execution_count": 104,
     "metadata": {},
     "output_type": "execute_result"
    }
   ],
   "source": [
    "BACC_TSS_BCMX = log_cv_report(y_test,ens)\n",
    "BACC_TSS_BCMX"
   ]
  },
  {
   "cell_type": "markdown",
   "id": "9276ba04",
   "metadata": {},
   "source": [
    "# ENS for RF, Gradient, AdaBoost"
   ]
  },
  {
   "cell_type": "code",
   "execution_count": 105,
   "id": "1165acea",
   "metadata": {},
   "outputs": [],
   "source": [
    "def compute_ens_result(rf_result, gradient_result, adaboost_result):\n",
    "    final_results = []\n",
    "    for i in range(0, len(rf_result)):\n",
    "        rf_p = rf_result[i]\n",
    "        gradient_p = gradient_result[i]\n",
    "        adaboost_p = adaboost_result[i]\n",
    "        if rf_p == gradient_p and rf_p == adaboost_p :\n",
    "            final_results.append(rf_p) \n",
    "        elif rf_p == gradient_p or rf_p == adaboost_p :\n",
    "            final_results.append(rf_p)\n",
    "        elif adaboost_p == gradient_p :\n",
    "            final_results.append(gradient_p)\n",
    "        else :\n",
    "            final_results.append(rf_p)\n",
    "    \n",
    "    return final_results"
   ]
  },
  {
   "cell_type": "code",
   "execution_count": 106,
   "id": "b17cc914",
   "metadata": {},
   "outputs": [],
   "source": [
    "ens = compute_ens_result(y_pred_rf,y_pred_adaboost,y_pred_gradientboost)"
   ]
  },
  {
   "cell_type": "code",
   "execution_count": 107,
   "id": "d93a5433",
   "metadata": {},
   "outputs": [
    {
     "data": {
      "text/plain": [
       "array([[19,  1,  4,  2],\n",
       "       [14,  7,  8,  2],\n",
       "       [ 7,  5, 13,  1],\n",
       "       [ 2,  1,  1,  0]], dtype=int64)"
      ]
     },
     "execution_count": 107,
     "metadata": {},
     "output_type": "execute_result"
    }
   ],
   "source": [
    "confusion_matrix(y_test, ens)"
   ]
  },
  {
   "cell_type": "code",
   "execution_count": 108,
   "id": "552cd6ff",
   "metadata": {},
   "outputs": [],
   "source": [
    "def log_cv_report(y_true, y_pred):\n",
    "    labels = ['B','C','M','X']\n",
    "    r = multilabel_confusion_matrix(y_true, y_pred,labels=labels)\n",
    "    pm={}\n",
    "    \n",
    "    for i in range(len(labels)):\n",
    "        l = labels[i]\n",
    "        c = {}\n",
    "        cm = r[i]\n",
    "        c['TN'] = cm[0][0]\n",
    "        c['FN'] = cm[1][0]\n",
    "        c['TP'] = cm[1][1]\n",
    "        c['FP'] = cm[0][1]\n",
    "        c['T'] = cm.sum()\n",
    "        if (c['FP'] == 0):\n",
    "            c['TN'] = c['TN'] - 1\n",
    "            c['FP'] = 1\n",
    "        if (c['FN'] == 0):\n",
    "            c['TP'] = c['TP'] - 1\n",
    "            c['FN'] = 1\n",
    "                  \n",
    "        pm[l] = calc_metrics(c['TP'],c['TN'],c['FP'],c['FN'])\n",
    "        \n",
    "    ac = accuracy_score(y_true, y_pred)\n",
    "    print('Prediction accuracy: ',ac)\n",
    "    return pm;"
   ]
  },
  {
   "cell_type": "code",
   "execution_count": 109,
   "id": "73cd3e04",
   "metadata": {},
   "outputs": [],
   "source": [
    "def truncate_float(number, digits=4) -> float:\n",
    "    try :\n",
    "        if math.isnan(number):\n",
    "            return 0.0\n",
    "        stepper = 10.0 ** digits\n",
    "        return math.trunc(stepper * number) / stepper\n",
    "    except Exception as e:\n",
    "        return number"
   ]
  },
  {
   "cell_type": "code",
   "execution_count": 110,
   "id": "b2b8b620",
   "metadata": {},
   "outputs": [],
   "source": [
    "def calc_metrics(TP,TN,FP,FN):\n",
    "    P = TP + FN \n",
    "    N = TN + FP\n",
    "    T = N + P \n",
    "    accuracy = 0\n",
    "    balanced_accuracy = 0 \n",
    "    precision = 0 \n",
    "    recall = 0 \n",
    "    TSS = 0 \n",
    "    \n",
    "\n",
    "    accuracy = (TP+TN) / (TP+FP+TN+FN)\n",
    "    BACC =  ( (TP/(TP + FN)) + (TN/(TN + FP)) ) /2\n",
    "    TPR = TP/(TP+FN)\n",
    "    FPR = FP/(FP+TN)\n",
    "    precision = TP / (TP + FP)\n",
    "    recall = TP / (TP  + FN) \n",
    "    TSS = (TP/(TP+FN)) - (FP/(FP+TN))\n",
    "\n",
    "\n",
    "    return [truncate_float(BACC),truncate_float(TSS)]"
   ]
  },
  {
   "cell_type": "code",
   "execution_count": 111,
   "id": "27fd7a45",
   "metadata": {},
   "outputs": [
    {
     "name": "stdout",
     "output_type": "stream",
     "text": [
      "Prediction accuracy:  0.4482758620689655\n"
     ]
    },
    {
     "data": {
      "text/plain": [
       "{'B': [0.6768600252206809, 0.3537200504413619],\n",
       " 'C': [0.5504032258064516, 0.10080645161290322],\n",
       " 'M': [0.6434426229508197, 0.28688524590163933],\n",
       " 'X': [0.46987951807228917, -0.060240963855421686]}"
      ]
     },
     "execution_count": 111,
     "metadata": {},
     "output_type": "execute_result"
    }
   ],
   "source": [
    "BACC_TSS_BCMX = log_cv_report(y_test,ens)\n",
    "BACC_TSS_BCMX"
   ]
  },
  {
   "cell_type": "markdown",
   "id": "bbde91bd",
   "metadata": {},
   "source": [
    "# RF"
   ]
  },
  {
   "cell_type": "code",
   "execution_count": 112,
   "id": "4abf8f15",
   "metadata": {},
   "outputs": [],
   "source": [
    "# From initial dataset to training-test split"
   ]
  },
  {
   "cell_type": "code",
   "execution_count": 113,
   "id": "afb27ac9",
   "metadata": {},
   "outputs": [
    {
     "name": "stdout",
     "output_type": "stream",
     "text": [
      "[0.61363636 0.61363636 0.72727273 0.63636364 0.61363636 0.77272727\n",
      " 0.70454545 0.70454545 0.63636364 0.65909091]\n",
      "0.6681818181818182\n",
      "Wall time: 2.02 s\n"
     ]
    }
   ],
   "source": [
    "%%time\n",
    "from sklearn.model_selection import cross_val_score\n",
    "from sklearn.model_selection import ShuffleSplit\n",
    "from sklearn.ensemble import RandomForestClassifier\n",
    "\n",
    "model = RandomForestClassifier()\n",
    "ssplit = ShuffleSplit(n_splits = 10, test_size = 0.10)\n",
    "results = cross_val_score(model, x, y, cv = ssplit)\n",
    "print(results)\n",
    "print(np.mean(results))"
   ]
  },
  {
   "cell_type": "code",
   "execution_count": 114,
   "id": "8ce447ce",
   "metadata": {},
   "outputs": [],
   "source": [
    "# Repeated random test-train splits"
   ]
  },
  {
   "cell_type": "code",
   "execution_count": 115,
   "id": "1822c407",
   "metadata": {},
   "outputs": [
    {
     "name": "stdout",
     "output_type": "stream",
     "text": [
      "[0.59090909 0.59090909 0.75       0.61363636 0.59090909 0.72727273\n",
      " 0.61363636 0.63636364 0.70454545 0.61363636]\n",
      "0.6431818181818182\n",
      "Wall time: 1.88 s\n"
     ]
    }
   ],
   "source": [
    "%%time\n",
    "from sklearn.model_selection import cross_val_score\n",
    "from sklearn.model_selection import ShuffleSplit\n",
    "from sklearn.ensemble import RandomForestClassifier\n",
    "\n",
    "model = RandomForestClassifier()\n",
    "ssplit = ShuffleSplit(n_splits = 10, test_size = 0.10)\n",
    "results = cross_val_score(model, x, y, cv = ssplit)\n",
    "print(results)\n",
    "print(np.mean(results))"
   ]
  },
  {
   "cell_type": "code",
   "execution_count": 116,
   "id": "e89cb8d7",
   "metadata": {},
   "outputs": [],
   "source": [
    "# From initial dataset to training-validation-test split"
   ]
  },
  {
   "cell_type": "code",
   "execution_count": 117,
   "id": "d9623033",
   "metadata": {},
   "outputs": [
    {
     "name": "stdout",
     "output_type": "stream",
     "text": [
      "validation set score\n",
      "0.5813953488372093\n",
      "test score\n",
      "0.6363636363636364\n",
      "Wall time: 232 ms\n"
     ]
    }
   ],
   "source": [
    "%%time\n",
    "from sklearn.model_selection import train_test_split\n",
    "from sklearn.ensemble import RandomForestClassifier\n",
    "\n",
    "x_train, x_rem, y_train, y_rem = train_test_split(x, y, train_size = 0.8)\n",
    "\n",
    "test_size = 0.5\n",
    "x_valid, x_test, y_valid, y_test = train_test_split(x_rem, y_rem, test_size = test_size)\n",
    "\n",
    "model = RandomForestClassifier()\n",
    "model.fit(x_train, y_train)\n",
    "print(\"validation set score\")\n",
    "result = model.score(x_valid, y_valid)\n",
    "print(result)\n",
    "print(\"test score\")\n",
    "result = model.score(x_test, y_test)\n",
    "print(result)"
   ]
  },
  {
   "cell_type": "code",
   "execution_count": 118,
   "id": "4d577f40",
   "metadata": {},
   "outputs": [],
   "source": [
    "# K fold cross validation"
   ]
  },
  {
   "cell_type": "code",
   "execution_count": 119,
   "id": "3767eca1",
   "metadata": {},
   "outputs": [
    {
     "name": "stdout",
     "output_type": "stream",
     "text": [
      "[0.22727273 0.52272727 0.56818182 0.75       0.77272727 0.44186047\n",
      " 0.65116279 0.37209302 0.51162791 0.41860465]\n",
      "0.5236257928118393\n",
      "Wall time: 2.14 s\n"
     ]
    }
   ],
   "source": [
    "%%time\n",
    "from sklearn.model_selection import KFold\n",
    "from sklearn.model_selection import cross_val_score\n",
    "from sklearn.ensemble import RandomForestClassifier\n",
    "\n",
    "model = RandomForestClassifier()\n",
    "kfold_validation = KFold(10)\n",
    "results = cross_val_score(model, x, y, cv = kfold_validation)\n",
    "print(results)\n",
    "print(np.mean(results))"
   ]
  },
  {
   "cell_type": "code",
   "execution_count": 120,
   "id": "0a206dc9",
   "metadata": {},
   "outputs": [],
   "source": [
    "# Stratified k-fold Cross Validation"
   ]
  },
  {
   "cell_type": "code",
   "execution_count": 121,
   "id": "6cd5a91a",
   "metadata": {},
   "outputs": [
    {
     "name": "stdout",
     "output_type": "stream",
     "text": [
      "[0.65909091 0.40909091 0.70454545 0.59090909 0.63636364 0.53488372\n",
      " 0.69767442 0.6744186  0.69767442 0.65116279]\n",
      "0.6255813953488373\n",
      "Wall time: 2.05 s\n"
     ]
    }
   ],
   "source": [
    "%%time\n",
    "from sklearn.model_selection import StratifiedKFold\n",
    "from sklearn.model_selection import cross_val_score\n",
    "from sklearn.ensemble import RandomForestClassifier\n",
    "\n",
    "skfold = StratifiedKFold(n_splits=10)\n",
    "model = RandomForestClassifier()\n",
    "scores = cross_val_score(model, x, y, cv=skfold)\n",
    "print(scores)\n",
    "print(np.mean(scores))"
   ]
  },
  {
   "cell_type": "code",
   "execution_count": 122,
   "id": "458fe3f2",
   "metadata": {},
   "outputs": [],
   "source": [
    "# leave-one-out cross validation(LOOCV)"
   ]
  },
  {
   "cell_type": "code",
   "execution_count": 123,
   "id": "3fca7912",
   "metadata": {},
   "outputs": [
    {
     "name": "stdout",
     "output_type": "stream",
     "text": [
      "[0. 0. 0. 0. 0. 0. 0. 1. 0. 0. 0. 0. 0. 0. 0. 0. 1. 1. 1. 1. 1. 0. 0. 1.\n",
      " 0. 0. 0. 0. 1. 1. 1. 1. 0. 1. 1. 1. 1. 0. 1. 1. 0. 0. 0. 0. 0. 0. 0. 0.\n",
      " 1. 0. 0. 1. 0. 1. 1. 0. 1. 1. 1. 1. 1. 1. 1. 1. 0. 0. 1. 1. 1. 1. 1. 0.\n",
      " 0. 1. 1. 1. 0. 1. 0. 1. 0. 1. 1. 1. 1. 1. 1. 1. 1. 1. 1. 0. 1. 1. 0. 1.\n",
      " 0. 1. 1. 0. 1. 1. 1. 1. 1. 1. 1. 1. 1. 1. 1. 0. 1. 0. 1. 0. 1. 0. 1. 1.\n",
      " 0. 1. 0. 0. 0. 1. 1. 1. 1. 1. 1. 1. 1. 1. 1. 0. 1. 1. 1. 1. 1. 1. 1. 1.\n",
      " 0. 1. 1. 1. 1. 1. 1. 1. 1. 1. 1. 0. 1. 1. 0. 1. 1. 1. 1. 1. 0. 1. 1. 1.\n",
      " 1. 1. 1. 1. 1. 1. 1. 1. 1. 1. 1. 1. 1. 0. 0. 1. 0. 1. 1. 1. 1. 1. 1. 1.\n",
      " 1. 1. 1. 1. 1. 1. 1. 1. 1. 1. 1. 1. 1. 1. 1. 1. 1. 1. 1. 1. 1. 1. 1. 1.\n",
      " 1. 0. 1. 1. 1. 1. 1. 0. 1. 1. 0. 1. 1. 0. 1. 1. 0. 1. 0. 0. 0. 1. 1. 0.\n",
      " 1. 1. 1. 0. 1. 1. 0. 1. 1. 0. 0. 0. 1. 1. 1. 1. 1. 1. 1. 0. 1. 0. 1. 0.\n",
      " 1. 0. 1. 1. 1. 1. 1. 0. 0. 1. 1. 1. 0. 1. 1. 1. 1. 0. 0. 1. 0. 1. 1. 1.\n",
      " 1. 1. 1. 1. 1. 1. 0. 0. 1. 1. 1. 1. 1. 1. 0. 0. 1. 1. 0. 1. 0. 0. 0. 0.\n",
      " 1. 0. 1. 0. 1. 0. 1. 1. 1. 0. 1. 0. 1. 0. 1. 0. 1. 1. 1. 0. 0. 0. 0. 0.\n",
      " 0. 0. 1. 0. 1. 1. 0. 1. 0. 0. 0. 0. 0. 0. 1. 1. 0. 1. 1. 0. 1. 0. 1. 1.\n",
      " 0. 1. 0. 0. 1. 0. 0. 1. 1. 1. 1. 1. 1. 0. 0. 0. 1. 0. 0. 1. 1. 0. 1. 1.\n",
      " 1. 1. 1. 1. 0. 1. 1. 0. 0. 0. 1. 1. 0. 1. 0. 1. 0. 1. 0. 1. 1. 1. 0. 1.\n",
      " 0. 0. 0. 1. 1. 1. 0. 0. 1. 0. 1. 0. 1. 1. 1. 0. 0. 1. 0. 1. 1. 0. 1. 0.\n",
      " 1. 0. 1.]\n",
      "435\n",
      "0.6482758620689655\n",
      "Wall time: 1min 34s\n"
     ]
    }
   ],
   "source": [
    "%%time\n",
    "from sklearn.model_selection import LeaveOneOut\n",
    "from sklearn.ensemble import RandomForestClassifier\n",
    "from sklearn.model_selection import cross_val_score\n",
    "\n",
    "model = RandomForestClassifier()\n",
    "leave_validation = LeaveOneOut()\n",
    "results = cross_val_score(model, x, y, cv=leave_validation)\n",
    "print(results)\n",
    "print(len(results))\n",
    "print(np.mean(results))"
   ]
  },
  {
   "cell_type": "markdown",
   "id": "ec0cff66",
   "metadata": {},
   "source": [
    "# KNN"
   ]
  },
  {
   "cell_type": "code",
   "execution_count": 124,
   "id": "993d6683",
   "metadata": {},
   "outputs": [],
   "source": [
    "# From initial dataset to training-test split"
   ]
  },
  {
   "cell_type": "code",
   "execution_count": 125,
   "id": "5eca0f05",
   "metadata": {},
   "outputs": [
    {
     "name": "stdout",
     "output_type": "stream",
     "text": [
      "[(348, 13), (348,)]\n",
      "[(87, 13), (87,)]\n",
      "0.4827586206896552\n",
      "Wall time: 6.29 ms\n"
     ]
    }
   ],
   "source": [
    "%%time\n",
    "from sklearn.model_selection import train_test_split\n",
    "from sklearn.neighbors import KNeighborsClassifier\n",
    "\n",
    "x_train, x_test, y_train, y_test = train_test_split(x,y,train_size = 0.8)\n",
    "\n",
    "print([x_train.shape, y_train.shape])\n",
    "print([x_test.shape, y_test.shape])\n",
    "\n",
    "model = KNeighborsClassifier()\n",
    "model.fit(x_train, y_train)\n",
    "result = model.score(x_test,y_test)\n",
    "print(result)"
   ]
  },
  {
   "cell_type": "code",
   "execution_count": 126,
   "id": "4ff0338d",
   "metadata": {},
   "outputs": [],
   "source": [
    "# Repeated random test-train splits"
   ]
  },
  {
   "cell_type": "code",
   "execution_count": 127,
   "id": "e27e5f0e",
   "metadata": {},
   "outputs": [
    {
     "name": "stdout",
     "output_type": "stream",
     "text": [
      "[0.47727273 0.47727273 0.47727273 0.54545455 0.61363636 0.43181818\n",
      " 0.47727273 0.5        0.61363636 0.43181818]\n",
      "0.5045454545454545\n",
      "Wall time: 124 ms\n"
     ]
    }
   ],
   "source": [
    "%%time\n",
    "from sklearn.model_selection import cross_val_score\n",
    "from sklearn.model_selection import ShuffleSplit\n",
    "from sklearn.neighbors import KNeighborsClassifier\n",
    "\n",
    "model = KNeighborsClassifier()\n",
    "ssplit = ShuffleSplit(n_splits = 10, test_size = 0.10)\n",
    "results = cross_val_score(model, x, y, cv = ssplit)\n",
    "print(results)\n",
    "print(np.mean(results))"
   ]
  },
  {
   "cell_type": "code",
   "execution_count": 128,
   "id": "124506e9",
   "metadata": {},
   "outputs": [],
   "source": [
    "# From initial dataset to training-validation-test split"
   ]
  },
  {
   "cell_type": "code",
   "execution_count": 129,
   "id": "310852d7",
   "metadata": {},
   "outputs": [
    {
     "name": "stdout",
     "output_type": "stream",
     "text": [
      "validation set score\n",
      "0.4418604651162791\n",
      "test score\n",
      "0.4772727272727273\n",
      "Wall time: 32.2 ms\n"
     ]
    }
   ],
   "source": [
    "%%time\n",
    "from sklearn.model_selection import train_test_split\n",
    "from sklearn.neighbors import KNeighborsClassifier\n",
    "\n",
    "x_train, x_rem, y_train, y_rem = train_test_split(x, y, train_size = 0.8)\n",
    "\n",
    "test_size = 0.5\n",
    "x_valid, x_test, y_valid, y_test = train_test_split(x_rem, y_rem, test_size = test_size)\n",
    "\n",
    "model = KNeighborsClassifier()\n",
    "model.fit(x_train, y_train)\n",
    "print(\"validation set score\")\n",
    "result = model.score(x_valid, y_valid)\n",
    "print(result)\n",
    "print(\"test score\")\n",
    "result = model.score(x_test, y_test)\n",
    "print(result)"
   ]
  },
  {
   "cell_type": "code",
   "execution_count": 130,
   "id": "e8befe8e",
   "metadata": {},
   "outputs": [],
   "source": [
    "# K fold cross validation"
   ]
  },
  {
   "cell_type": "code",
   "execution_count": 131,
   "id": "b44e312f",
   "metadata": {},
   "outputs": [
    {
     "name": "stdout",
     "output_type": "stream",
     "text": [
      "[0.20454545 0.61363636 0.36363636 0.75       0.54545455 0.60465116\n",
      " 0.55813953 0.3255814  0.51162791 0.37209302]\n",
      "0.48493657505285415\n",
      "Wall time: 122 ms\n"
     ]
    }
   ],
   "source": [
    "%%time\n",
    "from sklearn.model_selection import KFold\n",
    "from sklearn.model_selection import cross_val_score\n",
    "from sklearn.neighbors import KNeighborsClassifier\n",
    "\n",
    "model = KNeighborsClassifier()\n",
    "kfold_validation = KFold(10)\n",
    "results = cross_val_score(model, x, y, cv = kfold_validation)\n",
    "print(results)\n",
    "print(np.mean(results))"
   ]
  },
  {
   "cell_type": "code",
   "execution_count": 132,
   "id": "79303b25",
   "metadata": {},
   "outputs": [],
   "source": [
    "# Stratified k-fold Cross Validation"
   ]
  },
  {
   "cell_type": "code",
   "execution_count": 133,
   "id": "e4be6b04",
   "metadata": {},
   "outputs": [
    {
     "name": "stdout",
     "output_type": "stream",
     "text": [
      "[0.63636364 0.40909091 0.56818182 0.56818182 0.59090909 0.44186047\n",
      " 0.58139535 0.62790698 0.65116279 0.53488372]\n",
      "0.5609936575052854\n",
      "Wall time: 135 ms\n"
     ]
    }
   ],
   "source": [
    "%%time\n",
    "from sklearn.model_selection import StratifiedKFold\n",
    "from sklearn.model_selection import cross_val_score\n",
    "from sklearn.neighbors import KNeighborsClassifier\n",
    "\n",
    "skfold = StratifiedKFold(n_splits=10)\n",
    "model = KNeighborsClassifier()\n",
    "scores = cross_val_score(model, x, y, cv=skfold)\n",
    "print(scores)\n",
    "print(np.mean(scores))"
   ]
  },
  {
   "cell_type": "code",
   "execution_count": 134,
   "id": "600cd3ff",
   "metadata": {},
   "outputs": [],
   "source": [
    "# leave-one-out cross validation(LOOCV)"
   ]
  },
  {
   "cell_type": "code",
   "execution_count": 135,
   "id": "06dcc5c6",
   "metadata": {},
   "outputs": [
    {
     "name": "stdout",
     "output_type": "stream",
     "text": [
      "[0. 0. 0. 0. 0. 0. 0. 0. 0. 0. 0. 0. 0. 0. 0. 0. 1. 1. 1. 1. 1. 0. 0. 0.\n",
      " 0. 0. 0. 0. 1. 1. 0. 1. 0. 1. 1. 1. 1. 1. 1. 0. 0. 0. 0. 0. 0. 0. 0. 1.\n",
      " 1. 1. 1. 1. 1. 1. 1. 0. 1. 1. 1. 1. 1. 1. 1. 1. 1. 1. 0. 0. 1. 1. 1. 0.\n",
      " 0. 1. 0. 0. 0. 1. 0. 1. 0. 0. 1. 1. 1. 1. 1. 1. 0. 1. 1. 0. 1. 1. 0. 0.\n",
      " 1. 0. 0. 0. 0. 1. 1. 1. 0. 0. 1. 1. 0. 1. 1. 0. 1. 0. 0. 1. 1. 0. 1. 0.\n",
      " 0. 1. 0. 0. 0. 1. 1. 1. 1. 1. 1. 1. 1. 1. 1. 1. 1. 0. 1. 1. 1. 1. 1. 1.\n",
      " 1. 1. 1. 1. 1. 1. 1. 1. 1. 1. 1. 0. 1. 0. 0. 1. 1. 0. 0. 0. 0. 1. 1. 1.\n",
      " 1. 1. 1. 1. 1. 1. 1. 1. 1. 0. 1. 1. 0. 1. 0. 1. 1. 0. 1. 1. 0. 1. 0. 1.\n",
      " 1. 1. 1. 1. 1. 1. 0. 0. 1. 1. 0. 1. 1. 0. 1. 0. 1. 1. 1. 1. 1. 1. 0. 1.\n",
      " 1. 0. 1. 1. 1. 1. 1. 0. 1. 1. 0. 1. 1. 1. 1. 1. 0. 1. 0. 0. 0. 1. 0. 1.\n",
      " 1. 0. 1. 1. 0. 1. 0. 1. 1. 1. 0. 0. 1. 1. 1. 1. 1. 0. 1. 1. 1. 0. 1. 0.\n",
      " 1. 1. 1. 0. 0. 0. 0. 1. 0. 0. 1. 0. 0. 1. 0. 1. 1. 0. 1. 1. 0. 0. 1. 1.\n",
      " 1. 1. 1. 1. 1. 1. 0. 1. 1. 1. 0. 1. 0. 1. 1. 1. 0. 1. 0. 0. 0. 0. 0. 0.\n",
      " 1. 0. 1. 1. 1. 0. 0. 1. 0. 0. 1. 1. 1. 0. 0. 0. 1. 0. 1. 0. 0. 0. 0. 1.\n",
      " 0. 0. 1. 1. 1. 1. 0. 1. 0. 0. 0. 0. 1. 1. 1. 1. 0. 1. 0. 0. 1. 1. 1. 0.\n",
      " 0. 1. 1. 0. 1. 1. 1. 0. 1. 0. 1. 0. 1. 0. 0. 0. 0. 0. 1. 1. 1. 1. 1. 1.\n",
      " 0. 1. 1. 1. 0. 0. 1. 0. 0. 0. 1. 1. 1. 0. 0. 1. 0. 0. 0. 1. 1. 0. 0. 1.\n",
      " 0. 1. 0. 1. 0. 1. 1. 0. 1. 0. 1. 0. 1. 1. 1. 1. 0. 0. 1. 1. 0. 0. 0. 0.\n",
      " 1. 0. 0.]\n",
      "435\n",
      "0.5793103448275863\n",
      "Wall time: 2.64 s\n"
     ]
    }
   ],
   "source": [
    "%%time\n",
    "from sklearn.model_selection import LeaveOneOut\n",
    "from sklearn.neighbors import KNeighborsClassifier\n",
    "from sklearn.model_selection import cross_val_score\n",
    "\n",
    "model = KNeighborsClassifier()\n",
    "leave_validation = LeaveOneOut()\n",
    "results = cross_val_score(model, x, y, cv=leave_validation)\n",
    "print(results)\n",
    "print(len(results))\n",
    "print(np.mean(results))"
   ]
  },
  {
   "cell_type": "markdown",
   "id": "20543f1d",
   "metadata": {},
   "source": [
    "# SVM"
   ]
  },
  {
   "cell_type": "code",
   "execution_count": 136,
   "id": "bbc9ea9d",
   "metadata": {},
   "outputs": [],
   "source": [
    "# From initial dataset to training-test split"
   ]
  },
  {
   "cell_type": "code",
   "execution_count": 137,
   "id": "3d7f32ec",
   "metadata": {},
   "outputs": [
    {
     "name": "stdout",
     "output_type": "stream",
     "text": [
      "[(348, 13), (348,)]\n",
      "[(87, 13), (87,)]\n",
      "0.5517241379310345\n",
      "Wall time: 31.9 ms\n"
     ]
    }
   ],
   "source": [
    "%%time\n",
    "from sklearn.model_selection import train_test_split\n",
    "from sklearn.svm import SVC\n",
    "\n",
    "x_train, x_test, y_train, y_test = train_test_split(x,y,train_size = 0.8)\n",
    "\n",
    "print([x_train.shape, y_train.shape])\n",
    "print([x_test.shape, y_test.shape])\n",
    "\n",
    "model = SVC(C=2)\n",
    "model.fit(x_train, y_train)\n",
    "result = model.score(x_test,y_test)\n",
    "print(result)"
   ]
  },
  {
   "cell_type": "code",
   "execution_count": 138,
   "id": "ac5feb54",
   "metadata": {},
   "outputs": [],
   "source": [
    "# Repeated random test-train splits"
   ]
  },
  {
   "cell_type": "code",
   "execution_count": 139,
   "id": "4f3d4054",
   "metadata": {},
   "outputs": [
    {
     "name": "stdout",
     "output_type": "stream",
     "text": [
      "[0.68181818 0.54545455 0.45454545 0.65909091 0.56818182 0.59090909\n",
      " 0.56818182 0.63636364 0.63636364 0.63636364]\n",
      "0.5977272727272729\n",
      "Wall time: 169 ms\n"
     ]
    }
   ],
   "source": [
    "%%time\n",
    "from sklearn.model_selection import cross_val_score\n",
    "from sklearn.model_selection import ShuffleSplit\n",
    "from sklearn.svm import SVC\n",
    "\n",
    "model = SVC(C=2)\n",
    "ssplit = ShuffleSplit(n_splits = 10, test_size = 0.10)\n",
    "results = cross_val_score(model, x, y, cv = ssplit)\n",
    "print(results)\n",
    "print(np.mean(results))"
   ]
  },
  {
   "cell_type": "code",
   "execution_count": 140,
   "id": "914dd0a2",
   "metadata": {},
   "outputs": [],
   "source": [
    "# From initial dataset to training-validation-test split"
   ]
  },
  {
   "cell_type": "code",
   "execution_count": 141,
   "id": "bce58892",
   "metadata": {},
   "outputs": [
    {
     "name": "stdout",
     "output_type": "stream",
     "text": [
      "validation set score\n",
      "0.6511627906976745\n",
      "test score\n",
      "0.6590909090909091\n",
      "Wall time: 14.4 ms\n"
     ]
    }
   ],
   "source": [
    "%%time\n",
    "from sklearn.model_selection import train_test_split\n",
    "from sklearn.svm import SVC\n",
    "\n",
    "x_train, x_rem, y_train, y_rem = train_test_split(x, y, train_size = 0.8)\n",
    "\n",
    "test_size = 0.5\n",
    "x_valid, x_test, y_valid, y_test = train_test_split(x_rem, y_rem, test_size = test_size)\n",
    "\n",
    "model = SVC(C=2)\n",
    "model.fit(x_train, y_train)\n",
    "print(\"validation set score\")\n",
    "result = model.score(x_valid, y_valid)\n",
    "print(result)\n",
    "print(\"test score\")\n",
    "result = model.score(x_test, y_test)\n",
    "print(result)"
   ]
  },
  {
   "cell_type": "code",
   "execution_count": 142,
   "id": "756f1037",
   "metadata": {},
   "outputs": [],
   "source": [
    "# K fold cross validation"
   ]
  },
  {
   "cell_type": "code",
   "execution_count": 143,
   "id": "3a744377",
   "metadata": {},
   "outputs": [
    {
     "name": "stdout",
     "output_type": "stream",
     "text": [
      "[0.20454545 0.52272727 0.47727273 0.61363636 0.61363636 0.\n",
      " 0.58139535 0.20930233 0.13953488 0.13953488]\n",
      "0.3501585623678647\n",
      "Wall time: 186 ms\n"
     ]
    }
   ],
   "source": [
    "%%time\n",
    "from sklearn.model_selection import KFold\n",
    "from sklearn.model_selection import cross_val_score\n",
    "from sklearn.svm import SVC\n",
    "\n",
    "model = SVC(C=2)\n",
    "kfold_validation = KFold(10)\n",
    "results = cross_val_score(model, x, y, cv = kfold_validation)\n",
    "print(results)\n",
    "print(np.mean(results))"
   ]
  },
  {
   "cell_type": "code",
   "execution_count": 144,
   "id": "d5b1e0f7",
   "metadata": {},
   "outputs": [],
   "source": [
    "# Stratified k-fold Cross Validation"
   ]
  },
  {
   "cell_type": "code",
   "execution_count": 145,
   "id": "45f0585f",
   "metadata": {},
   "outputs": [
    {
     "name": "stdout",
     "output_type": "stream",
     "text": [
      "[0.54545455 0.38636364 0.59090909 0.61363636 0.63636364 0.60465116\n",
      " 0.60465116 0.69767442 0.65116279 0.6744186 ]\n",
      "0.6005285412262158\n",
      "Wall time: 161 ms\n"
     ]
    }
   ],
   "source": [
    "%%time\n",
    "from sklearn.model_selection import StratifiedKFold\n",
    "from sklearn.model_selection import cross_val_score\n",
    "from sklearn.svm import SVC\n",
    "\n",
    "skfold = StratifiedKFold(n_splits=10)\n",
    "model = SVC(C=2)\n",
    "scores = cross_val_score(model, x, y, cv=skfold)\n",
    "print(scores)\n",
    "print(np.mean(scores))"
   ]
  },
  {
   "cell_type": "code",
   "execution_count": 146,
   "id": "7a47d9f7",
   "metadata": {},
   "outputs": [],
   "source": [
    "# leave-one-out cross validation(LOOCV)"
   ]
  },
  {
   "cell_type": "code",
   "execution_count": 147,
   "id": "de6420fe",
   "metadata": {},
   "outputs": [
    {
     "name": "stdout",
     "output_type": "stream",
     "text": [
      "[0. 0. 0. 0. 0. 0. 0. 0. 0. 0. 0. 0. 0. 0. 0. 0. 1. 1. 1. 1. 1. 0. 0. 0.\n",
      " 0. 0. 0. 0. 1. 1. 1. 1. 0. 0. 1. 1. 1. 0. 1. 1. 0. 0. 1. 0. 0. 0. 0. 0.\n",
      " 1. 1. 1. 1. 0. 1. 1. 1. 1. 1. 1. 1. 1. 1. 1. 1. 1. 1. 0. 1. 1. 1. 1. 0.\n",
      " 0. 1. 0. 0. 0. 1. 0. 1. 0. 0. 1. 1. 1. 1. 1. 1. 1. 1. 1. 0. 1. 1. 0. 1.\n",
      " 0. 1. 1. 1. 1. 1. 1. 1. 1. 1. 1. 1. 1. 1. 1. 0. 1. 1. 0. 0. 1. 0. 0. 1.\n",
      " 0. 1. 0. 0. 0. 1. 1. 1. 1. 0. 1. 1. 1. 1. 1. 1. 1. 0. 1. 1. 1. 1. 1. 1.\n",
      " 0. 1. 1. 1. 1. 1. 1. 0. 0. 1. 0. 0. 1. 1. 0. 1. 0. 1. 1. 1. 0. 1. 1. 1.\n",
      " 1. 0. 1. 1. 1. 1. 1. 1. 1. 1. 0. 1. 0. 0. 0. 1. 1. 1. 1. 1. 0. 0. 0. 1.\n",
      " 1. 1. 1. 1. 1. 1. 0. 0. 0. 0. 0. 1. 1. 0. 1. 1. 1. 1. 1. 1. 1. 1. 1. 1.\n",
      " 1. 1. 1. 1. 1. 1. 1. 1. 1. 1. 1. 1. 1. 1. 1. 1. 0. 1. 0. 0. 1. 1. 1. 1.\n",
      " 1. 1. 1. 1. 1. 1. 0. 1. 1. 1. 0. 1. 1. 1. 1. 1. 1. 1. 1. 1. 1. 1. 1. 0.\n",
      " 1. 1. 0. 0. 0. 0. 1. 1. 0. 0. 1. 1. 1. 1. 1. 1. 1. 1. 1. 1. 1. 1. 1. 1.\n",
      " 1. 1. 1. 1. 1. 1. 0. 1. 0. 0. 1. 0. 0. 0. 1. 0. 0. 1. 0. 0. 0. 0. 0. 0.\n",
      " 1. 0. 1. 1. 0. 0. 0. 1. 1. 0. 1. 1. 0. 0. 0. 0. 1. 1. 1. 0. 0. 0. 0. 1.\n",
      " 0. 0. 1. 0. 1. 1. 0. 1. 0. 0. 0. 0. 1. 1. 0. 1. 0. 0. 0. 0. 1. 0. 1. 0.\n",
      " 0. 1. 0. 0. 1. 1. 0. 0. 1. 1. 0. 1. 1. 0. 0. 0. 1. 0. 0. 1. 0. 1. 1. 1.\n",
      " 0. 1. 1. 1. 0. 0. 0. 0. 0. 0. 1. 0. 1. 0. 0. 0. 0. 0. 0. 1. 1. 0. 0. 0.\n",
      " 0. 0. 0. 1. 1. 1. 1. 1. 1. 0. 1. 0. 0. 1. 1. 1. 0. 0. 1. 0. 1. 0. 1. 0.\n",
      " 1. 0. 1.]\n",
      "435\n",
      "0.6\n",
      "Wall time: 7.15 s\n"
     ]
    }
   ],
   "source": [
    "%%time\n",
    "from sklearn.model_selection import LeaveOneOut\n",
    "from sklearn.svm import SVC\n",
    "from sklearn.model_selection import cross_val_score\n",
    "\n",
    "model = SVC(C=2)\n",
    "leave_validation = LeaveOneOut()\n",
    "results = cross_val_score(model, x, y, cv=leave_validation)\n",
    "print(results)\n",
    "print(len(results))\n",
    "print(np.mean(results))"
   ]
  },
  {
   "cell_type": "markdown",
   "id": "a673b429",
   "metadata": {},
   "source": [
    "# Naive Bayes"
   ]
  },
  {
   "cell_type": "code",
   "execution_count": 148,
   "id": "2c212c48",
   "metadata": {},
   "outputs": [],
   "source": [
    "# From initial dataset to training-test split"
   ]
  },
  {
   "cell_type": "code",
   "execution_count": 149,
   "id": "964b9243",
   "metadata": {},
   "outputs": [
    {
     "name": "stdout",
     "output_type": "stream",
     "text": [
      "[(348, 13), (348,)]\n",
      "[(87, 13), (87,)]\n",
      "0.45977011494252873\n",
      "Wall time: 4.73 ms\n"
     ]
    }
   ],
   "source": [
    "%%time\n",
    "from sklearn.model_selection import train_test_split\n",
    "from sklearn.naive_bayes import GaussianNB\n",
    "\n",
    "x_train, x_test, y_train, y_test = train_test_split(x,y,train_size = 0.8)\n",
    "\n",
    "print([x_train.shape, y_train.shape])\n",
    "print([x_test.shape, y_test.shape])\n",
    "\n",
    "model = GaussianNB()\n",
    "model.fit(x_train, y_train)\n",
    "result = model.score(x_test,y_test)\n",
    "print(result)"
   ]
  },
  {
   "cell_type": "code",
   "execution_count": 150,
   "id": "ed5683c0",
   "metadata": {},
   "outputs": [],
   "source": [
    "# Repeated random test-train splits"
   ]
  },
  {
   "cell_type": "code",
   "execution_count": 151,
   "id": "2690d459",
   "metadata": {},
   "outputs": [
    {
     "name": "stdout",
     "output_type": "stream",
     "text": [
      "[0.47727273 0.52272727 0.61363636 0.52272727 0.43181818 0.52272727\n",
      " 0.52272727 0.5        0.47727273 0.45454545]\n",
      "0.5045454545454545\n",
      "Wall time: 66.8 ms\n"
     ]
    }
   ],
   "source": [
    "%%time\n",
    "from sklearn.model_selection import cross_val_score\n",
    "from sklearn.model_selection import ShuffleSplit\n",
    "from sklearn.naive_bayes import GaussianNB\n",
    "\n",
    "model = GaussianNB()\n",
    "ssplit = ShuffleSplit(n_splits = 10, test_size = 0.10)\n",
    "results = cross_val_score(model, x, y, cv = ssplit)\n",
    "print(results)\n",
    "print(np.mean(results))"
   ]
  },
  {
   "cell_type": "code",
   "execution_count": 152,
   "id": "116fc3b7",
   "metadata": {},
   "outputs": [],
   "source": [
    "# From initial dataset to training-validation-test split"
   ]
  },
  {
   "cell_type": "code",
   "execution_count": 153,
   "id": "3ea01cc6",
   "metadata": {},
   "outputs": [
    {
     "name": "stdout",
     "output_type": "stream",
     "text": [
      "validation set score\n",
      "0.6976744186046512\n",
      "test score\n",
      "0.5681818181818182\n",
      "Wall time: 12.3 ms\n"
     ]
    }
   ],
   "source": [
    "%%time\n",
    "from sklearn.model_selection import train_test_split\n",
    "from sklearn.naive_bayes import GaussianNB\n",
    "\n",
    "x_train, x_rem, y_train, y_rem = train_test_split(x, y, train_size = 0.8)\n",
    "\n",
    "test_size = 0.5\n",
    "x_valid, x_test, y_valid, y_test = train_test_split(x_rem, y_rem, test_size = test_size)\n",
    "\n",
    "model = GaussianNB()\n",
    "model.fit(x_train, y_train)\n",
    "print(\"validation set score\")\n",
    "result = model.score(x_valid, y_valid)\n",
    "print(result)\n",
    "print(\"test score\")\n",
    "result = model.score(x_test, y_test)\n",
    "print(result)"
   ]
  },
  {
   "cell_type": "code",
   "execution_count": 154,
   "id": "5345e9ea",
   "metadata": {},
   "outputs": [],
   "source": [
    "# K fold cross validation"
   ]
  },
  {
   "cell_type": "code",
   "execution_count": 155,
   "id": "83c82106",
   "metadata": {},
   "outputs": [
    {
     "name": "stdout",
     "output_type": "stream",
     "text": [
      "[0.09090909 0.36363636 0.40909091 0.65909091 0.79545455 0.86046512\n",
      " 0.69767442 0.3255814  0.27906977 0.3255814 ]\n",
      "0.4806553911205073\n",
      "Wall time: 69.8 ms\n"
     ]
    }
   ],
   "source": [
    "%%time\n",
    "from sklearn.model_selection import KFold\n",
    "from sklearn.model_selection import cross_val_score\n",
    "from sklearn.naive_bayes import GaussianNB\n",
    "\n",
    "model = GaussianNB()\n",
    "kfold_validation = KFold(10)\n",
    "results = cross_val_score(model, x, y, cv = kfold_validation)\n",
    "print(results)\n",
    "print(np.mean(results))"
   ]
  },
  {
   "cell_type": "code",
   "execution_count": 156,
   "id": "99fd8a03",
   "metadata": {},
   "outputs": [],
   "source": [
    "# Stratified k-fold Cross Validation"
   ]
  },
  {
   "cell_type": "code",
   "execution_count": 157,
   "id": "7474ea1e",
   "metadata": {},
   "outputs": [
    {
     "name": "stdout",
     "output_type": "stream",
     "text": [
      "[0.47727273 0.40909091 0.5        0.52272727 0.56818182 0.48837209\n",
      " 0.51162791 0.65116279 0.62790698 0.58139535]\n",
      "0.5337737843551797\n",
      "Wall time: 63.7 ms\n"
     ]
    }
   ],
   "source": [
    "%%time\n",
    "from sklearn.model_selection import StratifiedKFold\n",
    "from sklearn.model_selection import cross_val_score\n",
    "from sklearn.naive_bayes import GaussianNB\n",
    "\n",
    "skfold = StratifiedKFold(n_splits=10)\n",
    "model = GaussianNB()\n",
    "scores = cross_val_score(model, x, y, cv=skfold)\n",
    "print(scores)\n",
    "print(np.mean(scores))"
   ]
  },
  {
   "cell_type": "code",
   "execution_count": 158,
   "id": "79796f90",
   "metadata": {},
   "outputs": [],
   "source": [
    "# leave-one-out cross validation(LOOCV)"
   ]
  },
  {
   "cell_type": "code",
   "execution_count": 159,
   "id": "50b9f7c5",
   "metadata": {},
   "outputs": [
    {
     "name": "stdout",
     "output_type": "stream",
     "text": [
      "[0. 0. 0. 0. 0. 0. 0. 1. 0. 0. 0. 0. 0. 0. 1. 0. 1. 1. 1. 1. 1. 0. 0. 0.\n",
      " 0. 0. 0. 0. 1. 1. 0. 1. 0. 0. 0. 0. 1. 0. 0. 0. 0. 0. 0. 0. 0. 0. 0. 0.\n",
      " 1. 1. 1. 1. 0. 1. 0. 0. 1. 1. 1. 1. 1. 1. 1. 1. 0. 1. 0. 0. 0. 0. 1. 0.\n",
      " 0. 0. 0. 0. 0. 1. 0. 1. 0. 0. 0. 1. 1. 0. 0. 0. 1. 1. 0. 0. 1. 1. 0. 1.\n",
      " 0. 0. 1. 0. 0. 0. 0. 0. 0. 0. 1. 0. 1. 1. 1. 0. 1. 0. 0. 0. 0. 0. 0. 1.\n",
      " 0. 1. 0. 0. 0. 1. 1. 1. 1. 0. 1. 1. 1. 1. 1. 0. 0. 0. 0. 1. 1. 1. 1. 1.\n",
      " 0. 0. 1. 1. 1. 1. 1. 0. 0. 1. 0. 0. 1. 1. 0. 1. 0. 1. 1. 1. 0. 1. 1. 1.\n",
      " 1. 1. 1. 1. 1. 1. 1. 1. 1. 1. 1. 1. 0. 0. 0. 1. 1. 1. 1. 1. 1. 1. 1. 1.\n",
      " 1. 1. 1. 1. 1. 1. 0. 0. 0. 0. 0. 1. 1. 1. 1. 1. 1. 1. 1. 1. 1. 1. 1. 1.\n",
      " 1. 1. 1. 1. 1. 1. 1. 1. 1. 1. 1. 1. 1. 1. 1. 1. 1. 1. 1. 0. 0. 1. 1. 1.\n",
      " 1. 1. 1. 1. 1. 1. 1. 1. 1. 1. 0. 1. 1. 1. 1. 1. 1. 1. 1. 1. 1. 1. 1. 1.\n",
      " 1. 1. 0. 0. 0. 0. 1. 1. 1. 0. 1. 1. 1. 1. 1. 1. 1. 1. 1. 1. 1. 1. 1. 1.\n",
      " 1. 1. 1. 1. 1. 0. 0. 1. 0. 1. 1. 0. 0. 0. 0. 0. 1. 0. 0. 1. 0. 0. 0. 0.\n",
      " 1. 0. 0. 1. 1. 0. 0. 0. 0. 0. 1. 1. 1. 1. 0. 0. 1. 0. 0. 0. 0. 0. 0. 1.\n",
      " 0. 0. 0. 0. 1. 1. 0. 1. 0. 1. 0. 1. 1. 1. 1. 0. 0. 1. 0. 0. 1. 1. 0. 0.\n",
      " 0. 1. 0. 1. 1. 0. 0. 0. 1. 0. 1. 1. 0. 1. 0. 0. 1. 0. 0. 1. 0. 0. 0. 0.\n",
      " 0. 1. 0. 0. 0. 0. 1. 1. 0. 0. 1. 1. 0. 0. 0. 0. 1. 0. 0. 1. 1. 0. 0. 0.\n",
      " 0. 0. 0. 1. 1. 0. 1. 1. 1. 0. 1. 0. 0. 0. 1. 1. 0. 0. 0. 1. 1. 0. 0. 0.\n",
      " 0. 0. 1.]\n",
      "435\n",
      "0.5379310344827586\n",
      "Wall time: 2.62 s\n"
     ]
    }
   ],
   "source": [
    "%%time\n",
    "from sklearn.model_selection import LeaveOneOut\n",
    "from sklearn.naive_bayes import GaussianNB\n",
    "from sklearn.model_selection import cross_val_score\n",
    "\n",
    "model = GaussianNB()\n",
    "leave_validation = LeaveOneOut()\n",
    "results = cross_val_score(model, x, y, cv=leave_validation)\n",
    "print(results)\n",
    "print(len(results))\n",
    "print(np.mean(results))"
   ]
  },
  {
   "cell_type": "markdown",
   "id": "25db990d",
   "metadata": {},
   "source": [
    "# Adaboost"
   ]
  },
  {
   "cell_type": "code",
   "execution_count": 172,
   "id": "f7dc8b2b",
   "metadata": {},
   "outputs": [],
   "source": [
    "# From initial dataset to training-test split"
   ]
  },
  {
   "cell_type": "code",
   "execution_count": 173,
   "id": "f83d4253",
   "metadata": {},
   "outputs": [
    {
     "name": "stdout",
     "output_type": "stream",
     "text": [
      "[(348, 13), (348,)]\n",
      "[(87, 13), (87,)]\n",
      "0.5747126436781609\n",
      "Wall time: 128 ms\n"
     ]
    }
   ],
   "source": [
    "%%time\n",
    "from sklearn.model_selection import train_test_split\n",
    "from sklearn.ensemble import AdaBoostClassifier\n",
    "\n",
    "x_train, x_test, y_train, y_test = train_test_split(x,y,train_size = 0.8)\n",
    "\n",
    "print([x_train.shape, y_train.shape])\n",
    "print([x_test.shape, y_test.shape])\n",
    "\n",
    "model = AdaBoostClassifier()\n",
    "model.fit(x_train, y_train)\n",
    "result = model.score(x_test,y_test)\n",
    "print(result)"
   ]
  },
  {
   "cell_type": "code",
   "execution_count": 174,
   "id": "33582054",
   "metadata": {},
   "outputs": [],
   "source": [
    "# Repeated random test-train splits"
   ]
  },
  {
   "cell_type": "code",
   "execution_count": 175,
   "id": "fb52f396",
   "metadata": {},
   "outputs": [
    {
     "name": "stdout",
     "output_type": "stream",
     "text": [
      "[0.72727273 0.68181818 0.61363636 0.54545455 0.18181818 0.40909091\n",
      " 0.59090909 0.68181818 0.59090909 0.52272727]\n",
      "0.5545454545454545\n",
      "Wall time: 1.35 s\n"
     ]
    }
   ],
   "source": [
    "%%time\n",
    "from sklearn.model_selection import cross_val_score\n",
    "from sklearn.model_selection import ShuffleSplit\n",
    "from sklearn.ensemble import AdaBoostClassifier\n",
    "\n",
    "model = AdaBoostClassifier()\n",
    "ssplit = ShuffleSplit(n_splits = 10, test_size = 0.10)\n",
    "results = cross_val_score(model, x, y, cv = ssplit)\n",
    "print(results)\n",
    "print(np.mean(results))"
   ]
  },
  {
   "cell_type": "code",
   "execution_count": 176,
   "id": "c6ad4b1d",
   "metadata": {},
   "outputs": [],
   "source": [
    "# From initial dataset to training-validation-test split"
   ]
  },
  {
   "cell_type": "code",
   "execution_count": 177,
   "id": "aceb74d5",
   "metadata": {},
   "outputs": [
    {
     "name": "stdout",
     "output_type": "stream",
     "text": [
      "validation set score\n",
      "0.4883720930232558\n",
      "test score\n",
      "0.45454545454545453\n",
      "Wall time: 138 ms\n"
     ]
    }
   ],
   "source": [
    "%%time\n",
    "from sklearn.model_selection import train_test_split\n",
    "from sklearn.ensemble import AdaBoostClassifier\n",
    "\n",
    "x_train, x_rem, y_train, y_rem = train_test_split(x, y, train_size = 0.8)\n",
    "\n",
    "test_size = 0.5\n",
    "x_valid, x_test, y_valid, y_test = train_test_split(x_rem, y_rem, test_size = test_size)\n",
    "\n",
    "model = AdaBoostClassifier()\n",
    "model.fit(x_train, y_train)\n",
    "print(\"validation set score\")\n",
    "result = model.score(x_valid, y_valid)\n",
    "print(result)\n",
    "print(\"test score\")\n",
    "result = model.score(x_test, y_test)\n",
    "print(result)"
   ]
  },
  {
   "cell_type": "code",
   "execution_count": 178,
   "id": "9acc96d2",
   "metadata": {},
   "outputs": [],
   "source": [
    "# K fold cross validation"
   ]
  },
  {
   "cell_type": "code",
   "execution_count": 179,
   "id": "8919ab8b",
   "metadata": {},
   "outputs": [
    {
     "name": "stdout",
     "output_type": "stream",
     "text": [
      "[0.25       0.68181818 0.79545455 0.88636364 0.45454545 0.86046512\n",
      " 0.62790698 0.65116279 0.6744186  0.53488372]\n",
      "0.6417019027484143\n",
      "Wall time: 1.29 s\n"
     ]
    }
   ],
   "source": [
    "%%time\n",
    "from sklearn.model_selection import KFold\n",
    "from sklearn.model_selection import cross_val_score\n",
    "from sklearn.ensemble import AdaBoostClassifier\n",
    "\n",
    "model = AdaBoostClassifier()\n",
    "kfold_validation = KFold(10)\n",
    "results = cross_val_score(model, x, y, cv = kfold_validation)\n",
    "print(results)\n",
    "print(np.mean(results))"
   ]
  },
  {
   "cell_type": "code",
   "execution_count": 180,
   "id": "6f8ce4db",
   "metadata": {},
   "outputs": [],
   "source": [
    "# Stratified k-fold Cross Validation"
   ]
  },
  {
   "cell_type": "code",
   "execution_count": 181,
   "id": "c0fcdeaf",
   "metadata": {},
   "outputs": [
    {
     "name": "stdout",
     "output_type": "stream",
     "text": [
      "[0.5        0.38636364 0.31818182 0.63636364 0.63636364 0.55813953\n",
      " 0.60465116 0.65116279 0.60465116 0.53488372]\n",
      "0.5430761099365751\n",
      "Wall time: 1.26 s\n"
     ]
    }
   ],
   "source": [
    "%%time\n",
    "from sklearn.model_selection import StratifiedKFold\n",
    "from sklearn.model_selection import cross_val_score\n",
    "from sklearn.ensemble import AdaBoostClassifier\n",
    "\n",
    "skfold = StratifiedKFold(n_splits=10)\n",
    "model = AdaBoostClassifier()\n",
    "scores = cross_val_score(model, x, y, cv=skfold)\n",
    "print(scores)\n",
    "print(np.mean(scores))"
   ]
  },
  {
   "cell_type": "code",
   "execution_count": 182,
   "id": "40c02ea6",
   "metadata": {},
   "outputs": [],
   "source": [
    "# leave-one-out cross validation(LOOCV)"
   ]
  },
  {
   "cell_type": "code",
   "execution_count": 183,
   "id": "87a88fdb",
   "metadata": {},
   "outputs": [
    {
     "name": "stdout",
     "output_type": "stream",
     "text": [
      "[0. 0. 0. 0. 0. 0. 0. 0. 0. 0. 0. 0. 0. 0. 0. 0. 0. 0. 0. 0. 0. 0. 0. 0.\n",
      " 0. 0. 0. 0. 1. 1. 1. 1. 0. 1. 1. 1. 1. 0. 0. 1. 0. 1. 1. 0. 0. 0. 0. 0.\n",
      " 1. 1. 1. 1. 0. 1. 0. 0. 1. 1. 1. 1. 1. 1. 1. 1. 0. 1. 1. 1. 1. 1. 1. 0.\n",
      " 0. 0. 0. 1. 1. 0. 0. 1. 0. 1. 1. 1. 1. 1. 1. 1. 1. 1. 1. 0. 1. 1. 0. 1.\n",
      " 1. 1. 1. 1. 1. 1. 1. 1. 1. 1. 1. 1. 1. 1. 1. 0. 1. 1. 1. 1. 1. 0. 1. 1.\n",
      " 0. 1. 0. 0. 1. 1. 1. 1. 1. 1. 1. 1. 1. 1. 1. 0. 1. 1. 1. 1. 1. 1. 1. 1.\n",
      " 0. 1. 1. 1. 1. 1. 1. 1. 1. 1. 1. 1. 1. 1. 0. 1. 1. 1. 1. 1. 0. 1. 1. 1.\n",
      " 0. 1. 1. 1. 1. 1. 1. 1. 1. 1. 1. 1. 0. 0. 0. 0. 0. 0. 1. 1. 1. 1. 1. 1.\n",
      " 1. 1. 1. 1. 1. 1. 0. 0. 0. 0. 0. 1. 1. 0. 1. 1. 1. 1. 1. 0. 1. 1. 0. 1.\n",
      " 0. 0. 1. 1. 1. 1. 1. 0. 1. 1. 0. 1. 0. 0. 0. 0. 0. 1. 0. 0. 0. 1. 0. 0.\n",
      " 1. 0. 1. 0. 0. 1. 0. 1. 0. 0. 0. 0. 1. 1. 1. 1. 1. 1. 1. 0. 0. 0. 1. 0.\n",
      " 1. 1. 0. 0. 0. 0. 1. 0. 0. 0. 1. 1. 1. 0. 0. 1. 0. 0. 0. 1. 0. 1. 1. 1.\n",
      " 1. 1. 1. 1. 0. 1. 0. 1. 1. 1. 1. 1. 1. 1. 1. 0. 1. 1. 1. 1. 0. 0. 0. 0.\n",
      " 1. 1. 1. 1. 1. 1. 1. 0. 1. 0. 1. 1. 1. 0. 1. 1. 1. 1. 1. 0. 0. 1. 0. 0.\n",
      " 1. 0. 1. 1. 1. 1. 0. 0. 1. 1. 0. 1. 1. 1. 1. 1. 0. 1. 1. 1. 0. 1. 1. 0.\n",
      " 0. 0. 1. 0. 0. 1. 1. 1. 1. 0. 1. 1. 1. 0. 0. 0. 1. 0. 1. 1. 1. 1. 1. 1.\n",
      " 1. 1. 1. 1. 0. 1. 1. 0. 0. 0. 1. 0. 1. 1. 0. 1. 0. 1. 0. 0. 1. 1. 1. 1.\n",
      " 0. 0. 0. 1. 1. 1. 0. 0. 1. 0. 1. 1. 1. 1. 0. 0. 0. 1. 1. 0. 1. 1. 1. 0.\n",
      " 1. 0. 0.]\n",
      "435\n",
      "0.6206896551724138\n",
      "Wall time: 55.2 s\n"
     ]
    }
   ],
   "source": [
    "%%time\n",
    "from sklearn.model_selection import LeaveOneOut\n",
    "from sklearn.ensemble import AdaBoostClassifier\n",
    "from sklearn.model_selection import cross_val_score\n",
    "\n",
    "model = AdaBoostClassifier()\n",
    "leave_validation = LeaveOneOut()\n",
    "results = cross_val_score(model, x, y, cv=leave_validation)\n",
    "print(results)\n",
    "print(len(results))\n",
    "print(np.mean(results))"
   ]
  },
  {
   "cell_type": "markdown",
   "id": "7d720dc0",
   "metadata": {},
   "source": [
    "# Gradient Boosting Classifier"
   ]
  },
  {
   "cell_type": "code",
   "execution_count": 184,
   "id": "90607e46",
   "metadata": {},
   "outputs": [],
   "source": [
    "# From initial dataset to training-test split"
   ]
  },
  {
   "cell_type": "code",
   "execution_count": 185,
   "id": "eb312320",
   "metadata": {},
   "outputs": [
    {
     "name": "stdout",
     "output_type": "stream",
     "text": [
      "[(348, 13), (348,)]\n",
      "[(87, 13), (87,)]\n",
      "0.6551724137931034\n",
      "Wall time: 775 ms\n"
     ]
    }
   ],
   "source": [
    "%%time\n",
    "from sklearn.model_selection import train_test_split\n",
    "from sklearn.ensemble import GradientBoostingClassifier\n",
    "\n",
    "x_train, x_test, y_train, y_test = train_test_split(x,y,train_size = 0.8)\n",
    "\n",
    "print([x_train.shape, y_train.shape])\n",
    "print([x_test.shape, y_test.shape])\n",
    "\n",
    "model = GradientBoostingClassifier()\n",
    "model.fit(x_train, y_train)\n",
    "result = model.score(x_test,y_test)\n",
    "print(result)"
   ]
  },
  {
   "cell_type": "code",
   "execution_count": 186,
   "id": "a4cc555a",
   "metadata": {},
   "outputs": [],
   "source": [
    "# Repeated random test-train splits"
   ]
  },
  {
   "cell_type": "code",
   "execution_count": 187,
   "id": "5d4a429e",
   "metadata": {},
   "outputs": [
    {
     "name": "stdout",
     "output_type": "stream",
     "text": [
      "[0.75       0.70454545 0.68181818 0.65909091 0.61363636 0.72727273\n",
      " 0.54545455 0.65909091 0.65909091 0.61363636]\n",
      "0.6613636363636364\n",
      "Wall time: 7.92 s\n"
     ]
    }
   ],
   "source": [
    "%%time\n",
    "from sklearn.model_selection import cross_val_score\n",
    "from sklearn.model_selection import ShuffleSplit\n",
    "from sklearn.ensemble import GradientBoostingClassifier\n",
    "\n",
    "model = GradientBoostingClassifier()\n",
    "ssplit = ShuffleSplit(n_splits = 10, test_size = 0.10)\n",
    "results = cross_val_score(model, x, y, cv = ssplit)\n",
    "print(results)\n",
    "print(np.mean(results))"
   ]
  },
  {
   "cell_type": "code",
   "execution_count": 188,
   "id": "5b5d24e1",
   "metadata": {},
   "outputs": [],
   "source": [
    "# From initial dataset to training-validation-test split"
   ]
  },
  {
   "cell_type": "code",
   "execution_count": 189,
   "id": "c003a562",
   "metadata": {},
   "outputs": [
    {
     "name": "stdout",
     "output_type": "stream",
     "text": [
      "validation set score\n",
      "0.7209302325581395\n",
      "test score\n",
      "0.5909090909090909\n",
      "Wall time: 726 ms\n"
     ]
    }
   ],
   "source": [
    "%%time\n",
    "from sklearn.model_selection import train_test_split\n",
    "from sklearn.ensemble import GradientBoostingClassifier\n",
    "\n",
    "x_train, x_rem, y_train, y_rem = train_test_split(x, y, train_size = 0.8)\n",
    "\n",
    "test_size = 0.5\n",
    "x_valid, x_test, y_valid, y_test = train_test_split(x_rem, y_rem, test_size = test_size)\n",
    "\n",
    "model = GradientBoostingClassifier()\n",
    "model.fit(x_train, y_train)\n",
    "print(\"validation set score\")\n",
    "result = model.score(x_valid, y_valid)\n",
    "print(result)\n",
    "print(\"test score\")\n",
    "result = model.score(x_test, y_test)\n",
    "print(result)"
   ]
  },
  {
   "cell_type": "code",
   "execution_count": 190,
   "id": "8527cf37",
   "metadata": {},
   "outputs": [],
   "source": [
    "# K fold cross validation"
   ]
  },
  {
   "cell_type": "code",
   "execution_count": 191,
   "id": "414ea6dc",
   "metadata": {},
   "outputs": [
    {
     "name": "stdout",
     "output_type": "stream",
     "text": [
      "[0.18181818 0.47727273 0.52272727 0.77272727 0.56818182 0.34883721\n",
      " 0.60465116 0.37209302 0.58139535 0.41860465]\n",
      "0.484830866807611\n",
      "Wall time: 7.91 s\n"
     ]
    }
   ],
   "source": [
    "%%time\n",
    "from sklearn.model_selection import KFold\n",
    "from sklearn.model_selection import cross_val_score\n",
    "from sklearn.ensemble import GradientBoostingClassifier\n",
    "\n",
    "model = GradientBoostingClassifier()\n",
    "kfold_validation = KFold(10)\n",
    "results = cross_val_score(model, x, y, cv = kfold_validation)\n",
    "print(results)\n",
    "print(np.mean(results))"
   ]
  },
  {
   "cell_type": "code",
   "execution_count": 192,
   "id": "79c74b40",
   "metadata": {},
   "outputs": [],
   "source": [
    "# Stratified k-fold Cross Validation"
   ]
  },
  {
   "cell_type": "code",
   "execution_count": 193,
   "id": "e80929f5",
   "metadata": {},
   "outputs": [
    {
     "name": "stdout",
     "output_type": "stream",
     "text": [
      "[0.47727273 0.45454545 0.70454545 0.54545455 0.65909091 0.53488372\n",
      " 0.65116279 0.72093023 0.69767442 0.65116279]\n",
      "0.6096723044397463\n",
      "Wall time: 7.82 s\n"
     ]
    }
   ],
   "source": [
    "%%time\n",
    "from sklearn.model_selection import StratifiedKFold\n",
    "from sklearn.model_selection import cross_val_score\n",
    "from sklearn.ensemble import GradientBoostingClassifier\n",
    "\n",
    "skfold = StratifiedKFold(n_splits=10)\n",
    "model = GradientBoostingClassifier()\n",
    "scores = cross_val_score(model, x, y, cv=skfold)\n",
    "print(scores)\n",
    "print(np.mean(scores))"
   ]
  },
  {
   "cell_type": "code",
   "execution_count": 194,
   "id": "4107afa8",
   "metadata": {},
   "outputs": [],
   "source": [
    "# leave-one-out cross validation(LOOCV)"
   ]
  },
  {
   "cell_type": "code",
   "execution_count": 195,
   "id": "51d4e77a",
   "metadata": {},
   "outputs": [
    {
     "name": "stdout",
     "output_type": "stream",
     "text": [
      "[0. 0. 0. 0. 0. 1. 0. 1. 0. 1. 0. 0. 0. 0. 1. 0. 1. 1. 1. 1. 1. 1. 1. 1.\n",
      " 0. 0. 0. 0. 1. 0. 1. 1. 0. 0. 0. 1. 1. 0. 1. 1. 0. 0. 0. 0. 1. 0. 0. 0.\n",
      " 1. 0. 1. 1. 1. 1. 1. 0. 1. 1. 1. 1. 1. 1. 1. 1. 0. 0. 1. 1. 1. 1. 1. 0.\n",
      " 0. 1. 0. 1. 0. 0. 0. 1. 0. 0. 1. 1. 1. 1. 1. 1. 1. 1. 1. 0. 1. 1. 0. 0.\n",
      " 0. 1. 1. 1. 1. 1. 1. 1. 1. 1. 1. 1. 1. 1. 1. 0. 1. 0. 1. 0. 1. 0. 1. 1.\n",
      " 0. 1. 1. 0. 0. 0. 1. 1. 1. 1. 1. 1. 1. 1. 1. 0. 0. 1. 1. 1. 1. 1. 1. 1.\n",
      " 0. 1. 1. 1. 1. 1. 1. 1. 1. 1. 0. 1. 1. 0. 0. 1. 1. 1. 1. 1. 0. 1. 1. 1.\n",
      " 0. 1. 1. 1. 1. 1. 1. 1. 0. 1. 1. 1. 1. 1. 1. 1. 1. 0. 1. 1. 1. 0. 1. 1.\n",
      " 1. 1. 1. 1. 1. 1. 1. 1. 1. 1. 1. 1. 1. 0. 1. 1. 1. 1. 1. 1. 1. 1. 0. 1.\n",
      " 0. 0. 1. 1. 1. 1. 1. 1. 1. 1. 0. 0. 0. 1. 1. 0. 0. 1. 0. 0. 0. 1. 1. 0.\n",
      " 1. 1. 0. 0. 1. 1. 0. 1. 1. 1. 0. 1. 1. 1. 0. 1. 1. 1. 1. 0. 1. 1. 1. 0.\n",
      " 1. 1. 1. 1. 1. 1. 1. 0. 0. 1. 1. 1. 0. 0. 1. 1. 1. 0. 0. 1. 0. 1. 1. 1.\n",
      " 1. 1. 1. 1. 0. 0. 0. 0. 1. 1. 1. 1. 1. 1. 0. 0. 0. 1. 1. 1. 0. 0. 1. 0.\n",
      " 1. 0. 1. 1. 1. 0. 1. 0. 0. 0. 1. 1. 1. 0. 1. 0. 1. 1. 0. 0. 1. 0. 0. 0.\n",
      " 0. 0. 1. 1. 1. 1. 0. 0. 0. 0. 0. 1. 0. 0. 1. 0. 0. 1. 1. 0. 1. 1. 0. 1.\n",
      " 0. 1. 1. 0. 1. 1. 0. 0. 1. 1. 1. 1. 1. 0. 0. 0. 1. 0. 0. 1. 1. 0. 1. 1.\n",
      " 1. 1. 1. 0. 0. 1. 1. 0. 1. 1. 1. 1. 0. 1. 0. 1. 0. 1. 0. 1. 1. 1. 0. 1.\n",
      " 0. 0. 0. 1. 1. 1. 1. 0. 1. 1. 1. 1. 1. 0. 1. 0. 0. 1. 0. 0. 1. 0. 1. 0.\n",
      " 1. 0. 1.]\n",
      "435\n",
      "0.6436781609195402\n",
      "Wall time: 5min 59s\n"
     ]
    }
   ],
   "source": [
    "%%time\n",
    "from sklearn.model_selection import LeaveOneOut\n",
    "from sklearn.ensemble import GradientBoostingClassifier\n",
    "from sklearn.model_selection import cross_val_score\n",
    "\n",
    "model = GradientBoostingClassifier()\n",
    "leave_validation = LeaveOneOut()\n",
    "results = cross_val_score(model, x, y, cv=leave_validation)\n",
    "print(results)\n",
    "print(len(results))\n",
    "print(np.mean(results))"
   ]
  },
  {
   "cell_type": "code",
   "execution_count": null,
   "id": "ec66a87b",
   "metadata": {},
   "outputs": [],
   "source": []
  }
 ],
 "metadata": {
  "kernelspec": {
   "display_name": "Python 3 (ipykernel)",
   "language": "python",
   "name": "python3"
  },
  "language_info": {
   "codemirror_mode": {
    "name": "ipython",
    "version": 3
   },
   "file_extension": ".py",
   "mimetype": "text/x-python",
   "name": "python",
   "nbconvert_exporter": "python",
   "pygments_lexer": "ipython3",
   "version": "3.7.4"
  }
 },
 "nbformat": 4,
 "nbformat_minor": 5
}
