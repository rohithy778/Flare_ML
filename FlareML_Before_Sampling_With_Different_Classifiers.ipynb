{
 "cells": [
  {
   "cell_type": "code",
   "execution_count": 1,
   "id": "f1e424a7",
   "metadata": {
    "scrolled": true
   },
   "outputs": [
    {
     "data": {
      "text/html": [
       "<div>\n",
       "<style scoped>\n",
       "    .dataframe tbody tr th:only-of-type {\n",
       "        vertical-align: middle;\n",
       "    }\n",
       "\n",
       "    .dataframe tbody tr th {\n",
       "        vertical-align: top;\n",
       "    }\n",
       "\n",
       "    .dataframe thead th {\n",
       "        text-align: right;\n",
       "    }\n",
       "</style>\n",
       "<table border=\"1\" class=\"dataframe\">\n",
       "  <thead>\n",
       "    <tr style=\"text-align: right;\">\n",
       "      <th></th>\n",
       "      <th>Flare Class</th>\n",
       "      <th>fdate</th>\n",
       "      <th>noaaar</th>\n",
       "      <th>TOTUSJH</th>\n",
       "      <th>TOTBSQ</th>\n",
       "      <th>TOTPOT</th>\n",
       "      <th>TOTUSJZ</th>\n",
       "      <th>ABSNJZH</th>\n",
       "      <th>SAVNCPP</th>\n",
       "      <th>USFLUX</th>\n",
       "      <th>AREA_ACR</th>\n",
       "      <th>TOTFZ</th>\n",
       "      <th>MEANPOT</th>\n",
       "      <th>R_VALUE</th>\n",
       "      <th>EPSZ</th>\n",
       "      <th>SHRGT45</th>\n",
       "    </tr>\n",
       "  </thead>\n",
       "  <tbody>\n",
       "    <tr>\n",
       "      <th>35</th>\n",
       "      <td>C24</td>\n",
       "      <td>4/22/2012 0:10</td>\n",
       "      <td>11465</td>\n",
       "      <td>1260.150</td>\n",
       "      <td>2.242000e+10</td>\n",
       "      <td>3.970000e+23</td>\n",
       "      <td>2.830000e+13</td>\n",
       "      <td>19.381</td>\n",
       "      <td>7.030000e+12</td>\n",
       "      <td>1.480000e+22</td>\n",
       "      <td>575.300</td>\n",
       "      <td>-837.03</td>\n",
       "      <td>12251.60</td>\n",
       "      <td>4.413</td>\n",
       "      <td>-0.0708</td>\n",
       "      <td>52.750</td>\n",
       "    </tr>\n",
       "    <tr>\n",
       "      <th>36</th>\n",
       "      <td>C24</td>\n",
       "      <td>4/27/2012 0:10</td>\n",
       "      <td>11465</td>\n",
       "      <td>1094.050</td>\n",
       "      <td>1.560500e+10</td>\n",
       "      <td>2.520000e+23</td>\n",
       "      <td>2.450000e+13</td>\n",
       "      <td>412.788</td>\n",
       "      <td>1.950000e+13</td>\n",
       "      <td>1.470000e+22</td>\n",
       "      <td>543.877</td>\n",
       "      <td>-1310.00</td>\n",
       "      <td>7055.95</td>\n",
       "      <td>4.016</td>\n",
       "      <td>-0.1592</td>\n",
       "      <td>36.680</td>\n",
       "    </tr>\n",
       "    <tr>\n",
       "      <th>37</th>\n",
       "      <td>C20</td>\n",
       "      <td>4/27/2012 0:10</td>\n",
       "      <td>11467</td>\n",
       "      <td>532.130</td>\n",
       "      <td>8.285100e+09</td>\n",
       "      <td>5.850000e+22</td>\n",
       "      <td>1.100000e+13</td>\n",
       "      <td>112.787</td>\n",
       "      <td>4.990000e+12</td>\n",
       "      <td>8.330000e+21</td>\n",
       "      <td>264.399</td>\n",
       "      <td>-1397.20</td>\n",
       "      <td>3235.29</td>\n",
       "      <td>3.779</td>\n",
       "      <td>-0.3199</td>\n",
       "      <td>10.959</td>\n",
       "    </tr>\n",
       "    <tr>\n",
       "      <th>38</th>\n",
       "      <td>C11</td>\n",
       "      <td>4/28/2012 0:10</td>\n",
       "      <td>11467</td>\n",
       "      <td>429.988</td>\n",
       "      <td>6.009600e+09</td>\n",
       "      <td>3.450000e+22</td>\n",
       "      <td>9.900000e+12</td>\n",
       "      <td>106.824</td>\n",
       "      <td>4.090000e+12</td>\n",
       "      <td>5.840000e+21</td>\n",
       "      <td>274.060</td>\n",
       "      <td>-700.12</td>\n",
       "      <td>2512.23</td>\n",
       "      <td>3.557</td>\n",
       "      <td>-0.2210</td>\n",
       "      <td>15.092</td>\n",
       "    </tr>\n",
       "    <tr>\n",
       "      <th>39</th>\n",
       "      <td>C10</td>\n",
       "      <td>4/27/2012 0:10</td>\n",
       "      <td>11469</td>\n",
       "      <td>709.246</td>\n",
       "      <td>1.589700e+10</td>\n",
       "      <td>5.070000e+22</td>\n",
       "      <td>1.750000e+13</td>\n",
       "      <td>7.603</td>\n",
       "      <td>1.460000e+12</td>\n",
       "      <td>1.300000e+22</td>\n",
       "      <td>445.587</td>\n",
       "      <td>-824.99</td>\n",
       "      <td>1645.96</td>\n",
       "      <td>2.777</td>\n",
       "      <td>-0.0984</td>\n",
       "      <td>5.885</td>\n",
       "    </tr>\n",
       "  </tbody>\n",
       "</table>\n",
       "</div>"
      ],
      "text/plain": [
       "   Flare Class           fdate  noaaar   TOTUSJH        TOTBSQ        TOTPOT  \\\n",
       "35         C24  4/22/2012 0:10   11465  1260.150  2.242000e+10  3.970000e+23   \n",
       "36         C24  4/27/2012 0:10   11465  1094.050  1.560500e+10  2.520000e+23   \n",
       "37         C20  4/27/2012 0:10   11467   532.130  8.285100e+09  5.850000e+22   \n",
       "38         C11  4/28/2012 0:10   11467   429.988  6.009600e+09  3.450000e+22   \n",
       "39         C10  4/27/2012 0:10   11469   709.246  1.589700e+10  5.070000e+22   \n",
       "\n",
       "         TOTUSJZ  ABSNJZH       SAVNCPP        USFLUX  AREA_ACR    TOTFZ  \\\n",
       "35  2.830000e+13   19.381  7.030000e+12  1.480000e+22   575.300  -837.03   \n",
       "36  2.450000e+13  412.788  1.950000e+13  1.470000e+22   543.877 -1310.00   \n",
       "37  1.100000e+13  112.787  4.990000e+12  8.330000e+21   264.399 -1397.20   \n",
       "38  9.900000e+12  106.824  4.090000e+12  5.840000e+21   274.060  -700.12   \n",
       "39  1.750000e+13    7.603  1.460000e+12  1.300000e+22   445.587  -824.99   \n",
       "\n",
       "     MEANPOT  R_VALUE    EPSZ  SHRGT45  \n",
       "35  12251.60    4.413 -0.0708   52.750  \n",
       "36   7055.95    4.016 -0.1592   36.680  \n",
       "37   3235.29    3.779 -0.3199   10.959  \n",
       "38   2512.23    3.557 -0.2210   15.092  \n",
       "39   1645.96    2.777 -0.0984    5.885  "
      ]
     },
     "execution_count": 1,
     "metadata": {},
     "output_type": "execute_result"
    }
   ],
   "source": [
    "import pandas as pd\n",
    "\n",
    "train_data = pd.read_csv(\"flaringar_training_sample.csv\")\n",
    "test_data = pd.read_csv(\"flaringar_simple_random_40.csv\")\n",
    "test_data.tail()"
   ]
  },
  {
   "cell_type": "code",
   "execution_count": 2,
   "id": "b68d951c",
   "metadata": {},
   "outputs": [
    {
     "data": {
      "text/html": [
       "<div>\n",
       "<style scoped>\n",
       "    .dataframe tbody tr th:only-of-type {\n",
       "        vertical-align: middle;\n",
       "    }\n",
       "\n",
       "    .dataframe tbody tr th {\n",
       "        vertical-align: top;\n",
       "    }\n",
       "\n",
       "    .dataframe thead th {\n",
       "        text-align: right;\n",
       "    }\n",
       "</style>\n",
       "<table border=\"1\" class=\"dataframe\">\n",
       "  <thead>\n",
       "    <tr style=\"text-align: right;\">\n",
       "      <th></th>\n",
       "      <th>Flare Class</th>\n",
       "      <th>TOTUSJH</th>\n",
       "      <th>TOTBSQ</th>\n",
       "      <th>TOTPOT</th>\n",
       "      <th>TOTUSJZ</th>\n",
       "      <th>ABSNJZH</th>\n",
       "      <th>SAVNCPP</th>\n",
       "      <th>USFLUX</th>\n",
       "      <th>AREA_ACR</th>\n",
       "      <th>TOTFZ</th>\n",
       "      <th>MEANPOT</th>\n",
       "      <th>R_VALUE</th>\n",
       "      <th>EPSZ</th>\n",
       "      <th>SHRGT45</th>\n",
       "    </tr>\n",
       "  </thead>\n",
       "  <tbody>\n",
       "    <tr>\n",
       "      <th>430</th>\n",
       "      <td>C</td>\n",
       "      <td>743.245</td>\n",
       "      <td>13725000000</td>\n",
       "      <td>1.475550e+23</td>\n",
       "      <td>16082100000000</td>\n",
       "      <td>73.285</td>\n",
       "      <td>5426240000000</td>\n",
       "      <td>9.225570e+21</td>\n",
       "      <td>353.352</td>\n",
       "      <td>-779.43</td>\n",
       "      <td>7435.87</td>\n",
       "      <td>4.088</td>\n",
       "      <td>-0.1077</td>\n",
       "      <td>39.185</td>\n",
       "    </tr>\n",
       "    <tr>\n",
       "      <th>431</th>\n",
       "      <td>C</td>\n",
       "      <td>4281.350</td>\n",
       "      <td>67987000000</td>\n",
       "      <td>8.338260e+23</td>\n",
       "      <td>95769800000000</td>\n",
       "      <td>159.449</td>\n",
       "      <td>5162270000000</td>\n",
       "      <td>5.596490e+22</td>\n",
       "      <td>2624.200</td>\n",
       "      <td>-3614.30</td>\n",
       "      <td>6302.36</td>\n",
       "      <td>4.613</td>\n",
       "      <td>-0.1008</td>\n",
       "      <td>28.577</td>\n",
       "    </tr>\n",
       "    <tr>\n",
       "      <th>432</th>\n",
       "      <td>C</td>\n",
       "      <td>684.895</td>\n",
       "      <td>11087000000</td>\n",
       "      <td>1.647180e+23</td>\n",
       "      <td>15992900000000</td>\n",
       "      <td>108.878</td>\n",
       "      <td>5275410000000</td>\n",
       "      <td>7.950740e+21</td>\n",
       "      <td>365.562</td>\n",
       "      <td>-343.34</td>\n",
       "      <td>8433.42</td>\n",
       "      <td>3.960</td>\n",
       "      <td>-0.0587</td>\n",
       "      <td>49.643</td>\n",
       "    </tr>\n",
       "    <tr>\n",
       "      <th>433</th>\n",
       "      <td>C</td>\n",
       "      <td>3871.270</td>\n",
       "      <td>58704000000</td>\n",
       "      <td>1.070800e+24</td>\n",
       "      <td>66559100000000</td>\n",
       "      <td>1102.640</td>\n",
       "      <td>28864400000000</td>\n",
       "      <td>3.657970e+22</td>\n",
       "      <td>1232.920</td>\n",
       "      <td>-3296.20</td>\n",
       "      <td>14386.10</td>\n",
       "      <td>4.909</td>\n",
       "      <td>-0.1065</td>\n",
       "      <td>48.315</td>\n",
       "    </tr>\n",
       "    <tr>\n",
       "      <th>434</th>\n",
       "      <td>C</td>\n",
       "      <td>1551.750</td>\n",
       "      <td>24716000000</td>\n",
       "      <td>2.316810e+23</td>\n",
       "      <td>33856400000000</td>\n",
       "      <td>245.392</td>\n",
       "      <td>14476000000000</td>\n",
       "      <td>2.530910e+22</td>\n",
       "      <td>649.013</td>\n",
       "      <td>-4553.90</td>\n",
       "      <td>4149.29</td>\n",
       "      <td>4.116</td>\n",
       "      <td>-0.3495</td>\n",
       "      <td>16.556</td>\n",
       "    </tr>\n",
       "  </tbody>\n",
       "</table>\n",
       "</div>"
      ],
      "text/plain": [
       "    Flare Class   TOTUSJH       TOTBSQ        TOTPOT         TOTUSJZ  \\\n",
       "430           C   743.245  13725000000  1.475550e+23  16082100000000   \n",
       "431           C  4281.350  67987000000  8.338260e+23  95769800000000   \n",
       "432           C   684.895  11087000000  1.647180e+23  15992900000000   \n",
       "433           C  3871.270  58704000000  1.070800e+24  66559100000000   \n",
       "434           C  1551.750  24716000000  2.316810e+23  33856400000000   \n",
       "\n",
       "      ABSNJZH         SAVNCPP        USFLUX  AREA_ACR    TOTFZ   MEANPOT  \\\n",
       "430    73.285   5426240000000  9.225570e+21   353.352  -779.43   7435.87   \n",
       "431   159.449   5162270000000  5.596490e+22  2624.200 -3614.30   6302.36   \n",
       "432   108.878   5275410000000  7.950740e+21   365.562  -343.34   8433.42   \n",
       "433  1102.640  28864400000000  3.657970e+22  1232.920 -3296.20  14386.10   \n",
       "434   245.392  14476000000000  2.530910e+22   649.013 -4553.90   4149.29   \n",
       "\n",
       "     R_VALUE    EPSZ  SHRGT45  \n",
       "430    4.088 -0.1077   39.185  \n",
       "431    4.613 -0.1008   28.577  \n",
       "432    3.960 -0.0587   49.643  \n",
       "433    4.909 -0.1065   48.315  \n",
       "434    4.116 -0.3495   16.556  "
      ]
     },
     "execution_count": 2,
     "metadata": {},
     "output_type": "execute_result"
    }
   ],
   "source": [
    "train_data.tail()"
   ]
  },
  {
   "cell_type": "code",
   "execution_count": null,
   "id": "5327f2e2",
   "metadata": {},
   "outputs": [],
   "source": []
  },
  {
   "cell_type": "code",
   "execution_count": 3,
   "id": "8f06477e",
   "metadata": {},
   "outputs": [],
   "source": [
    "x_train = train_data.drop(columns = \"Flare Class\")\n",
    "y_train = train_data['Flare Class']"
   ]
  },
  {
   "cell_type": "code",
   "execution_count": 4,
   "id": "fa6c5097",
   "metadata": {},
   "outputs": [
    {
     "data": {
      "text/plain": [
       "0      X\n",
       "1      X\n",
       "2      X\n",
       "3      X\n",
       "4      X\n",
       "      ..\n",
       "430    C\n",
       "431    C\n",
       "432    C\n",
       "433    C\n",
       "434    C\n",
       "Name: Flare Class, Length: 435, dtype: object"
      ]
     },
     "execution_count": 4,
     "metadata": {},
     "output_type": "execute_result"
    }
   ],
   "source": [
    "y_train"
   ]
  },
  {
   "cell_type": "code",
   "execution_count": 149,
   "id": "5eace8ae",
   "metadata": {},
   "outputs": [
    {
     "data": {
      "text/html": [
       "<div>\n",
       "<style scoped>\n",
       "    .dataframe tbody tr th:only-of-type {\n",
       "        vertical-align: middle;\n",
       "    }\n",
       "\n",
       "    .dataframe tbody tr th {\n",
       "        vertical-align: top;\n",
       "    }\n",
       "\n",
       "    .dataframe thead th {\n",
       "        text-align: right;\n",
       "    }\n",
       "</style>\n",
       "<table border=\"1\" class=\"dataframe\">\n",
       "  <thead>\n",
       "    <tr style=\"text-align: right;\">\n",
       "      <th></th>\n",
       "      <th>TOTUSJH</th>\n",
       "      <th>TOTBSQ</th>\n",
       "      <th>TOTPOT</th>\n",
       "      <th>TOTUSJZ</th>\n",
       "      <th>ABSNJZH</th>\n",
       "      <th>SAVNCPP</th>\n",
       "      <th>USFLUX</th>\n",
       "      <th>AREA_ACR</th>\n",
       "      <th>TOTFZ</th>\n",
       "      <th>MEANPOT</th>\n",
       "      <th>R_VALUE</th>\n",
       "      <th>EPSZ</th>\n",
       "      <th>SHRGT45</th>\n",
       "    </tr>\n",
       "  </thead>\n",
       "  <tbody>\n",
       "    <tr>\n",
       "      <th>count</th>\n",
       "      <td>435.000000</td>\n",
       "      <td>4.350000e+02</td>\n",
       "      <td>4.350000e+02</td>\n",
       "      <td>4.350000e+02</td>\n",
       "      <td>435.000000</td>\n",
       "      <td>4.350000e+02</td>\n",
       "      <td>4.350000e+02</td>\n",
       "      <td>435.000000</td>\n",
       "      <td>435.000000</td>\n",
       "      <td>435.000000</td>\n",
       "      <td>435.000000</td>\n",
       "      <td>435.000000</td>\n",
       "      <td>435.000000</td>\n",
       "    </tr>\n",
       "    <tr>\n",
       "      <th>mean</th>\n",
       "      <td>1783.002354</td>\n",
       "      <td>3.135001e+10</td>\n",
       "      <td>4.286130e+23</td>\n",
       "      <td>3.548901e+13</td>\n",
       "      <td>240.207857</td>\n",
       "      <td>9.846037e+12</td>\n",
       "      <td>2.286742e+22</td>\n",
       "      <td>925.748784</td>\n",
       "      <td>-2726.613970</td>\n",
       "      <td>7283.688713</td>\n",
       "      <td>3.879763</td>\n",
       "      <td>-0.180126</td>\n",
       "      <td>28.484575</td>\n",
       "    </tr>\n",
       "    <tr>\n",
       "      <th>std</th>\n",
       "      <td>1990.703086</td>\n",
       "      <td>3.628964e+10</td>\n",
       "      <td>6.936996e+23</td>\n",
       "      <td>3.668825e+13</td>\n",
       "      <td>369.123077</td>\n",
       "      <td>1.311533e+13</td>\n",
       "      <td>2.452246e+22</td>\n",
       "      <td>978.999477</td>\n",
       "      <td>3201.626042</td>\n",
       "      <td>4772.746887</td>\n",
       "      <td>0.776386</td>\n",
       "      <td>0.139119</td>\n",
       "      <td>15.225942</td>\n",
       "    </tr>\n",
       "    <tr>\n",
       "      <th>min</th>\n",
       "      <td>26.477000</td>\n",
       "      <td>8.724000e+08</td>\n",
       "      <td>7.490590e+20</td>\n",
       "      <td>3.684500e+11</td>\n",
       "      <td>0.501000</td>\n",
       "      <td>5.786140e+10</td>\n",
       "      <td>1.862340e+20</td>\n",
       "      <td>9.814020</td>\n",
       "      <td>-25663.000000</td>\n",
       "      <td>1097.680000</td>\n",
       "      <td>1.379000</td>\n",
       "      <td>-0.557600</td>\n",
       "      <td>0.054000</td>\n",
       "    </tr>\n",
       "    <tr>\n",
       "      <th>25%</th>\n",
       "      <td>567.107000</td>\n",
       "      <td>9.692600e+09</td>\n",
       "      <td>6.691065e+22</td>\n",
       "      <td>1.117925e+13</td>\n",
       "      <td>35.981500</td>\n",
       "      <td>1.873245e+12</td>\n",
       "      <td>7.221970e+21</td>\n",
       "      <td>294.217000</td>\n",
       "      <td>-3615.450000</td>\n",
       "      <td>3834.730000</td>\n",
       "      <td>3.484500</td>\n",
       "      <td>-0.273100</td>\n",
       "      <td>16.153500</td>\n",
       "    </tr>\n",
       "    <tr>\n",
       "      <th>50%</th>\n",
       "      <td>1061.760000</td>\n",
       "      <td>2.030200e+10</td>\n",
       "      <td>1.857720e+23</td>\n",
       "      <td>2.189960e+13</td>\n",
       "      <td>96.491000</td>\n",
       "      <td>4.832770e+12</td>\n",
       "      <td>1.534860e+22</td>\n",
       "      <td>604.826000</td>\n",
       "      <td>-1588.100000</td>\n",
       "      <td>5826.010000</td>\n",
       "      <td>3.979000</td>\n",
       "      <td>-0.166800</td>\n",
       "      <td>27.071000</td>\n",
       "    </tr>\n",
       "    <tr>\n",
       "      <th>75%</th>\n",
       "      <td>2374.765000</td>\n",
       "      <td>4.120700e+10</td>\n",
       "      <td>4.892940e+23</td>\n",
       "      <td>4.935565e+13</td>\n",
       "      <td>292.817000</td>\n",
       "      <td>1.281860e+13</td>\n",
       "      <td>2.954615e+22</td>\n",
       "      <td>1314.785000</td>\n",
       "      <td>-606.985000</td>\n",
       "      <td>9713.540000</td>\n",
       "      <td>4.420000</td>\n",
       "      <td>-0.074050</td>\n",
       "      <td>39.542000</td>\n",
       "    </tr>\n",
       "    <tr>\n",
       "      <th>max</th>\n",
       "      <td>14169.600000</td>\n",
       "      <td>2.759600e+11</td>\n",
       "      <td>5.279320e+24</td>\n",
       "      <td>2.398680e+14</td>\n",
       "      <td>2745.040000</td>\n",
       "      <td>9.329150e+13</td>\n",
       "      <td>1.964350e+23</td>\n",
       "      <td>6996.790000</td>\n",
       "      <td>1844.400000</td>\n",
       "      <td>27183.000000</td>\n",
       "      <td>5.463000</td>\n",
       "      <td>0.344000</td>\n",
       "      <td>72.794000</td>\n",
       "    </tr>\n",
       "  </tbody>\n",
       "</table>\n",
       "</div>"
      ],
      "text/plain": [
       "            TOTUSJH        TOTBSQ        TOTPOT       TOTUSJZ      ABSNJZH  \\\n",
       "count    435.000000  4.350000e+02  4.350000e+02  4.350000e+02   435.000000   \n",
       "mean    1783.002354  3.135001e+10  4.286130e+23  3.548901e+13   240.207857   \n",
       "std     1990.703086  3.628964e+10  6.936996e+23  3.668825e+13   369.123077   \n",
       "min       26.477000  8.724000e+08  7.490590e+20  3.684500e+11     0.501000   \n",
       "25%      567.107000  9.692600e+09  6.691065e+22  1.117925e+13    35.981500   \n",
       "50%     1061.760000  2.030200e+10  1.857720e+23  2.189960e+13    96.491000   \n",
       "75%     2374.765000  4.120700e+10  4.892940e+23  4.935565e+13   292.817000   \n",
       "max    14169.600000  2.759600e+11  5.279320e+24  2.398680e+14  2745.040000   \n",
       "\n",
       "            SAVNCPP        USFLUX     AREA_ACR         TOTFZ       MEANPOT  \\\n",
       "count  4.350000e+02  4.350000e+02   435.000000    435.000000    435.000000   \n",
       "mean   9.846037e+12  2.286742e+22   925.748784  -2726.613970   7283.688713   \n",
       "std    1.311533e+13  2.452246e+22   978.999477   3201.626042   4772.746887   \n",
       "min    5.786140e+10  1.862340e+20     9.814020 -25663.000000   1097.680000   \n",
       "25%    1.873245e+12  7.221970e+21   294.217000  -3615.450000   3834.730000   \n",
       "50%    4.832770e+12  1.534860e+22   604.826000  -1588.100000   5826.010000   \n",
       "75%    1.281860e+13  2.954615e+22  1314.785000   -606.985000   9713.540000   \n",
       "max    9.329150e+13  1.964350e+23  6996.790000   1844.400000  27183.000000   \n",
       "\n",
       "          R_VALUE        EPSZ     SHRGT45  \n",
       "count  435.000000  435.000000  435.000000  \n",
       "mean     3.879763   -0.180126   28.484575  \n",
       "std      0.776386    0.139119   15.225942  \n",
       "min      1.379000   -0.557600    0.054000  \n",
       "25%      3.484500   -0.273100   16.153500  \n",
       "50%      3.979000   -0.166800   27.071000  \n",
       "75%      4.420000   -0.074050   39.542000  \n",
       "max      5.463000    0.344000   72.794000  "
      ]
     },
     "execution_count": 149,
     "metadata": {},
     "output_type": "execute_result"
    }
   ],
   "source": [
    "x_train.describe()"
   ]
  },
  {
   "cell_type": "code",
   "execution_count": 146,
   "id": "93e1731c",
   "metadata": {},
   "outputs": [
    {
     "data": {
      "text/plain": [
       "M    142\n",
       "C    142\n",
       "B    128\n",
       "X     23\n",
       "Name: Flare Class, dtype: int64"
      ]
     },
     "execution_count": 146,
     "metadata": {},
     "output_type": "execute_result"
    }
   ],
   "source": [
    "y_train.value_counts()"
   ]
  },
  {
   "cell_type": "code",
   "execution_count": 5,
   "id": "ef1c1cf8",
   "metadata": {},
   "outputs": [
    {
     "data": {
      "text/html": [
       "<div>\n",
       "<style scoped>\n",
       "    .dataframe tbody tr th:only-of-type {\n",
       "        vertical-align: middle;\n",
       "    }\n",
       "\n",
       "    .dataframe tbody tr th {\n",
       "        vertical-align: top;\n",
       "    }\n",
       "\n",
       "    .dataframe thead th {\n",
       "        text-align: right;\n",
       "    }\n",
       "</style>\n",
       "<table border=\"1\" class=\"dataframe\">\n",
       "  <thead>\n",
       "    <tr style=\"text-align: right;\">\n",
       "      <th></th>\n",
       "      <th>Flare Class</th>\n",
       "      <th>TOTUSJH</th>\n",
       "      <th>TOTBSQ</th>\n",
       "      <th>TOTPOT</th>\n",
       "      <th>TOTUSJZ</th>\n",
       "      <th>ABSNJZH</th>\n",
       "      <th>SAVNCPP</th>\n",
       "      <th>USFLUX</th>\n",
       "      <th>AREA_ACR</th>\n",
       "      <th>TOTFZ</th>\n",
       "      <th>MEANPOT</th>\n",
       "      <th>R_VALUE</th>\n",
       "      <th>EPSZ</th>\n",
       "      <th>SHRGT45</th>\n",
       "    </tr>\n",
       "  </thead>\n",
       "  <tbody>\n",
       "    <tr>\n",
       "      <th>0</th>\n",
       "      <td>B</td>\n",
       "      <td>55.772</td>\n",
       "      <td>1.020700e+09</td>\n",
       "      <td>5.220000e+21</td>\n",
       "      <td>9.610000e+11</td>\n",
       "      <td>38.849</td>\n",
       "      <td>1.390000e+12</td>\n",
       "      <td>2.820000e+20</td>\n",
       "      <td>13.9159</td>\n",
       "      <td>115.820000</td>\n",
       "      <td>8009.98</td>\n",
       "      <td>3.102</td>\n",
       "      <td>0.2152</td>\n",
       "      <td>51.120</td>\n",
       "    </tr>\n",
       "    <tr>\n",
       "      <th>1</th>\n",
       "      <td>B</td>\n",
       "      <td>41.846</td>\n",
       "      <td>9.579600e+08</td>\n",
       "      <td>1.510000e+21</td>\n",
       "      <td>6.020000e+11</td>\n",
       "      <td>7.576</td>\n",
       "      <td>1.560000e+11</td>\n",
       "      <td>4.180000e+20</td>\n",
       "      <td>63.1692</td>\n",
       "      <td>-57.081000</td>\n",
       "      <td>2358.96</td>\n",
       "      <td>1.908</td>\n",
       "      <td>-0.1130</td>\n",
       "      <td>2.079</td>\n",
       "    </tr>\n",
       "    <tr>\n",
       "      <th>2</th>\n",
       "      <td>M</td>\n",
       "      <td>605.079</td>\n",
       "      <td>8.395900e+09</td>\n",
       "      <td>7.970000e+22</td>\n",
       "      <td>7.560000e+12</td>\n",
       "      <td>295.489</td>\n",
       "      <td>1.160000e+13</td>\n",
       "      <td>5.500000e+21</td>\n",
       "      <td>187.7550</td>\n",
       "      <td>-1069.000000</td>\n",
       "      <td>10742.80</td>\n",
       "      <td>4.173</td>\n",
       "      <td>-0.2415</td>\n",
       "      <td>12.511</td>\n",
       "    </tr>\n",
       "    <tr>\n",
       "      <th>3</th>\n",
       "      <td>B</td>\n",
       "      <td>34.981</td>\n",
       "      <td>1.882500e+09</td>\n",
       "      <td>1.590000e+21</td>\n",
       "      <td>6.240000e+11</td>\n",
       "      <td>1.055</td>\n",
       "      <td>7.150000e+11</td>\n",
       "      <td>4.610000e+20</td>\n",
       "      <td>134.5900</td>\n",
       "      <td>-0.072779</td>\n",
       "      <td>2012.54</td>\n",
       "      <td>2.449</td>\n",
       "      <td>-0.0001</td>\n",
       "      <td>1.010</td>\n",
       "    </tr>\n",
       "    <tr>\n",
       "      <th>4</th>\n",
       "      <td>B</td>\n",
       "      <td>633.567</td>\n",
       "      <td>1.114800e+10</td>\n",
       "      <td>1.060000e+23</td>\n",
       "      <td>8.990000e+12</td>\n",
       "      <td>30.109</td>\n",
       "      <td>4.540000e+12</td>\n",
       "      <td>7.240000e+21</td>\n",
       "      <td>255.5080</td>\n",
       "      <td>-1474.200000</td>\n",
       "      <td>9964.54</td>\n",
       "      <td>4.145</td>\n",
       "      <td>-0.2508</td>\n",
       "      <td>27.772</td>\n",
       "    </tr>\n",
       "  </tbody>\n",
       "</table>\n",
       "</div>"
      ],
      "text/plain": [
       "  Flare Class  TOTUSJH        TOTBSQ        TOTPOT       TOTUSJZ  ABSNJZH  \\\n",
       "0           B   55.772  1.020700e+09  5.220000e+21  9.610000e+11   38.849   \n",
       "1           B   41.846  9.579600e+08  1.510000e+21  6.020000e+11    7.576   \n",
       "2           M  605.079  8.395900e+09  7.970000e+22  7.560000e+12  295.489   \n",
       "3           B   34.981  1.882500e+09  1.590000e+21  6.240000e+11    1.055   \n",
       "4           B  633.567  1.114800e+10  1.060000e+23  8.990000e+12   30.109   \n",
       "\n",
       "        SAVNCPP        USFLUX  AREA_ACR        TOTFZ   MEANPOT  R_VALUE  \\\n",
       "0  1.390000e+12  2.820000e+20   13.9159   115.820000   8009.98    3.102   \n",
       "1  1.560000e+11  4.180000e+20   63.1692   -57.081000   2358.96    1.908   \n",
       "2  1.160000e+13  5.500000e+21  187.7550 -1069.000000  10742.80    4.173   \n",
       "3  7.150000e+11  4.610000e+20  134.5900    -0.072779   2012.54    2.449   \n",
       "4  4.540000e+12  7.240000e+21  255.5080 -1474.200000   9964.54    4.145   \n",
       "\n",
       "     EPSZ  SHRGT45  \n",
       "0  0.2152   51.120  \n",
       "1 -0.1130    2.079  \n",
       "2 -0.2415   12.511  \n",
       "3 -0.0001    1.010  \n",
       "4 -0.2508   27.772  "
      ]
     },
     "execution_count": 5,
     "metadata": {},
     "output_type": "execute_result"
    }
   ],
   "source": [
    "test = test_data.copy()\n",
    "\n",
    "def f(string):\n",
    "    return string[0]\n",
    "test['Flare Class'] = test['Flare Class'].apply(f)\n",
    "\n",
    "\n",
    "del test['fdate']\n",
    "del test['noaaar']\n",
    "\n",
    "test.head()"
   ]
  },
  {
   "cell_type": "code",
   "execution_count": 6,
   "id": "cbae6fbd",
   "metadata": {},
   "outputs": [],
   "source": [
    "x_test = test.drop(columns = ['Flare Class'])\n",
    "y_test = test['Flare Class']"
   ]
  },
  {
   "cell_type": "markdown",
   "id": "92edcb3e",
   "metadata": {},
   "source": [
    "# KNN"
   ]
  },
  {
   "cell_type": "code",
   "execution_count": 7,
   "id": "b84f9fd7",
   "metadata": {},
   "outputs": [],
   "source": [
    "from sklearn.neighbors import KNeighborsClassifier\n",
    "from sklearn.model_selection import cross_val_score\n",
    "from sklearn import preprocessing"
   ]
  },
  {
   "cell_type": "code",
   "execution_count": 8,
   "id": "0d06a72d",
   "metadata": {},
   "outputs": [],
   "source": [
    "from sklearn.metrics import confusion_matrix"
   ]
  },
  {
   "cell_type": "code",
   "execution_count": 9,
   "id": "ed088a2d",
   "metadata": {},
   "outputs": [],
   "source": [
    "scaler = preprocessing.StandardScaler()\n",
    "scaler.fit(x_train)\n",
    "x_train_scaled = scaler.transform(x_train)\n",
    "scaler.fit(x_test)\n",
    "x_test_scaled = scaler.transform(x_test)"
   ]
  },
  {
   "cell_type": "code",
   "execution_count": 10,
   "id": "fe2a34f5",
   "metadata": {},
   "outputs": [
    {
     "data": {
      "text/plain": [
       "KNeighborsClassifier()"
      ]
     },
     "execution_count": 10,
     "metadata": {},
     "output_type": "execute_result"
    }
   ],
   "source": [
    "clf1 = KNeighborsClassifier()\n",
    "clf1.fit(x_train_scaled, y_train)"
   ]
  },
  {
   "cell_type": "code",
   "execution_count": 11,
   "id": "99b4c941",
   "metadata": {},
   "outputs": [
    {
     "data": {
      "text/plain": [
       "0.625"
      ]
     },
     "execution_count": 11,
     "metadata": {},
     "output_type": "execute_result"
    }
   ],
   "source": [
    "clf1.score(x_test_scaled, y_test)"
   ]
  },
  {
   "cell_type": "code",
   "execution_count": 12,
   "id": "8bcde867",
   "metadata": {},
   "outputs": [],
   "source": [
    "import matplotlib.pyplot as plt"
   ]
  },
  {
   "cell_type": "code",
   "execution_count": 13,
   "id": "7b67f437",
   "metadata": {},
   "outputs": [
    {
     "data": {
      "image/png": "[encoded data removed]",
      "text/plain": [
       "<Figure size 432x288 with 1 Axes>"
      ]
     },
     "metadata": {
      "needs_background": "light"
     },
     "output_type": "display_data"
    }
   ],
   "source": [
    "x_axis = []\n",
    "y_axis = []\n",
    "for i in range(1, 16, 2):\n",
    "    clf8 = KNeighborsClassifier(n_neighbors = i)\n",
    "    score = cross_val_score(clf8, x_train_scaled, y_train)\n",
    "    x_axis.append(i)\n",
    "    y_axis.append(score.mean())\n",
    "    \n",
    "plt.plot(x_axis,y_axis)\n",
    "plt.grid()\n",
    "plt.show()"
   ]
  },
  {
   "cell_type": "code",
   "execution_count": 14,
   "id": "d1461ffb",
   "metadata": {},
   "outputs": [
    {
     "data": {
      "text/plain": [
       "array([[10,  5,  0,  0],\n",
       "       [ 3,  7,  2,  0],\n",
       "       [ 0,  2,  7,  0],\n",
       "       [ 0,  0,  3,  1]], dtype=int64)"
      ]
     },
     "execution_count": 14,
     "metadata": {},
     "output_type": "execute_result"
    }
   ],
   "source": [
    "y_pred = clf1.predict(x_test_scaled)\n",
    "confusion_matrix(y_test,y_pred)"
   ]
  },
  {
   "cell_type": "code",
   "execution_count": 15,
   "id": "053f000b",
   "metadata": {},
   "outputs": [],
   "source": [
    "y_pred_knn = y_pred"
   ]
  },
  {
   "cell_type": "markdown",
   "id": "8aafb54e",
   "metadata": {},
   "source": [
    "# Naive Bayes"
   ]
  },
  {
   "cell_type": "code",
   "execution_count": 16,
   "id": "956633c1",
   "metadata": {},
   "outputs": [],
   "source": [
    "from sklearn.naive_bayes import GaussianNB"
   ]
  },
  {
   "cell_type": "code",
   "execution_count": 17,
   "id": "1dff9c4c",
   "metadata": {},
   "outputs": [
    {
     "data": {
      "text/plain": [
       "GaussianNB()"
      ]
     },
     "execution_count": 17,
     "metadata": {},
     "output_type": "execute_result"
    }
   ],
   "source": [
    "clf3 = GaussianNB()\n",
    "clf3.fit(x_train, y_train)"
   ]
  },
  {
   "cell_type": "code",
   "execution_count": 18,
   "id": "e11c69d2",
   "metadata": {},
   "outputs": [
    {
     "data": {
      "text/plain": [
       "array([[15,  0,  0,  0],\n",
       "       [ 7,  5,  0,  0],\n",
       "       [ 5,  2,  2,  0],\n",
       "       [ 1,  0,  1,  2]], dtype=int64)"
      ]
     },
     "execution_count": 18,
     "metadata": {},
     "output_type": "execute_result"
    }
   ],
   "source": [
    "y_pred = clf3.predict(x_test)\n",
    "confusion_matrix(y_test, y_pred)"
   ]
  },
  {
   "cell_type": "code",
   "execution_count": 19,
   "id": "3ca76428",
   "metadata": {},
   "outputs": [],
   "source": [
    "y_pred_nb = y_pred"
   ]
  },
  {
   "cell_type": "code",
   "execution_count": 20,
   "id": "e38f1bdb",
   "metadata": {},
   "outputs": [
    {
     "data": {
      "text/plain": [
       "0.6"
      ]
     },
     "execution_count": 20,
     "metadata": {},
     "output_type": "execute_result"
    }
   ],
   "source": [
    "clf3.score(x_test, y_test)"
   ]
  },
  {
   "cell_type": "markdown",
   "id": "d7af64f7",
   "metadata": {},
   "source": [
    "# Random Forest"
   ]
  },
  {
   "cell_type": "code",
   "execution_count": 21,
   "id": "744c6aa9",
   "metadata": {},
   "outputs": [],
   "source": [
    "from sklearn.ensemble import RandomForestClassifier\n",
    "clf4 = RandomForestClassifier(n_estimators = 1000, \n",
    "                                       max_features=6, \n",
    "                                       n_jobs=1,random_state = 2)"
   ]
  },
  {
   "cell_type": "code",
   "execution_count": 22,
   "id": "48cad95d",
   "metadata": {},
   "outputs": [
    {
     "data": {
      "text/plain": [
       "RandomForestClassifier(max_features=6, n_estimators=1000, n_jobs=1,\n",
       "                       random_state=2)"
      ]
     },
     "execution_count": 22,
     "metadata": {},
     "output_type": "execute_result"
    }
   ],
   "source": [
    "clf4.fit(x_train, y_train)"
   ]
  },
  {
   "cell_type": "code",
   "execution_count": 23,
   "id": "2af2a3b6",
   "metadata": {},
   "outputs": [
    {
     "data": {
      "text/plain": [
       "0.875"
      ]
     },
     "execution_count": 23,
     "metadata": {},
     "output_type": "execute_result"
    }
   ],
   "source": [
    "clf4.score(x_test,y_test)  # RF classifier - the one in the paper"
   ]
  },
  {
   "cell_type": "code",
   "execution_count": 24,
   "id": "ec709ef1",
   "metadata": {},
   "outputs": [
    {
     "data": {
      "text/plain": [
       "RandomForestClassifier(random_state=2)"
      ]
     },
     "execution_count": 24,
     "metadata": {},
     "output_type": "execute_result"
    }
   ],
   "source": [
    "clf5 = RandomForestClassifier(random_state = 2)\n",
    "clf5.fit(x_train, y_train)"
   ]
  },
  {
   "cell_type": "code",
   "execution_count": 25,
   "id": "7a9a4350",
   "metadata": {},
   "outputs": [
    {
     "data": {
      "text/plain": [
       "0.825"
      ]
     },
     "execution_count": 25,
     "metadata": {},
     "output_type": "execute_result"
    }
   ],
   "source": [
    "clf5.score(x_test, y_test)"
   ]
  },
  {
   "cell_type": "code",
   "execution_count": 26,
   "id": "4c9d454f",
   "metadata": {},
   "outputs": [],
   "source": [
    "y_pred = clf5.predict(x_test) "
   ]
  },
  {
   "cell_type": "code",
   "execution_count": 27,
   "id": "07320cb3",
   "metadata": {},
   "outputs": [
    {
     "data": {
      "text/plain": [
       "array([[15,  0,  0,  0],\n",
       "       [ 5,  5,  2,  0],\n",
       "       [ 0,  0,  9,  0],\n",
       "       [ 0,  0,  0,  4]], dtype=int64)"
      ]
     },
     "execution_count": 27,
     "metadata": {},
     "output_type": "execute_result"
    }
   ],
   "source": [
    "confusion_matrix(y_test,y_pred)"
   ]
  },
  {
   "cell_type": "code",
   "execution_count": 28,
   "id": "15b81274",
   "metadata": {},
   "outputs": [
    {
     "data": {
      "text/plain": [
       "0.875"
      ]
     },
     "execution_count": 28,
     "metadata": {},
     "output_type": "execute_result"
    }
   ],
   "source": [
    "clf4.score(x_test,y_test)"
   ]
  },
  {
   "cell_type": "code",
   "execution_count": 29,
   "id": "56bfcc46",
   "metadata": {},
   "outputs": [],
   "source": [
    "y_pred_rf = y_pred"
   ]
  },
  {
   "cell_type": "code",
   "execution_count": 30,
   "id": "620c7cf0",
   "metadata": {},
   "outputs": [],
   "source": [
    "y_pred_rf_flare = clf4.predict(x_test)"
   ]
  },
  {
   "cell_type": "markdown",
   "id": "501f4373",
   "metadata": {},
   "source": [
    "# SVM"
   ]
  },
  {
   "cell_type": "code",
   "execution_count": 31,
   "id": "c5b83de9",
   "metadata": {},
   "outputs": [],
   "source": [
    "from sklearn.svm import SVC"
   ]
  },
  {
   "cell_type": "code",
   "execution_count": 32,
   "id": "e437960e",
   "metadata": {},
   "outputs": [
    {
     "data": {
      "text/plain": [
       "SVC(C=2)"
      ]
     },
     "execution_count": 32,
     "metadata": {},
     "output_type": "execute_result"
    }
   ],
   "source": [
    "clf6 = SVC(C=2)\n",
    "clf6.fit(x_train, y_train)"
   ]
  },
  {
   "cell_type": "code",
   "execution_count": 33,
   "id": "c1442b9e",
   "metadata": {},
   "outputs": [
    {
     "data": {
      "text/plain": [
       "0.475"
      ]
     },
     "execution_count": 33,
     "metadata": {},
     "output_type": "execute_result"
    }
   ],
   "source": [
    "clf6.score(x_test, y_test)"
   ]
  },
  {
   "cell_type": "code",
   "execution_count": 34,
   "id": "ddab9724",
   "metadata": {},
   "outputs": [],
   "source": [
    "from sklearn.model_selection import GridSearchCV"
   ]
  },
  {
   "cell_type": "code",
   "execution_count": 35,
   "id": "ae520c3a",
   "metadata": {},
   "outputs": [
    {
     "data": {
      "text/plain": [
       "GridSearchCV(estimator=SVC(),\n",
       "             param_grid={'C': [1, 2, 3, 4, 5, 10],\n",
       "                         'decision_function_shape': ['ovo', 'ovr'],\n",
       "                         'kernel': ['rbf']})"
      ]
     },
     "execution_count": 35,
     "metadata": {},
     "output_type": "execute_result"
    }
   ],
   "source": [
    "clf7 = SVC()\n",
    "grid = {'C':[1,2,3,4,5,10], \n",
    "        'kernel':['rbf'],\n",
    "       'decision_function_shape':['ovo', 'ovr']}\n",
    "abc = GridSearchCV(clf7, grid)\n",
    "abc.fit(x_train_scaled, y_train)"
   ]
  },
  {
   "cell_type": "code",
   "execution_count": 36,
   "id": "be8107ac",
   "metadata": {},
   "outputs": [
    {
     "data": {
      "text/plain": [
       "SVC(C=1, decision_function_shape='ovo')"
      ]
     },
     "execution_count": 36,
     "metadata": {},
     "output_type": "execute_result"
    }
   ],
   "source": [
    "abc.best_estimator_"
   ]
  },
  {
   "cell_type": "code",
   "execution_count": 37,
   "id": "73a7d9a0",
   "metadata": {},
   "outputs": [
    {
     "data": {
      "text/plain": [
       "0.45"
      ]
     },
     "execution_count": 37,
     "metadata": {},
     "output_type": "execute_result"
    }
   ],
   "source": [
    "clf8 = SVC(C=3, decision_function_shape='ovo', kernel='rbf')\n",
    "clf8.fit(x_train, y_train)\n",
    "clf8.score(x_test, y_test)"
   ]
  },
  {
   "cell_type": "code",
   "execution_count": 38,
   "id": "bba9b415",
   "metadata": {},
   "outputs": [
    {
     "data": {
      "text/plain": [
       "array([[12,  3,  0,  0],\n",
       "       [ 6,  2,  4,  0],\n",
       "       [ 4,  2,  3,  0],\n",
       "       [ 0,  1,  2,  1]], dtype=int64)"
      ]
     },
     "execution_count": 38,
     "metadata": {},
     "output_type": "execute_result"
    }
   ],
   "source": [
    "y_pred = clf8.predict(x_test)\n",
    "confusion_matrix(y_test,y_pred)"
   ]
  },
  {
   "cell_type": "code",
   "execution_count": 39,
   "id": "4de04d79",
   "metadata": {},
   "outputs": [],
   "source": [
    "y_pred_svm = y_pred"
   ]
  },
  {
   "cell_type": "code",
   "execution_count": null,
   "id": "61fd9275",
   "metadata": {},
   "outputs": [],
   "source": []
  },
  {
   "cell_type": "markdown",
   "id": "2fb9cc28",
   "metadata": {},
   "source": [
    "# MLP (Multi Layer Perceptron)"
   ]
  },
  {
   "cell_type": "code",
   "execution_count": 40,
   "id": "cffef0a1",
   "metadata": {},
   "outputs": [],
   "source": [
    "x_test = test.drop(columns = ['Flare Class'])\n",
    "y_test = test['Flare Class']"
   ]
  },
  {
   "cell_type": "code",
   "execution_count": 41,
   "id": "7ae8b6eb",
   "metadata": {},
   "outputs": [],
   "source": [
    "scaler = preprocessing.StandardScaler()\n",
    "scaler.fit(x_train)\n",
    "x_train_scaled = scaler.transform(x_train)\n",
    "scaler.fit(x_test)\n",
    "x_test_scaled = scaler.transform(x_test)"
   ]
  },
  {
   "cell_type": "code",
   "execution_count": 42,
   "id": "6cbd5cc5",
   "metadata": {},
   "outputs": [],
   "source": [
    "from sklearn.neural_network import MLPClassifier"
   ]
  },
  {
   "cell_type": "code",
   "execution_count": 43,
   "id": "2a9ace8a",
   "metadata": {},
   "outputs": [],
   "source": [
    "h = []\n",
    "for i in range(0,200):\n",
    "    h.append(150)\n",
    "h = tuple(h)\n",
    "alg_model = MLPClassifier(hidden_layer_sizes=h, \n",
    "                              activation='relu', \n",
    "                              solver='lbfgs', \n",
    "                              batch_size=200)"
   ]
  },
  {
   "cell_type": "code",
   "execution_count": 44,
   "id": "a7f249f7",
   "metadata": {},
   "outputs": [],
   "source": [
    "alg_model.fit(x_train_scaled,y_train)\n",
    "y_pred_mlp=alg_model.predict(x_test_scaled)"
   ]
  },
  {
   "cell_type": "code",
   "execution_count": 45,
   "id": "b2968e5d",
   "metadata": {},
   "outputs": [
    {
     "data": {
      "text/plain": [
       "0.225"
      ]
     },
     "execution_count": 45,
     "metadata": {},
     "output_type": "execute_result"
    }
   ],
   "source": [
    "alg_model.score(x_test_scaled, y_test)"
   ]
  },
  {
   "cell_type": "code",
   "execution_count": 46,
   "id": "ee39d345",
   "metadata": {},
   "outputs": [],
   "source": [
    "y_pred_mlp = alg_model.predict(x_test_scaled)"
   ]
  },
  {
   "cell_type": "markdown",
   "id": "f660c52b",
   "metadata": {},
   "source": [
    "# ELM (Extreme Learning Machines)"
   ]
  },
  {
   "cell_type": "code",
   "execution_count": 47,
   "id": "04914ae1",
   "metadata": {},
   "outputs": [
    {
     "name": "stdout",
     "output_type": "stream",
     "text": [
      "Requirement already satisfied: sklearn-extensions==0.0.2 in c:\\users\\226735 c2in\\appdata\\local\\programs\\python\\python37\\lib\\site-packages (0.0.2)\n",
      "Requirement already satisfied: numpy>=1.9.0 in c:\\users\\226735 c2in\\appdata\\local\\programs\\python\\python37\\lib\\site-packages (from sklearn-extensions==0.0.2) (1.19.5)\n",
      "Requirement already satisfied: scikit-learn>=0.15 in c:\\users\\226735 c2in\\appdata\\local\\programs\\python\\python37\\lib\\site-packages (from sklearn-extensions==0.0.2) (0.24.2)\n",
      "Requirement already satisfied: scipy>=0.16.0 in c:\\users\\226735 c2in\\appdata\\local\\programs\\python\\python37\\lib\\site-packages (from sklearn-extensions==0.0.2) (1.7.3)\n",
      "Requirement already satisfied: joblib>=0.11 in c:\\users\\226735 c2in\\appdata\\roaming\\python\\python37\\site-packages (from scikit-learn>=0.15->sklearn-extensions==0.0.2) (1.1.0)\n",
      "Requirement already satisfied: threadpoolctl>=2.0.0 in c:\\users\\226735 c2in\\appdata\\local\\programs\\python\\python37\\lib\\site-packages (from scikit-learn>=0.15->sklearn-extensions==0.0.2) (3.1.0)\n",
      "Note: you may need to restart the kernel to use updated packages.\n"
     ]
    },
    {
     "name": "stderr",
     "output_type": "stream",
     "text": [
      "You are using pip version 19.0.3, however version 22.3.1 is available.\n",
      "You should consider upgrading via the 'python -m pip install --upgrade pip' command.\n"
     ]
    }
   ],
   "source": [
    "pip install sklearn-extensions==0.0.2"
   ]
  },
  {
   "cell_type": "code",
   "execution_count": 48,
   "id": "fce124ae",
   "metadata": {},
   "outputs": [
    {
     "name": "stdout",
     "output_type": "stream",
     "text": [
      "3.7.4\n"
     ]
    }
   ],
   "source": [
    "from platform import python_version\n",
    "print(python_version())"
   ]
  },
  {
   "cell_type": "code",
   "execution_count": 49,
   "id": "b2edf47a",
   "metadata": {},
   "outputs": [
    {
     "name": "stdout",
     "output_type": "stream",
     "text": [
      "Requirement already satisfied: numpy==1.19.5 in c:\\users\\226735 c2in\\appdata\\local\\programs\\python\\python37\\lib\\site-packages (1.19.5)\n",
      "Note: you may need to restart the kernel to use updated packages.\n"
     ]
    },
    {
     "name": "stderr",
     "output_type": "stream",
     "text": [
      "You are using pip version 19.0.3, however version 22.3.1 is available.\n",
      "You should consider upgrading via the 'python -m pip install --upgrade pip' command.\n"
     ]
    }
   ],
   "source": [
    "pip install numpy==1.19.5"
   ]
  },
  {
   "cell_type": "code",
   "execution_count": 50,
   "id": "15b6f942",
   "metadata": {},
   "outputs": [
    {
     "name": "stdout",
     "output_type": "stream",
     "text": [
      "Requirement already satisfied: scikit-learn==0.24.2 in c:\\users\\226735 c2in\\appdata\\local\\programs\\python\\python37\\lib\\site-packages (0.24.2)\n",
      "Requirement already satisfied: threadpoolctl>=2.0.0 in c:\\users\\226735 c2in\\appdata\\local\\programs\\python\\python37\\lib\\site-packages (from scikit-learn==0.24.2) (3.1.0)\n",
      "Requirement already satisfied: joblib>=0.11 in c:\\users\\226735 c2in\\appdata\\roaming\\python\\python37\\site-packages (from scikit-learn==0.24.2) (1.1.0)\n",
      "Requirement already satisfied: scipy>=0.19.1 in c:\\users\\226735 c2in\\appdata\\local\\programs\\python\\python37\\lib\\site-packages (from scikit-learn==0.24.2) (1.7.3)\n",
      "Requirement already satisfied: numpy>=1.13.3 in c:\\users\\226735 c2in\\appdata\\local\\programs\\python\\python37\\lib\\site-packages (from scikit-learn==0.24.2) (1.19.5)\n",
      "Note: you may need to restart the kernel to use updated packages.\n"
     ]
    },
    {
     "name": "stderr",
     "output_type": "stream",
     "text": [
      "You are using pip version 19.0.3, however version 22.3.1 is available.\n",
      "You should consider upgrading via the 'python -m pip install --upgrade pip' command.\n"
     ]
    }
   ],
   "source": [
    "pip install scikit-learn==0.24.2"
   ]
  },
  {
   "cell_type": "code",
   "execution_count": 51,
   "id": "e5ff0f81",
   "metadata": {},
   "outputs": [
    {
     "name": "stdout",
     "output_type": "stream",
     "text": [
      "Requirement already satisfied: matplotlib==3.4.2 in c:\\users\\226735 c2in\\appdata\\local\\programs\\python\\python37\\lib\\site-packages (3.4.2)\n",
      "Requirement already satisfied: numpy>=1.16 in c:\\users\\226735 c2in\\appdata\\local\\programs\\python\\python37\\lib\\site-packages (from matplotlib==3.4.2) (1.19.5)\n",
      "Requirement already satisfied: pyparsing>=2.2.1 in c:\\users\\226735 c2in\\appdata\\roaming\\python\\python37\\site-packages (from matplotlib==3.4.2) (3.0.6)\n",
      "Requirement already satisfied: cycler>=0.10 in c:\\users\\226735 c2in\\appdata\\roaming\\python\\python37\\site-packages (from matplotlib==3.4.2) (0.11.0)\n",
      "Requirement already satisfied: python-dateutil>=2.7 in c:\\users\\226735 c2in\\appdata\\roaming\\python\\python37\\site-packages (from matplotlib==3.4.2) (2.8.2)\n",
      "Requirement already satisfied: pillow>=6.2.0 in c:\\users\\226735 c2in\\appdata\\roaming\\python\\python37\\site-packages (from matplotlib==3.4.2) (8.4.0)\n",
      "Requirement already satisfied: kiwisolver>=1.0.1 in c:\\users\\226735 c2in\\appdata\\roaming\\python\\python37\\site-packages (from matplotlib==3.4.2) (1.3.2)\n",
      "Requirement already satisfied: six>=1.5 in c:\\users\\226735 c2in\\appdata\\roaming\\python\\python37\\site-packages (from python-dateutil>=2.7->matplotlib==3.4.2) (1.16.0)\n",
      "Note: you may need to restart the kernel to use updated packages.\n"
     ]
    },
    {
     "name": "stderr",
     "output_type": "stream",
     "text": [
      "You are using pip version 19.0.3, however version 22.3.1 is available.\n",
      "You should consider upgrading via the 'python -m pip install --upgrade pip' command.\n"
     ]
    }
   ],
   "source": [
    "pip install matplotlib==3.4.2"
   ]
  },
  {
   "cell_type": "code",
   "execution_count": 52,
   "id": "6034807b",
   "metadata": {},
   "outputs": [
    {
     "name": "stdout",
     "output_type": "stream",
     "text": [
      "Requirement already satisfied: pandas==1.2.4 in c:\\users\\226735 c2in\\appdata\\local\\programs\\python\\python37\\lib\\site-packages (1.2.4)Note: you may need to restart the kernel to use updated packages.\n",
      "Requirement already satisfied: pytz>=2017.3 in c:\\users\\226735 c2in\\appdata\\local\\programs\\python\\python37\\lib\\site-packages (from pandas==1.2.4) (2021.3)\n",
      "Requirement already satisfied: python-dateutil>=2.7.3 in c:\\users\\226735 c2in\\appdata\\roaming\\python\\python37\\site-packages (from pandas==1.2.4) (2.8.2)\n",
      "Requirement already satisfied: numpy>=1.16.5 in c:\\users\\226735 c2in\\appdata\\local\\programs\\python\\python37\\lib\\site-packages (from pandas==1.2.4) (1.19.5)\n",
      "Requirement already satisfied: six>=1.5 in c:\\users\\226735 c2in\\appdata\\roaming\\python\\python37\\site-packages (from python-dateutil>=2.7.3->pandas==1.2.4) (1.16.0)\n",
      "\n"
     ]
    },
    {
     "name": "stderr",
     "output_type": "stream",
     "text": [
      "You are using pip version 19.0.3, however version 22.3.1 is available.\n",
      "You should consider upgrading via the 'python -m pip install --upgrade pip' command.\n"
     ]
    }
   ],
   "source": [
    "pip install pandas==1.2.4"
   ]
  },
  {
   "cell_type": "code",
   "execution_count": 53,
   "id": "b4fd2e8c",
   "metadata": {},
   "outputs": [
    {
     "name": "stderr",
     "output_type": "stream",
     "text": [
      "c:\\users\\226735 c2in\\appdata\\local\\programs\\python\\python37\\lib\\site-packages\\sklearn\\utils\\validation.py:72: FutureWarning: Pass neg_label=-1, pos_label=1 as keyword args. From version 1.0 (renaming of 0.25) passing these as positional arguments will result in an error\n",
      "  \"will result in an error\", FutureWarning)\n"
     ]
    }
   ],
   "source": [
    "from sklearn_extensions.extreme_learning_machines.elm import GenELMClassifier\n",
    "from sklearn_extensions.extreme_learning_machines.random_layer import RBFRandomLayer, MLPRandomLayer"
   ]
  },
  {
   "cell_type": "code",
   "execution_count": 54,
   "id": "516901fa",
   "metadata": {},
   "outputs": [],
   "source": [
    "import sklearn_extensions.extreme_learning_machines.elm as elm"
   ]
  },
  {
   "cell_type": "code",
   "execution_count": 55,
   "id": "f90deb90",
   "metadata": {},
   "outputs": [],
   "source": [
    "from sklearn_extensions.extreme_learning_machines.random_layer import RBFRandomLayer, MLPRandomLayer"
   ]
  },
  {
   "cell_type": "code",
   "execution_count": 56,
   "id": "e3518908",
   "metadata": {},
   "outputs": [],
   "source": [
    "ml_layer = MLPRandomLayer(n_hidden=200, \n",
    "                              activation_func='tanh')\n",
    "alg_model = GenELMClassifier(hidden_layer=ml_layer)"
   ]
  },
  {
   "cell_type": "code",
   "execution_count": 57,
   "id": "1b8509c9",
   "metadata": {},
   "outputs": [
    {
     "data": {
      "text/plain": [
       "array(['M', 'C', 'M', 'C', 'C', 'M', 'B', 'B', 'C', 'B', 'M', 'B', 'B',\n",
       "       'C', 'B', 'B', 'M', 'B', 'C', 'B', 'M', 'X', 'M', 'X', 'M', 'C',\n",
       "       'C', 'M', 'M', 'C', 'C', 'M', 'M', 'B', 'C', 'C', 'M', 'C', 'C',\n",
       "       'C'], dtype='<U1')"
      ]
     },
     "execution_count": 57,
     "metadata": {},
     "output_type": "execute_result"
    }
   ],
   "source": [
    "alg_model.fit(x_train_scaled,y_train)\n",
    "alg_model.predict(x_test_scaled)"
   ]
  },
  {
   "cell_type": "code",
   "execution_count": 58,
   "id": "14a78aa1",
   "metadata": {},
   "outputs": [
    {
     "data": {
      "text/plain": [
       "0.575"
      ]
     },
     "execution_count": 58,
     "metadata": {},
     "output_type": "execute_result"
    }
   ],
   "source": [
    "alg_model.score(x_test_scaled, y_test)"
   ]
  },
  {
   "cell_type": "code",
   "execution_count": 59,
   "id": "adac36aa",
   "metadata": {},
   "outputs": [],
   "source": [
    "y_pred_elm = alg_model.predict(x_test_scaled)"
   ]
  },
  {
   "cell_type": "markdown",
   "id": "b4b43566",
   "metadata": {},
   "source": [
    "# Bagging"
   ]
  },
  {
   "cell_type": "code",
   "execution_count": 60,
   "id": "fa429829",
   "metadata": {},
   "outputs": [
    {
     "data": {
      "text/plain": [
       "array(['B', 'B', 'M', 'B', 'B', 'M', 'B', 'B', 'C', 'B', 'M', 'B', 'B',\n",
       "       'B', 'B', 'B', 'B', 'B', 'B', 'B', 'X', 'X', 'X', 'X', 'M', 'M',\n",
       "       'M', 'M', 'M', 'M', 'B', 'M', 'B', 'B', 'C', 'C', 'C', 'C', 'C',\n",
       "       'B'], dtype=object)"
      ]
     },
     "execution_count": 60,
     "metadata": {},
     "output_type": "execute_result"
    }
   ],
   "source": [
    "from numpy import mean\n",
    "from numpy import std\n",
    "from sklearn.model_selection import RepeatedStratifiedKFold\n",
    "from sklearn.ensemble import BaggingClassifier\n",
    "model = BaggingClassifier()\n",
    "model.fit(x_train, y_train)\n",
    "model.predict(x_test)\n"
   ]
  },
  {
   "cell_type": "code",
   "execution_count": 61,
   "id": "edc4c4d7",
   "metadata": {},
   "outputs": [
    {
     "data": {
      "text/plain": [
       "{'base_estimator': None,\n",
       " 'bootstrap': True,\n",
       " 'bootstrap_features': False,\n",
       " 'max_features': 1.0,\n",
       " 'max_samples': 1.0,\n",
       " 'n_estimators': 10,\n",
       " 'n_jobs': None,\n",
       " 'oob_score': False,\n",
       " 'random_state': None,\n",
       " 'verbose': 0,\n",
       " 'warm_start': False}"
      ]
     },
     "execution_count": 61,
     "metadata": {},
     "output_type": "execute_result"
    }
   ],
   "source": [
    "model.get_params()"
   ]
  },
  {
   "cell_type": "code",
   "execution_count": 62,
   "id": "d8cb4026",
   "metadata": {},
   "outputs": [
    {
     "data": {
      "text/plain": [
       "0.85"
      ]
     },
     "execution_count": 62,
     "metadata": {},
     "output_type": "execute_result"
    }
   ],
   "source": [
    "model.score(x_test, y_test)"
   ]
  },
  {
   "cell_type": "code",
   "execution_count": 63,
   "id": "3439fd21",
   "metadata": {},
   "outputs": [],
   "source": [
    "y_pred_bagging = model.predict(x_test)"
   ]
  },
  {
   "cell_type": "markdown",
   "id": "af171a72",
   "metadata": {},
   "source": [
    "# AdaBoost"
   ]
  },
  {
   "cell_type": "code",
   "execution_count": 64,
   "id": "e223dac8",
   "metadata": {},
   "outputs": [
    {
     "data": {
      "text/plain": [
       "array(['B', 'B', 'M', 'B', 'M', 'C', 'B', 'B', 'C', 'C', 'C', 'B', 'B',\n",
       "       'B', 'B', 'B', 'B', 'B', 'B', 'B', 'M', 'M', 'C', 'M', 'C', 'C',\n",
       "       'C', 'M', 'M', 'M', 'C', 'M', 'C', 'B', 'B', 'M', 'C', 'C', 'B',\n",
       "       'C'], dtype=object)"
      ]
     },
     "execution_count": 64,
     "metadata": {},
     "output_type": "execute_result"
    }
   ],
   "source": [
    "from sklearn.ensemble import AdaBoostClassifier\n",
    "\n",
    "clf = AdaBoostClassifier(random_state = 2)\n",
    "clf.fit(x_train, y_train)\n",
    "clf.predict(x_test)\n"
   ]
  },
  {
   "cell_type": "code",
   "execution_count": 65,
   "id": "e048aa90",
   "metadata": {},
   "outputs": [
    {
     "data": {
      "text/plain": [
       "{'algorithm': 'SAMME.R',\n",
       " 'base_estimator': None,\n",
       " 'learning_rate': 1.0,\n",
       " 'n_estimators': 50,\n",
       " 'random_state': 2}"
      ]
     },
     "execution_count": 65,
     "metadata": {},
     "output_type": "execute_result"
    }
   ],
   "source": [
    "clf.get_params()"
   ]
  },
  {
   "cell_type": "code",
   "execution_count": 66,
   "id": "7ee47583",
   "metadata": {},
   "outputs": [
    {
     "data": {
      "text/plain": [
       "0.625"
      ]
     },
     "execution_count": 66,
     "metadata": {},
     "output_type": "execute_result"
    }
   ],
   "source": [
    "clf.score(x_test, y_test)"
   ]
  },
  {
   "cell_type": "code",
   "execution_count": 67,
   "id": "79d898f4",
   "metadata": {},
   "outputs": [],
   "source": [
    "y_pred_adaboost = clf.predict(x_test)"
   ]
  },
  {
   "cell_type": "markdown",
   "id": "504f6f1c",
   "metadata": {},
   "source": [
    "# GradientBoostingClassifier"
   ]
  },
  {
   "cell_type": "code",
   "execution_count": 68,
   "id": "0bf611f9",
   "metadata": {},
   "outputs": [
    {
     "data": {
      "text/plain": [
       "array(['B', 'B', 'M', 'B', 'B', 'M', 'B', 'B', 'C', 'B', 'M', 'B', 'B',\n",
       "       'B', 'B', 'B', 'B', 'B', 'B', 'B', 'X', 'X', 'X', 'X', 'M', 'M',\n",
       "       'M', 'M', 'M', 'M', 'B', 'M', 'C', 'B', 'C', 'C', 'M', 'C', 'B',\n",
       "       'C'], dtype=object)"
      ]
     },
     "execution_count": 68,
     "metadata": {},
     "output_type": "execute_result"
    }
   ],
   "source": [
    "from sklearn.ensemble import GradientBoostingClassifier\n",
    "\n",
    "clf11 = GradientBoostingClassifier(random_state = 2)\n",
    "clf11.fit(x_train, y_train)\n",
    "clf11.predict(x_test)\n"
   ]
  },
  {
   "cell_type": "code",
   "execution_count": 69,
   "id": "b4a9c6b5",
   "metadata": {},
   "outputs": [
    {
     "data": {
      "text/plain": [
       "{'ccp_alpha': 0.0,\n",
       " 'criterion': 'friedman_mse',\n",
       " 'init': None,\n",
       " 'learning_rate': 0.1,\n",
       " 'loss': 'deviance',\n",
       " 'max_depth': 3,\n",
       " 'max_features': None,\n",
       " 'max_leaf_nodes': None,\n",
       " 'min_impurity_decrease': 0.0,\n",
       " 'min_impurity_split': None,\n",
       " 'min_samples_leaf': 1,\n",
       " 'min_samples_split': 2,\n",
       " 'min_weight_fraction_leaf': 0.0,\n",
       " 'n_estimators': 100,\n",
       " 'n_iter_no_change': None,\n",
       " 'random_state': 2,\n",
       " 'subsample': 1.0,\n",
       " 'tol': 0.0001,\n",
       " 'validation_fraction': 0.1,\n",
       " 'verbose': 0,\n",
       " 'warm_start': False}"
      ]
     },
     "execution_count": 69,
     "metadata": {},
     "output_type": "execute_result"
    }
   ],
   "source": [
    "clf11.get_params()"
   ]
  },
  {
   "cell_type": "code",
   "execution_count": 70,
   "id": "268b38a5",
   "metadata": {},
   "outputs": [
    {
     "data": {
      "text/plain": [
       "0.85"
      ]
     },
     "execution_count": 70,
     "metadata": {},
     "output_type": "execute_result"
    }
   ],
   "source": [
    "clf11.score(x_test, y_test)"
   ]
  },
  {
   "cell_type": "code",
   "execution_count": 71,
   "id": "68abd7ec",
   "metadata": {},
   "outputs": [],
   "source": [
    "y_pred_gboost = clf11.predict(x_test)"
   ]
  },
  {
   "cell_type": "markdown",
   "id": "5a391bb9",
   "metadata": {},
   "source": [
    "# ExtraTreesClassifier"
   ]
  },
  {
   "cell_type": "code",
   "execution_count": 72,
   "id": "5ff02537",
   "metadata": {},
   "outputs": [
    {
     "data": {
      "text/plain": [
       "array(['B', 'B', 'M', 'B', 'B', 'M', 'B', 'B', 'C', 'B', 'M', 'B', 'B',\n",
       "       'B', 'B', 'B', 'B', 'B', 'B', 'B', 'X', 'X', 'X', 'X', 'M', 'M',\n",
       "       'M', 'M', 'M', 'M', 'B', 'M', 'M', 'B', 'C', 'C', 'M', 'C', 'B',\n",
       "       'B'], dtype=object)"
      ]
     },
     "execution_count": 72,
     "metadata": {},
     "output_type": "execute_result"
    }
   ],
   "source": [
    "from sklearn.ensemble import ExtraTreesClassifier\n",
    "clf12 = ExtraTreesClassifier(random_state = 2)\n",
    "clf12.fit(x_train, y_train)\n",
    "clf12.predict(x_test)"
   ]
  },
  {
   "cell_type": "code",
   "execution_count": 73,
   "id": "326c27f8",
   "metadata": {},
   "outputs": [
    {
     "data": {
      "text/plain": [
       "{'bootstrap': False,\n",
       " 'ccp_alpha': 0.0,\n",
       " 'class_weight': None,\n",
       " 'criterion': 'gini',\n",
       " 'max_depth': None,\n",
       " 'max_features': 'auto',\n",
       " 'max_leaf_nodes': None,\n",
       " 'max_samples': None,\n",
       " 'min_impurity_decrease': 0.0,\n",
       " 'min_impurity_split': None,\n",
       " 'min_samples_leaf': 1,\n",
       " 'min_samples_split': 2,\n",
       " 'min_weight_fraction_leaf': 0.0,\n",
       " 'n_estimators': 100,\n",
       " 'n_jobs': None,\n",
       " 'oob_score': False,\n",
       " 'random_state': 2,\n",
       " 'verbose': 0,\n",
       " 'warm_start': False}"
      ]
     },
     "execution_count": 73,
     "metadata": {},
     "output_type": "execute_result"
    }
   ],
   "source": [
    "clf12.get_params()"
   ]
  },
  {
   "cell_type": "code",
   "execution_count": 74,
   "id": "f63c4351",
   "metadata": {},
   "outputs": [
    {
     "data": {
      "text/plain": [
       "0.8"
      ]
     },
     "execution_count": 74,
     "metadata": {},
     "output_type": "execute_result"
    }
   ],
   "source": [
    "clf12.score(x_test, y_test)"
   ]
  },
  {
   "cell_type": "code",
   "execution_count": 75,
   "id": "c2af3f36",
   "metadata": {},
   "outputs": [],
   "source": [
    "y_pred_extratrees = clf12.predict(x_test)"
   ]
  },
  {
   "cell_type": "markdown",
   "id": "85c1d31e",
   "metadata": {},
   "source": [
    "# GaussianProcess Classifier"
   ]
  },
  {
   "cell_type": "code",
   "execution_count": 76,
   "id": "e3c7b12f",
   "metadata": {},
   "outputs": [
    {
     "data": {
      "text/plain": [
       "array(['X', 'X', 'X', 'X', 'X', 'X', 'X', 'X', 'X', 'X', 'X', 'X', 'X',\n",
       "       'X', 'X', 'X', 'X', 'X', 'X', 'X', 'X', 'X', 'X', 'X', 'X', 'X',\n",
       "       'X', 'X', 'X', 'X', 'X', 'X', 'X', 'X', 'X', 'X', 'X', 'X', 'X',\n",
       "       'X'], dtype='<U1')"
      ]
     },
     "execution_count": 76,
     "metadata": {},
     "output_type": "execute_result"
    }
   ],
   "source": [
    "from sklearn.gaussian_process import GaussianProcessClassifier\n",
    "from sklearn.gaussian_process.kernels import RBF\n",
    "kernel = 1.0 * RBF(1.0)\n",
    "clf13 = GaussianProcessClassifier(kernel=kernel,random_state=2)\n",
    "clf13.fit(x_train, y_train)\n",
    "clf13.predict(x_test)"
   ]
  },
  {
   "cell_type": "code",
   "execution_count": 77,
   "id": "a3189f4a",
   "metadata": {},
   "outputs": [
    {
     "data": {
      "text/plain": [
       "{'copy_X_train': True,\n",
       " 'kernel__k1': 1**2,\n",
       " 'kernel__k2': RBF(length_scale=1),\n",
       " 'kernel__k1__constant_value': 1.0,\n",
       " 'kernel__k1__constant_value_bounds': (1e-05, 100000.0),\n",
       " 'kernel__k2__length_scale': 1.0,\n",
       " 'kernel__k2__length_scale_bounds': (1e-05, 100000.0),\n",
       " 'kernel': 1**2 * RBF(length_scale=1),\n",
       " 'max_iter_predict': 100,\n",
       " 'multi_class': 'one_vs_rest',\n",
       " 'n_jobs': None,\n",
       " 'n_restarts_optimizer': 0,\n",
       " 'optimizer': 'fmin_l_bfgs_b',\n",
       " 'random_state': 2,\n",
       " 'warm_start': False}"
      ]
     },
     "execution_count": 77,
     "metadata": {},
     "output_type": "execute_result"
    }
   ],
   "source": [
    "clf13.get_params()"
   ]
  },
  {
   "cell_type": "code",
   "execution_count": 78,
   "id": "cacf574d",
   "metadata": {},
   "outputs": [
    {
     "data": {
      "text/plain": [
       "0.1"
      ]
     },
     "execution_count": 78,
     "metadata": {},
     "output_type": "execute_result"
    }
   ],
   "source": [
    "clf13.score(x_test, y_test)"
   ]
  },
  {
   "cell_type": "markdown",
   "id": "6a1c5fb8",
   "metadata": {},
   "source": [
    "# PassiveAgressive Classifier"
   ]
  },
  {
   "cell_type": "code",
   "execution_count": 79,
   "id": "6dd440c5",
   "metadata": {},
   "outputs": [
    {
     "data": {
      "text/plain": [
       "array(['C', 'B', 'C', 'B', 'C', 'B', 'C', 'B', 'B', 'C', 'C', 'B', 'C',\n",
       "       'B', 'B', 'B', 'B', 'C', 'C', 'C', 'C', 'C', 'C', 'C', 'C', 'B',\n",
       "       'B', 'C', 'C', 'C', 'B', 'C', 'C', 'B', 'B', 'C', 'C', 'B', 'B',\n",
       "       'B'], dtype='<U1')"
      ]
     },
     "execution_count": 79,
     "metadata": {},
     "output_type": "execute_result"
    }
   ],
   "source": [
    "from sklearn.linear_model import PassiveAggressiveClassifier\n",
    "clf14 = PassiveAggressiveClassifier(max_iter=100,random_state=0)\n",
    "clf14.fit(x_train, y_train)\n",
    "clf14.predict(x_test)"
   ]
  },
  {
   "cell_type": "code",
   "execution_count": 80,
   "id": "dd5c3d46",
   "metadata": {},
   "outputs": [
    {
     "data": {
      "text/plain": [
       "{'C': 1.0,\n",
       " 'average': False,\n",
       " 'class_weight': None,\n",
       " 'early_stopping': False,\n",
       " 'fit_intercept': True,\n",
       " 'loss': 'hinge',\n",
       " 'max_iter': 100,\n",
       " 'n_iter_no_change': 5,\n",
       " 'n_jobs': None,\n",
       " 'random_state': 0,\n",
       " 'shuffle': True,\n",
       " 'tol': 0.001,\n",
       " 'validation_fraction': 0.1,\n",
       " 'verbose': 0,\n",
       " 'warm_start': False}"
      ]
     },
     "execution_count": 80,
     "metadata": {},
     "output_type": "execute_result"
    }
   ],
   "source": [
    "clf14.get_params()"
   ]
  },
  {
   "cell_type": "code",
   "execution_count": 81,
   "id": "f1715425",
   "metadata": {},
   "outputs": [
    {
     "data": {
      "text/plain": [
       "0.325"
      ]
     },
     "execution_count": 81,
     "metadata": {},
     "output_type": "execute_result"
    }
   ],
   "source": [
    "clf14.score(x_test, y_test)"
   ]
  },
  {
   "cell_type": "markdown",
   "id": "76084f30",
   "metadata": {},
   "source": [
    "# Stacking Classifier"
   ]
  },
  {
   "cell_type": "code",
   "execution_count": 82,
   "id": "03eb2f22",
   "metadata": {},
   "outputs": [
    {
     "data": {
      "text/plain": [
       "array(['B', 'B', 'X', 'B', 'B', 'C', 'B', 'B', 'C', 'C', 'X', 'B', 'B',\n",
       "       'B', 'B', 'B', 'B', 'B', 'B', 'B', 'X', 'X', 'X', 'X', 'X', 'X',\n",
       "       'X', 'X', 'C', 'X', 'B', 'B', 'M', 'C', 'C', 'C', 'M', 'C', 'B',\n",
       "       'B'], dtype=object)"
      ]
     },
     "execution_count": 82,
     "metadata": {},
     "output_type": "execute_result"
    }
   ],
   "source": [
    "from sklearn.pipeline import make_pipeline\n",
    "from sklearn.ensemble import StackingClassifier\n",
    "from sklearn.preprocessing import StandardScaler\n",
    "from sklearn.svm import LinearSVC\n",
    "\n",
    "estimators = [('rf', RandomForestClassifier(n_estimators=100, random_state=2)), ('et', ExtraTreesClassifier(n_estimators=100,random_state=2))     ,\n",
    "                        ('bag', BaggingClassifier(random_state=2))]\n",
    "clf15 = StackingClassifier(\n",
    "     estimators=estimators, final_estimator=GradientBoostingClassifier())\n",
    "\n",
    "clf15.fit(x_train, y_train)\n",
    "clf15.predict(x_test)"
   ]
  },
  {
   "cell_type": "code",
   "execution_count": 83,
   "id": "5590259b",
   "metadata": {},
   "outputs": [
    {
     "data": {
      "text/plain": [
       "0.625"
      ]
     },
     "execution_count": 83,
     "metadata": {},
     "output_type": "execute_result"
    }
   ],
   "source": [
    "clf15.score(x_test, y_test)"
   ]
  },
  {
   "cell_type": "markdown",
   "id": "e54ec285",
   "metadata": {},
   "source": [
    "# ENS for RF, KNN, NB"
   ]
  },
  {
   "cell_type": "code",
   "execution_count": 84,
   "id": "aa7fbadf",
   "metadata": {},
   "outputs": [],
   "source": [
    "def compute_ens_result(rf_result, knn_result, nb_result):\n",
    "    final_results = []\n",
    "    for i in range(0, len(rf_result)):\n",
    "        rf_p = rf_result[i]\n",
    "        knn_p = knn_result[i]\n",
    "        nb_p = nb_result[i]\n",
    "        if rf_p == knn_p and rf_p == nb_p :\n",
    "            final_results.append(rf_p) \n",
    "        elif rf_p == knn_p or rf_p == nb_p :\n",
    "            final_results.append(rf_p)\n",
    "        elif nb_p == knn_p :\n",
    "            final_results.append(knn_p)\n",
    "        else :\n",
    "            final_results.append(rf_p)\n",
    "    \n",
    "    return final_results"
   ]
  },
  {
   "cell_type": "code",
   "execution_count": 85,
   "id": "5384b92c",
   "metadata": {},
   "outputs": [],
   "source": [
    "def compute_ens_result2(rf_flare_result, mlp_result, elm_result):\n",
    "    final_results = []\n",
    "    for i in range(0, len(rf_flare_result)):\n",
    "        rf_flare_p = rf_flare_result[i]\n",
    "        mlp_p = mlp_result[i]\n",
    "        elm_p = elm_result[i]\n",
    "        if rf_flare_p == mlp_p and rf_flare_p == elm_p :\n",
    "            final_results.append(rf_flare_p) \n",
    "        elif rf_flare_p == mlp_p or rf_flare_p == elm_p :\n",
    "            final_results.append(rf_flare_p)\n",
    "        elif elm_p == mlp_p :\n",
    "            final_results.append(mlp_p)\n",
    "        else :\n",
    "            final_results.append(rf_flare_p)\n",
    "    \n",
    "    return final_results"
   ]
  },
  {
   "cell_type": "code",
   "execution_count": 86,
   "id": "acf8d6b0",
   "metadata": {},
   "outputs": [],
   "source": [
    "def compute_ens_result3(rf_result, bagging_result, nb_result):\n",
    "    final_results = []\n",
    "    for i in range(0, len(rf_result)):\n",
    "        rf_p = rf_result[i]\n",
    "        bagging_p = bagging_result[i]\n",
    "        nb_p = nb_result[i]\n",
    "        if rf_p == bagging_p and rf_p == nb_p :\n",
    "            final_results.append(rf_p) \n",
    "        elif rf_p == bagging_p or rf_p == nb_p :\n",
    "            final_results.append(rf_p)\n",
    "        elif nb_p == bagging_p :\n",
    "            final_results.append(bagging_p)\n",
    "        else :\n",
    "            final_results.append(rf_p)\n",
    "    \n",
    "    return final_results"
   ]
  },
  {
   "cell_type": "code",
   "execution_count": 87,
   "id": "7a0395bc",
   "metadata": {},
   "outputs": [],
   "source": [
    "def compute_ens_result4(rf_result, knn_result, bagging_result):\n",
    "    final_results = []\n",
    "    for i in range(0, len(rf_result)):\n",
    "        rf_p = rf_result[i]\n",
    "        bagging_p = bagging_result[i]\n",
    "        knn_p = knn_result[i]\n",
    "        if rf_p == bagging_p and rf_p == knn_p :\n",
    "            final_results.append(rf_p) \n",
    "        elif rf_p == bagging_p or rf_p == knn_p :\n",
    "            final_results.append(rf_p)\n",
    "        elif knn_p == bagging_p :\n",
    "            final_results.append(bagging_p)\n",
    "        else :\n",
    "            final_results.append(rf_p)\n",
    "    \n",
    "    return final_results"
   ]
  },
  {
   "cell_type": "code",
   "execution_count": 88,
   "id": "85018164",
   "metadata": {},
   "outputs": [],
   "source": [
    "def compute_ens_result5(rf_result, bagging_result, adaboost_result):\n",
    "    final_results = []\n",
    "    for i in range(0, len(rf_result)):\n",
    "        rf_p = rf_result[i]\n",
    "        bagging_p = bagging_result[i]\n",
    "        adaboost_p = adaboost_result[i]\n",
    "        if rf_p == bagging_p and rf_p == adaboost_p :\n",
    "            final_results.append(rf_p) \n",
    "        elif rf_p == bagging_p or rf_p == adaboost_p :\n",
    "            final_results.append(rf_p)\n",
    "        elif adaboost_p == bagging_p :\n",
    "            final_results.append(bagging_p)\n",
    "        else :\n",
    "            final_results.append(bagging_p)\n",
    "    \n",
    "    return final_results"
   ]
  },
  {
   "cell_type": "code",
   "execution_count": 89,
   "id": "bd30d109",
   "metadata": {},
   "outputs": [],
   "source": [
    "def compute_ens_result6(rf_result, bagging_result, gradientboost_result):\n",
    "    final_results = []\n",
    "    for i in range(0, len(rf_result)):\n",
    "        rf_p = rf_result[i]\n",
    "        bagging_p = bagging_result[i]\n",
    "        gradientboost_p = gradientboost_result[i]\n",
    "        if rf_p == bagging_p and rf_p == gradientboost_p :\n",
    "            final_results.append(rf_p) \n",
    "        elif rf_p == bagging_p or rf_p == gradientboost_p :\n",
    "            final_results.append(rf_p)\n",
    "        elif gradientboost_p == bagging_p :\n",
    "            final_results.append(bagging_p)\n",
    "        else :\n",
    "            final_results.append(rf_p)\n",
    "    \n",
    "    return final_results"
   ]
  },
  {
   "cell_type": "code",
   "execution_count": 90,
   "id": "c7f626ec",
   "metadata": {},
   "outputs": [],
   "source": [
    "def compute_ens_result7(rf_result, bagging_result, gradientboost_result):\n",
    "    final_results = []\n",
    "    for i in range(0, len(rf_result)):\n",
    "        rf_p = rf_result[i]\n",
    "        bagging_p = bagging_result[i]\n",
    "        gradientboost_p = gradientboost_result[i]\n",
    "        if rf_p == bagging_p and rf_p == gradientboost_p :\n",
    "            final_results.append(rf_p) \n",
    "        elif rf_p == bagging_p or rf_p == gradientboost_p :\n",
    "            final_results.append(rf_p)\n",
    "        elif gradientboost_p == bagging_p :\n",
    "            final_results.append(bagging_p)\n",
    "        else :\n",
    "            final_results.append(bagging_p)\n",
    "    \n",
    "    return final_results"
   ]
  },
  {
   "cell_type": "code",
   "execution_count": 91,
   "id": "7015cbb3",
   "metadata": {},
   "outputs": [],
   "source": [
    "def compute_ens_result8(rf_result, bagging_result, gradientboost_result):\n",
    "    final_results = []\n",
    "    for i in range(0, len(rf_result)):\n",
    "        rf_p = rf_result[i]\n",
    "        bagging_p = bagging_result[i]\n",
    "        gradientboost_p = gradientboost_result[i]\n",
    "        if rf_p == bagging_p and rf_p == gradientboost_p :\n",
    "            final_results.append(rf_p) \n",
    "        elif rf_p == bagging_p or rf_p == gradientboost_p :\n",
    "            final_results.append(rf_p)\n",
    "        elif gradientboost_p == bagging_p :\n",
    "            final_results.append(bagging_p)\n",
    "        else :\n",
    "            final_results.append(gradientboost_p)\n",
    "    \n",
    "    return final_results"
   ]
  },
  {
   "cell_type": "code",
   "execution_count": 92,
   "id": "3609ca9b",
   "metadata": {},
   "outputs": [],
   "source": [
    "def compute_ens_result9(et_result, bagging_result, gradientboost_result):\n",
    "    final_results = []\n",
    "    for i in range(0, len(et_result)):\n",
    "        et_p = et_result[i]\n",
    "        bagging_p = bagging_result[i]\n",
    "        gradientboost_p = gradientboost_result[i]\n",
    "        if et_p == bagging_p and et_p == gradientboost_p :\n",
    "            final_results.append(et_p) \n",
    "        elif et_p == bagging_p or et_p == gradientboost_p :\n",
    "            final_results.append(et_p)\n",
    "        elif gradientboost_p == bagging_p :\n",
    "            final_results.append(bagging_p)\n",
    "        else :\n",
    "            final_results.append(bagging_p)\n",
    "    \n",
    "    return final_results"
   ]
  },
  {
   "cell_type": "code",
   "execution_count": 93,
   "id": "1e095add",
   "metadata": {},
   "outputs": [],
   "source": [
    "mapping ={1:\"B\", 2:\"C\", 3:\"M\", 4:'X', -1:'N/A'}\n",
    "B = mapping[1]\n",
    "C = mapping[2]\n",
    "M = mapping[3]\n",
    "X = mapping[4]"
   ]
  },
  {
   "cell_type": "code",
   "execution_count": 94,
   "id": "f798de86",
   "metadata": {},
   "outputs": [],
   "source": [
    "ens = compute_ens_result(y_pred_rf,y_pred_knn,y_pred_nb)"
   ]
  },
  {
   "cell_type": "code",
   "execution_count": 151,
   "id": "fa3309ee",
   "metadata": {
    "scrolled": true
   },
   "outputs": [
    {
     "data": {
      "text/plain": [
       "array([[15,  0,  0,  0],\n",
       "       [ 6,  5,  1,  0],\n",
       "       [ 0,  1,  8,  0],\n",
       "       [ 0,  0,  1,  3]], dtype=int64)"
      ]
     },
     "execution_count": 151,
     "metadata": {},
     "output_type": "execute_result"
    }
   ],
   "source": [
    "confusion_matrix(y_test, ens)"
   ]
  },
  {
   "cell_type": "code",
   "execution_count": 152,
   "id": "842eeaf2",
   "metadata": {},
   "outputs": [
    {
     "name": "stdout",
     "output_type": "stream",
     "text": [
      "              precision    recall  f1-score   support\n",
      "\n",
      "           B       0.71      1.00      0.83        15\n",
      "           C       0.83      0.42      0.56        12\n",
      "           M       0.80      0.89      0.84         9\n",
      "           X       1.00      0.75      0.86         4\n",
      "\n",
      "    accuracy                           0.78        40\n",
      "   macro avg       0.84      0.76      0.77        40\n",
      "weighted avg       0.80      0.78      0.75        40\n",
      "\n"
     ]
    }
   ],
   "source": [
    "from sklearn.metrics import classification_report\n",
    "print(classification_report(y_test, ens))"
   ]
  },
  {
   "cell_type": "code",
   "execution_count": 153,
   "id": "b915226c",
   "metadata": {},
   "outputs": [],
   "source": [
    "ens2 = compute_ens_result2(y_pred_rf_flare, y_pred_mlp, y_pred_elm)"
   ]
  },
  {
   "cell_type": "code",
   "execution_count": 154,
   "id": "42b51102",
   "metadata": {},
   "outputs": [
    {
     "data": {
      "text/plain": [
       "array([[13,  0,  2,  0],\n",
       "       [ 4,  5,  3,  0],\n",
       "       [ 0,  0,  9,  0],\n",
       "       [ 0,  0,  2,  2]], dtype=int64)"
      ]
     },
     "execution_count": 154,
     "metadata": {},
     "output_type": "execute_result"
    }
   ],
   "source": [
    "confusion_matrix(y_test, ens2)"
   ]
  },
  {
   "cell_type": "code",
   "execution_count": 155,
   "id": "fe415ca4",
   "metadata": {},
   "outputs": [
    {
     "name": "stdout",
     "output_type": "stream",
     "text": [
      "              precision    recall  f1-score   support\n",
      "\n",
      "           B       0.76      0.87      0.81        15\n",
      "           C       1.00      0.42      0.59        12\n",
      "           M       0.56      1.00      0.72         9\n",
      "           X       1.00      0.50      0.67         4\n",
      "\n",
      "    accuracy                           0.73        40\n",
      "   macro avg       0.83      0.70      0.70        40\n",
      "weighted avg       0.81      0.72      0.71        40\n",
      "\n"
     ]
    }
   ],
   "source": [
    "from sklearn.metrics import classification_report\n",
    "print(classification_report(y_test, ens2))"
   ]
  },
  {
   "cell_type": "code",
   "execution_count": 156,
   "id": "b3158e42",
   "metadata": {},
   "outputs": [],
   "source": [
    "ens3 = compute_ens_result3(y_pred_rf,y_pred_bagging,y_pred_nb)"
   ]
  },
  {
   "cell_type": "code",
   "execution_count": 157,
   "id": "db0c94f3",
   "metadata": {},
   "outputs": [
    {
     "data": {
      "text/plain": [
       "array([[15,  0,  0,  0],\n",
       "       [ 5,  5,  2,  0],\n",
       "       [ 0,  0,  9,  0],\n",
       "       [ 0,  0,  0,  4]], dtype=int64)"
      ]
     },
     "execution_count": 157,
     "metadata": {},
     "output_type": "execute_result"
    }
   ],
   "source": [
    "confusion_matrix(y_test, ens3)"
   ]
  },
  {
   "cell_type": "code",
   "execution_count": 158,
   "id": "bc3072c1",
   "metadata": {},
   "outputs": [
    {
     "name": "stdout",
     "output_type": "stream",
     "text": [
      "              precision    recall  f1-score   support\n",
      "\n",
      "           B       0.75      1.00      0.86        15\n",
      "           C       1.00      0.42      0.59        12\n",
      "           M       0.82      1.00      0.90         9\n",
      "           X       1.00      1.00      1.00         4\n",
      "\n",
      "    accuracy                           0.82        40\n",
      "   macro avg       0.89      0.85      0.84        40\n",
      "weighted avg       0.87      0.82      0.80        40\n",
      "\n"
     ]
    }
   ],
   "source": [
    "from sklearn.metrics import classification_report\n",
    "print(classification_report(y_test, ens3))"
   ]
  },
  {
   "cell_type": "code",
   "execution_count": 159,
   "id": "8e026ed1",
   "metadata": {},
   "outputs": [],
   "source": [
    "ens4 = compute_ens_result4(y_pred_rf,y_pred_bagging,y_pred_knn)"
   ]
  },
  {
   "cell_type": "code",
   "execution_count": 160,
   "id": "ee0a63e6",
   "metadata": {},
   "outputs": [
    {
     "data": {
      "text/plain": [
       "array([[15,  0,  0,  0],\n",
       "       [ 4,  6,  2,  0],\n",
       "       [ 0,  0,  9,  0],\n",
       "       [ 0,  0,  0,  4]], dtype=int64)"
      ]
     },
     "execution_count": 160,
     "metadata": {},
     "output_type": "execute_result"
    }
   ],
   "source": [
    "confusion_matrix(y_test, ens4)"
   ]
  },
  {
   "cell_type": "code",
   "execution_count": 185,
   "id": "b58be466",
   "metadata": {},
   "outputs": [
    {
     "name": "stdout",
     "output_type": "stream",
     "text": [
      "              precision    recall  f1-score   support\n",
      "\n",
      "           B       0.79      1.00      0.88        15\n",
      "           C       1.00      0.50      0.67        12\n",
      "           M       0.82      1.00      0.90         9\n",
      "           X       1.00      1.00      1.00         4\n",
      "\n",
      "    accuracy                           0.85        40\n",
      "   macro avg       0.90      0.88      0.86        40\n",
      "weighted avg       0.88      0.85      0.83        40\n",
      "\n"
     ]
    }
   ],
   "source": [
    "from sklearn.metrics import classification_report\n",
    "print(classification_report(y_test, ens4))"
   ]
  },
  {
   "cell_type": "code",
   "execution_count": 162,
   "id": "eea218f1",
   "metadata": {},
   "outputs": [],
   "source": [
    "ens5 = compute_ens_result5(y_pred_rf,y_pred_bagging,y_pred_adaboost)"
   ]
  },
  {
   "cell_type": "code",
   "execution_count": 163,
   "id": "92dd6585",
   "metadata": {},
   "outputs": [
    {
     "data": {
      "text/plain": [
       "array([[15,  0,  0,  0],\n",
       "       [ 6,  5,  1,  0],\n",
       "       [ 0,  0,  9,  0],\n",
       "       [ 0,  0,  0,  4]], dtype=int64)"
      ]
     },
     "execution_count": 163,
     "metadata": {},
     "output_type": "execute_result"
    }
   ],
   "source": [
    "confusion_matrix(y_test, ens5)"
   ]
  },
  {
   "cell_type": "code",
   "execution_count": 186,
   "id": "bd55c626",
   "metadata": {},
   "outputs": [
    {
     "name": "stdout",
     "output_type": "stream",
     "text": [
      "              precision    recall  f1-score   support\n",
      "\n",
      "           B       0.71      1.00      0.83        15\n",
      "           C       1.00      0.42      0.59        12\n",
      "           M       0.90      1.00      0.95         9\n",
      "           X       1.00      1.00      1.00         4\n",
      "\n",
      "    accuracy                           0.82        40\n",
      "   macro avg       0.90      0.85      0.84        40\n",
      "weighted avg       0.87      0.82      0.80        40\n",
      "\n"
     ]
    }
   ],
   "source": [
    "from sklearn.metrics import classification_report\n",
    "print(classification_report(y_test, ens5))"
   ]
  },
  {
   "cell_type": "code",
   "execution_count": 165,
   "id": "9830042d",
   "metadata": {},
   "outputs": [],
   "source": [
    "ens6 = compute_ens_result6(y_pred_rf,y_pred_bagging,y_pred_gboost)"
   ]
  },
  {
   "cell_type": "code",
   "execution_count": 166,
   "id": "98fb7785",
   "metadata": {},
   "outputs": [
    {
     "data": {
      "text/plain": [
       "array([[15,  0,  0,  0],\n",
       "       [ 5,  5,  2,  0],\n",
       "       [ 0,  0,  9,  0],\n",
       "       [ 0,  0,  0,  4]], dtype=int64)"
      ]
     },
     "execution_count": 166,
     "metadata": {},
     "output_type": "execute_result"
    }
   ],
   "source": [
    "confusion_matrix(y_test, ens6)"
   ]
  },
  {
   "cell_type": "code",
   "execution_count": 167,
   "id": "68385783",
   "metadata": {},
   "outputs": [
    {
     "name": "stdout",
     "output_type": "stream",
     "text": [
      "              precision    recall  f1-score   support\n",
      "\n",
      "           B       0.75      1.00      0.86        15\n",
      "           C       1.00      0.42      0.59        12\n",
      "           M       0.82      1.00      0.90         9\n",
      "           X       1.00      1.00      1.00         4\n",
      "\n",
      "    accuracy                           0.82        40\n",
      "   macro avg       0.89      0.85      0.84        40\n",
      "weighted avg       0.87      0.82      0.80        40\n",
      "\n"
     ]
    }
   ],
   "source": [
    "from sklearn.metrics import classification_report\n",
    "print(classification_report(y_test, ens6))"
   ]
  },
  {
   "cell_type": "code",
   "execution_count": 168,
   "id": "b0589f4a",
   "metadata": {},
   "outputs": [],
   "source": [
    "ens7 = compute_ens_result7(y_pred_rf,y_pred_bagging,y_pred_gboost)"
   ]
  },
  {
   "cell_type": "code",
   "execution_count": 169,
   "id": "aa37df10",
   "metadata": {},
   "outputs": [
    {
     "data": {
      "text/plain": [
       "array([[15,  0,  0,  0],\n",
       "       [ 6,  5,  1,  0],\n",
       "       [ 0,  0,  9,  0],\n",
       "       [ 0,  0,  0,  4]], dtype=int64)"
      ]
     },
     "execution_count": 169,
     "metadata": {},
     "output_type": "execute_result"
    }
   ],
   "source": [
    "confusion_matrix(y_test, ens7)"
   ]
  },
  {
   "cell_type": "code",
   "execution_count": 170,
   "id": "8b63f2ef",
   "metadata": {},
   "outputs": [
    {
     "name": "stdout",
     "output_type": "stream",
     "text": [
      "              precision    recall  f1-score   support\n",
      "\n",
      "           B       0.71      1.00      0.83        15\n",
      "           C       1.00      0.42      0.59        12\n",
      "           M       0.90      1.00      0.95         9\n",
      "           X       1.00      1.00      1.00         4\n",
      "\n",
      "    accuracy                           0.82        40\n",
      "   macro avg       0.90      0.85      0.84        40\n",
      "weighted avg       0.87      0.82      0.80        40\n",
      "\n"
     ]
    }
   ],
   "source": [
    "from sklearn.metrics import classification_report\n",
    "print(classification_report(y_test, ens7))"
   ]
  },
  {
   "cell_type": "code",
   "execution_count": 171,
   "id": "ac56e5cd",
   "metadata": {},
   "outputs": [],
   "source": [
    "ens8 = compute_ens_result8(y_pred_rf,y_pred_bagging,y_pred_gboost)"
   ]
  },
  {
   "cell_type": "code",
   "execution_count": 172,
   "id": "db2143ad",
   "metadata": {},
   "outputs": [
    {
     "data": {
      "text/plain": [
       "array([[15,  0,  0,  0],\n",
       "       [ 5,  6,  1,  0],\n",
       "       [ 0,  0,  9,  0],\n",
       "       [ 0,  0,  0,  4]], dtype=int64)"
      ]
     },
     "execution_count": 172,
     "metadata": {},
     "output_type": "execute_result"
    }
   ],
   "source": [
    "confusion_matrix(y_test, ens8)"
   ]
  },
  {
   "cell_type": "code",
   "execution_count": 173,
   "id": "796b4747",
   "metadata": {},
   "outputs": [
    {
     "name": "stdout",
     "output_type": "stream",
     "text": [
      "              precision    recall  f1-score   support\n",
      "\n",
      "           B       0.75      1.00      0.86        15\n",
      "           C       1.00      0.50      0.67        12\n",
      "           M       0.90      1.00      0.95         9\n",
      "           X       1.00      1.00      1.00         4\n",
      "\n",
      "    accuracy                           0.85        40\n",
      "   macro avg       0.91      0.88      0.87        40\n",
      "weighted avg       0.88      0.85      0.83        40\n",
      "\n"
     ]
    }
   ],
   "source": [
    "from sklearn.metrics import classification_report\n",
    "print(classification_report(y_test, ens8))"
   ]
  },
  {
   "cell_type": "code",
   "execution_count": 174,
   "id": "bfe085a3",
   "metadata": {},
   "outputs": [],
   "source": [
    "ens9 = compute_ens_result9(y_pred_extratrees,y_pred_bagging,y_pred_gboost)"
   ]
  },
  {
   "cell_type": "code",
   "execution_count": 175,
   "id": "2b046979",
   "metadata": {},
   "outputs": [
    {
     "data": {
      "text/plain": [
       "array([[15,  0,  0,  0],\n",
       "       [ 6,  4,  2,  0],\n",
       "       [ 0,  0,  9,  0],\n",
       "       [ 0,  0,  0,  4]], dtype=int64)"
      ]
     },
     "execution_count": 175,
     "metadata": {},
     "output_type": "execute_result"
    }
   ],
   "source": [
    "confusion_matrix(y_test, ens9)"
   ]
  },
  {
   "cell_type": "code",
   "execution_count": 176,
   "id": "a7dd5fa8",
   "metadata": {},
   "outputs": [
    {
     "name": "stdout",
     "output_type": "stream",
     "text": [
      "              precision    recall  f1-score   support\n",
      "\n",
      "           B       0.71      1.00      0.83        15\n",
      "           C       1.00      0.33      0.50        12\n",
      "           M       0.82      1.00      0.90         9\n",
      "           X       1.00      1.00      1.00         4\n",
      "\n",
      "    accuracy                           0.80        40\n",
      "   macro avg       0.88      0.83      0.81        40\n",
      "weighted avg       0.85      0.80      0.77        40\n",
      "\n"
     ]
    }
   ],
   "source": [
    "from sklearn.metrics import classification_report\n",
    "print(classification_report(y_test, ens9))"
   ]
  },
  {
   "cell_type": "code",
   "execution_count": 177,
   "id": "a521e7af",
   "metadata": {},
   "outputs": [
    {
     "name": "stdout",
     "output_type": "stream",
     "text": [
      "              precision    recall  f1-score   support\n",
      "\n",
      "           B       0.75      1.00      0.86        15\n",
      "           C       1.00      0.42      0.59        12\n",
      "           M       0.82      1.00      0.90         9\n",
      "           X       1.00      1.00      1.00         4\n",
      "\n",
      "    accuracy                           0.82        40\n",
      "   macro avg       0.89      0.85      0.84        40\n",
      "weighted avg       0.87      0.82      0.80        40\n",
      "\n"
     ]
    }
   ],
   "source": [
    "from sklearn.metrics import classification_report\n",
    "print(classification_report(y_test, y_pred_rf))"
   ]
  },
  {
   "cell_type": "code",
   "execution_count": 178,
   "id": "2a9187ba",
   "metadata": {},
   "outputs": [
    {
     "name": "stdout",
     "output_type": "stream",
     "text": [
      "              precision    recall  f1-score   support\n",
      "\n",
      "           B       0.54      1.00      0.70        15\n",
      "           C       0.71      0.42      0.53        12\n",
      "           M       0.67      0.22      0.33         9\n",
      "           X       1.00      0.50      0.67         4\n",
      "\n",
      "    accuracy                           0.60        40\n",
      "   macro avg       0.73      0.53      0.56        40\n",
      "weighted avg       0.67      0.60      0.56        40\n",
      "\n"
     ]
    }
   ],
   "source": [
    "from sklearn.metrics import classification_report\n",
    "print(classification_report(y_test, y_pred_nb))"
   ]
  },
  {
   "cell_type": "code",
   "execution_count": 179,
   "id": "d671244f",
   "metadata": {},
   "outputs": [
    {
     "name": "stdout",
     "output_type": "stream",
     "text": [
      "              precision    recall  f1-score   support\n",
      "\n",
      "           B       0.77      0.67      0.71        15\n",
      "           C       0.50      0.58      0.54        12\n",
      "           M       0.58      0.78      0.67         9\n",
      "           X       1.00      0.25      0.40         4\n",
      "\n",
      "    accuracy                           0.62        40\n",
      "   macro avg       0.71      0.57      0.58        40\n",
      "weighted avg       0.67      0.62      0.62        40\n",
      "\n"
     ]
    }
   ],
   "source": [
    "from sklearn.metrics import classification_report\n",
    "print(classification_report(y_test, y_pred_knn))"
   ]
  },
  {
   "cell_type": "code",
   "execution_count": 180,
   "id": "a56f9c54",
   "metadata": {},
   "outputs": [
    {
     "name": "stdout",
     "output_type": "stream",
     "text": [
      "              precision    recall  f1-score   support\n",
      "\n",
      "           B       0.55      0.80      0.65        15\n",
      "           C       0.25      0.17      0.20        12\n",
      "           M       0.33      0.33      0.33         9\n",
      "           X       1.00      0.25      0.40         4\n",
      "\n",
      "    accuracy                           0.45        40\n",
      "   macro avg       0.53      0.39      0.40        40\n",
      "weighted avg       0.45      0.45      0.42        40\n",
      "\n"
     ]
    }
   ],
   "source": [
    "from sklearn.metrics import classification_report\n",
    "print(classification_report(y_test, y_pred_svm))"
   ]
  },
  {
   "cell_type": "code",
   "execution_count": 181,
   "id": "d03d1a51",
   "metadata": {},
   "outputs": [
    {
     "name": "stdout",
     "output_type": "stream",
     "text": [
      "              precision    recall  f1-score   support\n",
      "\n",
      "           B       0.75      1.00      0.86        15\n",
      "           C       1.00      0.50      0.67        12\n",
      "           M       0.90      1.00      0.95         9\n",
      "           X       1.00      1.00      1.00         4\n",
      "\n",
      "    accuracy                           0.85        40\n",
      "   macro avg       0.91      0.88      0.87        40\n",
      "weighted avg       0.88      0.85      0.83        40\n",
      "\n"
     ]
    }
   ],
   "source": [
    "from sklearn.metrics import classification_report\n",
    "print(classification_report(y_test, y_pred_bagging))"
   ]
  },
  {
   "cell_type": "code",
   "execution_count": 182,
   "id": "f810a4a2",
   "metadata": {},
   "outputs": [
    {
     "name": "stdout",
     "output_type": "stream",
     "text": [
      "              precision    recall  f1-score   support\n",
      "\n",
      "           B       0.82      0.93      0.87        15\n",
      "           C       0.54      0.58      0.56        12\n",
      "           M       0.40      0.44      0.42         9\n",
      "           X       0.00      0.00      0.00         4\n",
      "\n",
      "    accuracy                           0.62        40\n",
      "   macro avg       0.44      0.49      0.46        40\n",
      "weighted avg       0.56      0.62      0.59        40\n",
      "\n"
     ]
    },
    {
     "name": "stderr",
     "output_type": "stream",
     "text": [
      "c:\\users\\226735 c2in\\appdata\\local\\programs\\python\\python37\\lib\\site-packages\\sklearn\\metrics\\_classification.py:1248: UndefinedMetricWarning: Precision and F-score are ill-defined and being set to 0.0 in labels with no predicted samples. Use `zero_division` parameter to control this behavior.\n",
      "  _warn_prf(average, modifier, msg_start, len(result))\n",
      "c:\\users\\226735 c2in\\appdata\\local\\programs\\python\\python37\\lib\\site-packages\\sklearn\\metrics\\_classification.py:1248: UndefinedMetricWarning: Precision and F-score are ill-defined and being set to 0.0 in labels with no predicted samples. Use `zero_division` parameter to control this behavior.\n",
      "  _warn_prf(average, modifier, msg_start, len(result))\n",
      "c:\\users\\226735 c2in\\appdata\\local\\programs\\python\\python37\\lib\\site-packages\\sklearn\\metrics\\_classification.py:1248: UndefinedMetricWarning: Precision and F-score are ill-defined and being set to 0.0 in labels with no predicted samples. Use `zero_division` parameter to control this behavior.\n",
      "  _warn_prf(average, modifier, msg_start, len(result))\n"
     ]
    }
   ],
   "source": [
    "from sklearn.metrics import classification_report\n",
    "print(classification_report(y_test, y_pred_adaboost))"
   ]
  },
  {
   "cell_type": "code",
   "execution_count": 183,
   "id": "7a6c3d49",
   "metadata": {},
   "outputs": [
    {
     "name": "stdout",
     "output_type": "stream",
     "text": [
      "              precision    recall  f1-score   support\n",
      "\n",
      "           B       0.79      1.00      0.88        15\n",
      "           C       1.00      0.50      0.67        12\n",
      "           M       0.82      1.00      0.90         9\n",
      "           X       1.00      1.00      1.00         4\n",
      "\n",
      "    accuracy                           0.85        40\n",
      "   macro avg       0.90      0.88      0.86        40\n",
      "weighted avg       0.88      0.85      0.83        40\n",
      "\n"
     ]
    }
   ],
   "source": [
    "from sklearn.metrics import classification_report\n",
    "print(classification_report(y_test, y_pred_gboost))"
   ]
  },
  {
   "cell_type": "code",
   "execution_count": 184,
   "id": "31f85ec4",
   "metadata": {},
   "outputs": [
    {
     "name": "stdout",
     "output_type": "stream",
     "text": [
      "              precision    recall  f1-score   support\n",
      "\n",
      "           B       0.75      1.00      0.86        15\n",
      "           C       1.00      0.33      0.50        12\n",
      "           M       0.75      1.00      0.86         9\n",
      "           X       1.00      1.00      1.00         4\n",
      "\n",
      "    accuracy                           0.80        40\n",
      "   macro avg       0.88      0.83      0.80        40\n",
      "weighted avg       0.85      0.80      0.76        40\n",
      "\n"
     ]
    }
   ],
   "source": [
    "from sklearn.metrics import classification_report\n",
    "print(classification_report(y_test, y_pred_extratrees))"
   ]
  },
  {
   "cell_type": "code",
   "execution_count": 112,
   "id": "07435bdf",
   "metadata": {},
   "outputs": [],
   "source": [
    "labels = ['B','C','M','X']"
   ]
  },
  {
   "cell_type": "code",
   "execution_count": 113,
   "id": "fd624b27",
   "metadata": {},
   "outputs": [],
   "source": [
    "from sklearn.metrics import multilabel_confusion_matrix\n",
    "from sklearn.metrics import accuracy_score"
   ]
  },
  {
   "cell_type": "code",
   "execution_count": 114,
   "id": "51a48ed7",
   "metadata": {},
   "outputs": [],
   "source": [
    "def log_cv_report(y_true, y_pred):\n",
    "    labels = ['B','C','M','X']\n",
    "    r = multilabel_confusion_matrix(y_true, y_pred,labels=labels)\n",
    "    pm={}\n",
    "    \n",
    "    for i in range(len(labels)):\n",
    "        l = labels[i]\n",
    "        c = {}\n",
    "        cm = r[i]\n",
    "        c['TN'] = cm[0][0]\n",
    "        c['FN'] = cm[1][0]\n",
    "        c['TP'] = cm[1][1]\n",
    "        c['FP'] = cm[0][1]\n",
    "        c['T'] = cm.sum()\n",
    "        if (c['FP'] == 0):\n",
    "            c['TN'] = c['TN'] - 1\n",
    "            c['FP'] = 1\n",
    "        if (c['FN'] == 0):\n",
    "            c['TP'] = c['TP'] - 1\n",
    "            c['FN'] = 1\n",
    "                  \n",
    "        pm[l] = calc_metrics(c['TP'],c['TN'],c['FP'],c['FN'])\n",
    "        \n",
    "    ac = accuracy_score(y_true, y_pred)\n",
    "    print('Prediction accuracy: ',ac)\n",
    "    return pm;"
   ]
  },
  {
   "cell_type": "code",
   "execution_count": 115,
   "id": "26de41b1",
   "metadata": {},
   "outputs": [],
   "source": [
    "def truncate_float(number, digits=4) -> float:\n",
    "    try :\n",
    "        if math.isnan(number):\n",
    "            return 0.0\n",
    "        stepper = 10.0 ** digits\n",
    "        return math.trunc(stepper * number) / stepper\n",
    "    except Exception as e:\n",
    "        return number"
   ]
  },
  {
   "cell_type": "code",
   "execution_count": 116,
   "id": "2a12c032",
   "metadata": {},
   "outputs": [],
   "source": [
    "def calc_metrics(TP,TN,FP,FN):\n",
    "    P = TP + FN \n",
    "    N = TN + FP\n",
    "    T = N + P \n",
    "    accuracy = 0\n",
    "    balanced_accuracy = 0 \n",
    "    precision = 0 \n",
    "    recall = 0 \n",
    "    TSS = 0 \n",
    "    \n",
    "\n",
    "    accuracy = (TP+TN) / (TP+FP+TN+FN)\n",
    "    BACC =  ( (TP/(TP + FN)) + (TN/(TN + FP)) ) /2\n",
    "    TPR = TP/(TP+FN)\n",
    "    FPR = FP/(FP+TN)\n",
    "    precision = TP / (TP + FP)\n",
    "    recall = TP / (TP  + FN) \n",
    "    TSS = (TP/(TP+FN)) - (FP/(FP+TN))\n",
    "\n",
    "\n",
    "    return [truncate_float(BACC),truncate_float(TSS)]"
   ]
  },
  {
   "cell_type": "code",
   "execution_count": 117,
   "id": "227414df",
   "metadata": {},
   "outputs": [
    {
     "name": "stdout",
     "output_type": "stream",
     "text": [
      "Prediction accuracy:  0.775\n"
     ]
    },
    {
     "data": {
      "text/plain": [
       "{'B': [0.8466666666666667, 0.6933333333333334],\n",
       " 'C': [0.6904761904761905, 0.380952380952381],\n",
       " 'M': [0.9121863799283154, 0.8243727598566308],\n",
       " 'X': [0.8611111111111112, 0.7222222222222222]}"
      ]
     },
     "execution_count": 117,
     "metadata": {},
     "output_type": "execute_result"
    }
   ],
   "source": [
    "BACC_TSS_BCMX = log_cv_report(y_test,ens)\n",
    "BACC_TSS_BCMX"
   ]
  },
  {
   "cell_type": "code",
   "execution_count": 118,
   "id": "c1a1fc39",
   "metadata": {},
   "outputs": [
    {
     "name": "stdout",
     "output_type": "stream",
     "text": [
      "Prediction accuracy:  0.825\n"
     ]
    },
    {
     "data": {
      "text/plain": [
       "{'B': [0.8666666666666667, 0.7333333333333334],\n",
       " 'C': [0.6904761904761905, 0.380952380952381],\n",
       " 'M': [0.9121863799283154, 0.8243727598566308],\n",
       " 'X': [0.8611111111111112, 0.7222222222222222]}"
      ]
     },
     "execution_count": 118,
     "metadata": {},
     "output_type": "execute_result"
    }
   ],
   "source": [
    "BACC_TSS_BCMX = log_cv_report(y_test,y_pred_rf)\n",
    "BACC_TSS_BCMX"
   ]
  },
  {
   "cell_type": "code",
   "execution_count": 119,
   "id": "97eb4642",
   "metadata": {},
   "outputs": [
    {
     "name": "stdout",
     "output_type": "stream",
     "text": [
      "Prediction accuracy:  0.625\n"
     ]
    },
    {
     "data": {
      "text/plain": [
       "{'B': [0.7733333333333333, 0.5466666666666666],\n",
       " 'C': [0.6666666666666667, 0.33333333333333337],\n",
       " 'M': [0.8082437275985663, 0.6164874551971327],\n",
       " 'X': [0.6111111111111112, 0.2222222222222222]}"
      ]
     },
     "execution_count": 119,
     "metadata": {},
     "output_type": "execute_result"
    }
   ],
   "source": [
    "BACC_TSS_BCMX = log_cv_report(y_test,y_pred_knn)\n",
    "BACC_TSS_BCMX"
   ]
  },
  {
   "cell_type": "code",
   "execution_count": 120,
   "id": "5d79ab6b",
   "metadata": {},
   "outputs": [
    {
     "name": "stdout",
     "output_type": "stream",
     "text": [
      "Prediction accuracy:  0.6\n"
     ]
    },
    {
     "data": {
      "text/plain": [
       "{'B': [0.7066666666666667, 0.41333333333333333],\n",
       " 'C': [0.6726190476190477, 0.34523809523809523],\n",
       " 'M': [0.5949820788530467, 0.18996415770609318],\n",
       " 'X': [0.7361111111111112, 0.4722222222222222]}"
      ]
     },
     "execution_count": 120,
     "metadata": {},
     "output_type": "execute_result"
    }
   ],
   "source": [
    "BACC_TSS_BCMX = log_cv_report(y_test,y_pred_nb)\n",
    "BACC_TSS_BCMX"
   ]
  },
  {
   "cell_type": "code",
   "execution_count": 121,
   "id": "22e81a69",
   "metadata": {},
   "outputs": [
    {
     "name": "stdout",
     "output_type": "stream",
     "text": [
      "Prediction accuracy:  0.45\n"
     ]
    },
    {
     "data": {
      "text/plain": [
       "{'B': [0.7, 0.4],\n",
       " 'C': [0.47619047619047616, -0.047619047619047616],\n",
       " 'M': [0.5698924731182795, 0.13978494623655913],\n",
       " 'X': [0.6111111111111112, 0.2222222222222222]}"
      ]
     },
     "execution_count": 121,
     "metadata": {},
     "output_type": "execute_result"
    }
   ],
   "source": [
    "BACC_TSS_BCMX = log_cv_report(y_test,y_pred_svm)\n",
    "BACC_TSS_BCMX"
   ]
  },
  {
   "cell_type": "code",
   "execution_count": 122,
   "id": "dd79d764",
   "metadata": {},
   "outputs": [
    {
     "name": "stdout",
     "output_type": "stream",
     "text": [
      "Prediction accuracy:  0.225\n"
     ]
    },
    {
     "data": {
      "text/plain": [
       "{'B': [0.48, -0.04],\n",
       " 'C': [0.48214285714285715, -0.03571428571428571],\n",
       " 'M': [0.4444444444444444, -0.11111111111111116],\n",
       " 'X': [0.4861111111111111, -0.027777777777777776]}"
      ]
     },
     "execution_count": 122,
     "metadata": {},
     "output_type": "execute_result"
    }
   ],
   "source": [
    "BACC_TSS_BCMX = log_cv_report(y_test,y_pred_mlp)\n",
    "BACC_TSS_BCMX"
   ]
  },
  {
   "cell_type": "code",
   "execution_count": 123,
   "id": "641167a2",
   "metadata": {},
   "outputs": [
    {
     "name": "stdout",
     "output_type": "stream",
     "text": [
      "Prediction accuracy:  0.875\n"
     ]
    },
    {
     "data": {
      "text/plain": [
       "{'B': [0.8866666666666667, 0.7733333333333333],\n",
       " 'C': [0.7738095238095238, 0.5476190476190477],\n",
       " 'M': [0.9283154121863799, 0.8566308243727598],\n",
       " 'X': [0.8611111111111112, 0.7222222222222222]}"
      ]
     },
     "execution_count": 123,
     "metadata": {},
     "output_type": "execute_result"
    }
   ],
   "source": [
    "BACC_TSS_BCMX = log_cv_report(y_test,y_pred_rf_flare)\n",
    "BACC_TSS_BCMX"
   ]
  },
  {
   "cell_type": "code",
   "execution_count": 124,
   "id": "62c6a7ce",
   "metadata": {},
   "outputs": [
    {
     "name": "stdout",
     "output_type": "stream",
     "text": [
      "Prediction accuracy:  0.575\n"
     ]
    },
    {
     "data": {
      "text/plain": [
       "{'B': [0.7266666666666667, 0.4533333333333333],\n",
       " 'C': [0.6488095238095238, 0.29761904761904767],\n",
       " 'M': [0.7204301075268817, 0.4408602150537634],\n",
       " 'X': [0.7361111111111112, 0.4722222222222222]}"
      ]
     },
     "execution_count": 124,
     "metadata": {},
     "output_type": "execute_result"
    }
   ],
   "source": [
    "BACC_TSS_BCMX = log_cv_report(y_test,y_pred_elm)\n",
    "BACC_TSS_BCMX"
   ]
  },
  {
   "cell_type": "code",
   "execution_count": 125,
   "id": "581e5b3d",
   "metadata": {},
   "outputs": [
    {
     "name": "stdout",
     "output_type": "stream",
     "text": [
      "Prediction accuracy:  0.725\n"
     ]
    },
    {
     "data": {
      "text/plain": [
       "{'B': [0.8533333333333333, 0.7066666666666667],\n",
       " 'C': [0.6904761904761905, 0.380952380952381],\n",
       " 'M': [0.8315412186379928, 0.6630824372759856],\n",
       " 'X': [0.7361111111111112, 0.4722222222222222]}"
      ]
     },
     "execution_count": 125,
     "metadata": {},
     "output_type": "execute_result"
    }
   ],
   "source": [
    "BACC_TSS_BCMX = log_cv_report(y_test,ens2)\n",
    "BACC_TSS_BCMX"
   ]
  },
  {
   "cell_type": "code",
   "execution_count": 126,
   "id": "df62a792",
   "metadata": {},
   "outputs": [
    {
     "name": "stdout",
     "output_type": "stream",
     "text": [
      "Prediction accuracy:  0.85\n"
     ]
    },
    {
     "data": {
      "text/plain": [
       "{'B': [0.8666666666666667, 0.7333333333333334],\n",
       " 'C': [0.7321428571428572, 0.4642857142857143],\n",
       " 'M': [0.9283154121863799, 0.8566308243727598],\n",
       " 'X': [0.8611111111111112, 0.7222222222222222]}"
      ]
     },
     "execution_count": 126,
     "metadata": {},
     "output_type": "execute_result"
    }
   ],
   "source": [
    "BACC_TSS_BCMX = log_cv_report(y_test,y_pred_bagging)\n",
    "BACC_TSS_BCMX"
   ]
  },
  {
   "cell_type": "code",
   "execution_count": 127,
   "id": "47669067",
   "metadata": {},
   "outputs": [
    {
     "name": "stdout",
     "output_type": "stream",
     "text": [
      "Prediction accuracy:  0.825\n"
     ]
    },
    {
     "data": {
      "text/plain": [
       "{'B': [0.8666666666666667, 0.7333333333333334],\n",
       " 'C': [0.6904761904761905, 0.380952380952381],\n",
       " 'M': [0.9121863799283154, 0.8243727598566308],\n",
       " 'X': [0.8611111111111112, 0.7222222222222222]}"
      ]
     },
     "execution_count": 127,
     "metadata": {},
     "output_type": "execute_result"
    }
   ],
   "source": [
    "BACC_TSS_BCMX = log_cv_report(y_test,ens3)\n",
    "BACC_TSS_BCMX"
   ]
  },
  {
   "cell_type": "code",
   "execution_count": 128,
   "id": "60cb1c9c",
   "metadata": {},
   "outputs": [
    {
     "name": "stdout",
     "output_type": "stream",
     "text": [
      "Prediction accuracy:  0.85\n"
     ]
    },
    {
     "data": {
      "text/plain": [
       "{'B': [0.8866666666666667, 0.7733333333333333],\n",
       " 'C': [0.7321428571428572, 0.4642857142857143],\n",
       " 'M': [0.9121863799283154, 0.8243727598566308],\n",
       " 'X': [0.8611111111111112, 0.7222222222222222]}"
      ]
     },
     "execution_count": 128,
     "metadata": {},
     "output_type": "execute_result"
    }
   ],
   "source": [
    "BACC_TSS_BCMX = log_cv_report(y_test,ens4)\n",
    "BACC_TSS_BCMX"
   ]
  },
  {
   "cell_type": "code",
   "execution_count": 129,
   "id": "8ec41833",
   "metadata": {},
   "outputs": [
    {
     "name": "stdout",
     "output_type": "stream",
     "text": [
      "Prediction accuracy:  0.825\n"
     ]
    },
    {
     "data": {
      "text/plain": [
       "{'B': [0.8466666666666667, 0.6933333333333334],\n",
       " 'C': [0.6904761904761905, 0.380952380952381],\n",
       " 'M': [0.9283154121863799, 0.8566308243727598],\n",
       " 'X': [0.8611111111111112, 0.7222222222222222]}"
      ]
     },
     "execution_count": 129,
     "metadata": {},
     "output_type": "execute_result"
    }
   ],
   "source": [
    "BACC_TSS_BCMX = log_cv_report(y_test,ens5)\n",
    "BACC_TSS_BCMX"
   ]
  },
  {
   "cell_type": "code",
   "execution_count": 130,
   "id": "891ec735",
   "metadata": {},
   "outputs": [
    {
     "name": "stdout",
     "output_type": "stream",
     "text": [
      "Prediction accuracy:  0.825\n"
     ]
    },
    {
     "data": {
      "text/plain": [
       "{'B': [0.8666666666666667, 0.7333333333333334],\n",
       " 'C': [0.6904761904761905, 0.380952380952381],\n",
       " 'M': [0.9121863799283154, 0.8243727598566308],\n",
       " 'X': [0.8611111111111112, 0.7222222222222222]}"
      ]
     },
     "execution_count": 130,
     "metadata": {},
     "output_type": "execute_result"
    }
   ],
   "source": [
    "BACC_TSS_BCMX = log_cv_report(y_test,ens6)\n",
    "BACC_TSS_BCMX"
   ]
  },
  {
   "cell_type": "code",
   "execution_count": 131,
   "id": "13670eaa",
   "metadata": {},
   "outputs": [
    {
     "name": "stdout",
     "output_type": "stream",
     "text": [
      "Prediction accuracy:  0.825\n"
     ]
    },
    {
     "data": {
      "text/plain": [
       "{'B': [0.8466666666666667, 0.6933333333333334],\n",
       " 'C': [0.6904761904761905, 0.380952380952381],\n",
       " 'M': [0.9283154121863799, 0.8566308243727598],\n",
       " 'X': [0.8611111111111112, 0.7222222222222222]}"
      ]
     },
     "execution_count": 131,
     "metadata": {},
     "output_type": "execute_result"
    }
   ],
   "source": [
    "BACC_TSS_BCMX = log_cv_report(y_test,ens7)\n",
    "BACC_TSS_BCMX"
   ]
  },
  {
   "cell_type": "code",
   "execution_count": 132,
   "id": "1cf33fde",
   "metadata": {},
   "outputs": [
    {
     "name": "stdout",
     "output_type": "stream",
     "text": [
      "Prediction accuracy:  0.85\n"
     ]
    },
    {
     "data": {
      "text/plain": [
       "{'B': [0.8666666666666667, 0.7333333333333334],\n",
       " 'C': [0.7321428571428572, 0.4642857142857143],\n",
       " 'M': [0.9283154121863799, 0.8566308243727598],\n",
       " 'X': [0.8611111111111112, 0.7222222222222222]}"
      ]
     },
     "execution_count": 132,
     "metadata": {},
     "output_type": "execute_result"
    }
   ],
   "source": [
    "BACC_TSS_BCMX = log_cv_report(y_test,ens8)\n",
    "BACC_TSS_BCMX"
   ]
  },
  {
   "cell_type": "code",
   "execution_count": 133,
   "id": "d8903c38",
   "metadata": {},
   "outputs": [
    {
     "name": "stdout",
     "output_type": "stream",
     "text": [
      "Prediction accuracy:  0.625\n"
     ]
    },
    {
     "data": {
      "text/plain": [
       "{'B': [0.9066666666666667, 0.8133333333333334],\n",
       " 'C': [0.6845238095238095, 0.36904761904761907],\n",
       " 'M': [0.6254480286738351, 0.25089605734767023],\n",
       " 'X': [0.4861111111111111, -0.027777777777777776]}"
      ]
     },
     "execution_count": 133,
     "metadata": {},
     "output_type": "execute_result"
    }
   ],
   "source": [
    "BACC_TSS_BCMX = log_cv_report(y_test,y_pred_adaboost)\n",
    "BACC_TSS_BCMX"
   ]
  },
  {
   "cell_type": "code",
   "execution_count": 134,
   "id": "83ae3a45",
   "metadata": {},
   "outputs": [
    {
     "name": "stdout",
     "output_type": "stream",
     "text": [
      "Prediction accuracy:  0.85\n"
     ]
    },
    {
     "data": {
      "text/plain": [
       "{'B': [0.8866666666666667, 0.7733333333333333],\n",
       " 'C': [0.7321428571428572, 0.4642857142857143],\n",
       " 'M': [0.9121863799283154, 0.8243727598566308],\n",
       " 'X': [0.8611111111111112, 0.7222222222222222]}"
      ]
     },
     "execution_count": 134,
     "metadata": {},
     "output_type": "execute_result"
    }
   ],
   "source": [
    "BACC_TSS_BCMX = log_cv_report(y_test,y_pred_gboost)\n",
    "BACC_TSS_BCMX"
   ]
  },
  {
   "cell_type": "code",
   "execution_count": 135,
   "id": "b160db6d",
   "metadata": {},
   "outputs": [
    {
     "name": "stdout",
     "output_type": "stream",
     "text": [
      "Prediction accuracy:  0.8\n"
     ]
    },
    {
     "data": {
      "text/plain": [
       "{'B': [0.8666666666666667, 0.7333333333333334],\n",
       " 'C': [0.6488095238095238, 0.2976190476190476],\n",
       " 'M': [0.8960573476702509, 0.7921146953405017],\n",
       " 'X': [0.8611111111111112, 0.7222222222222222]}"
      ]
     },
     "execution_count": 135,
     "metadata": {},
     "output_type": "execute_result"
    }
   ],
   "source": [
    "BACC_TSS_BCMX = log_cv_report(y_test,y_pred_extratrees)\n",
    "BACC_TSS_BCMX"
   ]
  },
  {
   "cell_type": "code",
   "execution_count": 136,
   "id": "9f14427b",
   "metadata": {},
   "outputs": [
    {
     "name": "stdout",
     "output_type": "stream",
     "text": [
      "Prediction accuracy:  0.8\n"
     ]
    },
    {
     "data": {
      "text/plain": [
       "{'B': [0.8466666666666667, 0.6933333333333334],\n",
       " 'C': [0.6488095238095238, 0.2976190476190476],\n",
       " 'M': [0.9121863799283154, 0.8243727598566308],\n",
       " 'X': [0.8611111111111112, 0.7222222222222222]}"
      ]
     },
     "execution_count": 136,
     "metadata": {},
     "output_type": "execute_result"
    }
   ],
   "source": [
    "BACC_TSS_BCMX = log_cv_report(y_test,ens9)\n",
    "BACC_TSS_BCMX"
   ]
  },
  {
   "cell_type": "markdown",
   "id": "9e33693e",
   "metadata": {},
   "source": [
    "# Prediction Result of ENS 1 (RF, KNN, NB) - BACC"
   ]
  },
  {
   "cell_type": "code",
   "execution_count": 137,
   "id": "6b6e446f",
   "metadata": {},
   "outputs": [
    {
     "data": {
      "image/png": "[encoded data removed]",
      "text/plain": [
       "<Figure size 720x360 with 1 Axes>"
      ]
     },
     "metadata": {
      "needs_background": "light"
     },
     "output_type": "display_data"
    }
   ],
   "source": [
    "import numpy as np\n",
    "import matplotlib.pyplot as plt\n",
    "  \n",
    "# creating the dataset\n",
    "data = {'B':0.8666666666666667, 'C':0.7321428571428572, 'M':0.9283154121863799,\n",
    "        'X':0.8611111111111112}\n",
    "courses = list(data.keys())\n",
    "values = list(data.values())\n",
    "  \n",
    "fig = plt.figure(figsize = (10, 5))\n",
    " \n",
    "# creating the bar plot\n",
    "plt.bar(courses, values, color ='maroon',\n",
    "        width = 0.4)\n",
    " \n",
    "plt.xlabel(\"Flare Classes\")\n",
    "plt.ylabel(\"\")\n",
    "plt.title(\"Prediction result for Algorithm: ENS (BACC)\")\n",
    "plt.show()"
   ]
  },
  {
   "cell_type": "code",
   "execution_count": 138,
   "id": "9811f857",
   "metadata": {},
   "outputs": [
    {
     "data": {
      "image/png": "[encoded data removed]",
      "text/plain": [
       "<Figure size 720x360 with 1 Axes>"
      ]
     },
     "metadata": {
      "needs_background": "light"
     },
     "output_type": "display_data"
    }
   ],
   "source": [
    "data = {'B':0.7333333333333334, 'C':0.7440476190476191, 'M':0.9283154121863799,\n",
    "        'X':0.8611111111111112}\n",
    "courses = list(data.keys())\n",
    "values = list(data.values())\n",
    "  \n",
    "fig = plt.figure(figsize = (10, 5))\n",
    " \n",
    "# creating the bar plot\n",
    "plt.bar(courses, values, color ='maroon',\n",
    "        width = 0.3)\n",
    " \n",
    "plt.xlabel(\"Flare Classes\")\n",
    "plt.ylabel(\"\")\n",
    "plt.ylim(0,1)\n",
    "plt.title(\"Prediction result for Algorithm: ENS (TSS)\")\n",
    "plt.show()"
   ]
  },
  {
   "cell_type": "markdown",
   "id": "c3316ab0",
   "metadata": {},
   "source": [
    "# Prediction Result for ENS( RF, MLP, ELM) BACC"
   ]
  },
  {
   "cell_type": "code",
   "execution_count": 139,
   "id": "fd4ed50f",
   "metadata": {},
   "outputs": [
    {
     "data": {
      "image/png": "[encoded data removed]",
      "text/plain": [
       "<Figure size 720x360 with 1 Axes>"
      ]
     },
     "metadata": {
      "needs_background": "light"
     },
     "output_type": "display_data"
    }
   ],
   "source": [
    "import numpy as np\n",
    "import matplotlib.pyplot as plt\n",
    "  \n",
    "# creating the dataset\n",
    "data = {'B':0.8066666666666666, 'C':0.5654761904761905, 'M':0.7831541218637992,\n",
    "        'X':0.8611111111111112}\n",
    "courses = list(data.keys())\n",
    "values = list(data.values())\n",
    "  \n",
    "fig = plt.figure(figsize = (10, 5))\n",
    " \n",
    "# creating the bar plot\n",
    "plt.bar(courses, values, color ='maroon',\n",
    "        width = 0.4)\n",
    " \n",
    "plt.xlabel(\"Flare Classes\")\n",
    "plt.ylabel(\"\")\n",
    "plt.title(\"Prediction result for Algorithm: ENS (BACC)\")\n",
    "plt.show()"
   ]
  },
  {
   "cell_type": "code",
   "execution_count": 140,
   "id": "a8428f03",
   "metadata": {},
   "outputs": [
    {
     "data": {
      "image/png": "[encoded data removed]",
      "text/plain": [
       "<Figure size 720x360 with 1 Axes>"
      ]
     },
     "metadata": {
      "needs_background": "light"
     },
     "output_type": "display_data"
    }
   ],
   "source": [
    "data = {'B':0.6133333333333333, 'C':0.488095238095238, 'M':0.8566308243727598,\n",
    "        'X':0.7222222222222222}\n",
    "courses = list(data.keys())\n",
    "values = list(data.values())\n",
    "  \n",
    "fig = plt.figure(figsize = (10, 5))\n",
    " \n",
    "# creating the bar plot\n",
    "plt.bar(courses, values, color ='maroon',\n",
    "        width = 0.3)\n",
    " \n",
    "plt.xlabel(\"Flare Classes\")\n",
    "plt.ylabel(\"\")\n",
    "plt.ylim(0,1)\n",
    "plt.title(\"Prediction result for Algorithm: ENS (TSS)\")\n",
    "plt.show()"
   ]
  },
  {
   "cell_type": "code",
   "execution_count": 141,
   "id": "b08d6b01",
   "metadata": {},
   "outputs": [
    {
     "data": {
      "image/png": "[encoded data removed]",
      "text/plain": [
       "<Figure size 720x360 with 1 Axes>"
      ]
     },
     "metadata": {
      "needs_background": "light"
     },
     "output_type": "display_data"
    }
   ],
   "source": [
    "N = 4\n",
    "import numpy as np\n",
    "# Data on X-axis\n",
    "data = {'B':0.8666666666666667, 'C':0.7321428571428572, 'M':0.9283154121863799,\n",
    "        'X':0.8611111111111112}\n",
    "data2 = {'B':0.8066666666666666, 'C':0.5654761904761905, 'M':0.7831541218637992,\n",
    "        'X':0.8611111111111112}\n",
    "# Specify the values of blue bars (height)\n",
    "blue_bar = data.values()\n",
    "# Specify the values of orange bars (height)\n",
    "orange_bar = data2.values()\n",
    "\n",
    "# Position of bars on x-axis\n",
    "ind = np.arange(N)\n",
    "\n",
    "# Figure size\n",
    "plt.figure(figsize=(10,5))\n",
    "\n",
    "# Width of a bar \n",
    "width = 0.3       \n",
    "\n",
    "# Plotting\n",
    "plt.bar(ind, orange_bar , width, label='BACC values for ENS with RF, MLP, ELM (Paper Model)')\n",
    "plt.axis([-0.5,4,0,1.2])\n",
    "plt.bar(ind + width, blue_bar, width, label='BACC values for ENS with RF, KNN, NB (My Model)')\n",
    "plt.legend()\n",
    "plt.xlabel('Flare Classes')\n",
    "plt.title('BACC values for ENS')\n",
    "\n",
    "# xticks()\n",
    "# First argument - A list of positions at which ticks should be placed\n",
    "# Second argument -  A list of labels to place at the given locations\n",
    "plt.xticks(ind + width / 2, ('B', 'C', 'M','X'))\n",
    "\n",
    "# Finding the best position for legends and putting it\n",
    "plt.legend(loc='best')\n",
    "plt.show()"
   ]
  },
  {
   "cell_type": "code",
   "execution_count": 142,
   "id": "560062b3",
   "metadata": {},
   "outputs": [
    {
     "data": {
      "image/png": "[encoded data removed]",
      "text/plain": [
       "<Figure size 720x360 with 1 Axes>"
      ]
     },
     "metadata": {
      "needs_background": "light"
     },
     "output_type": "display_data"
    }
   ],
   "source": [
    "N = 4\n",
    "import numpy as np\n",
    "# Data on X-axis\n",
    "data = {'B':0.7333333333333334, 'C':0.7440476190476191, 'M':0.9283154121863799,\n",
    "        'X':0.8611111111111112}\n",
    "data2 = {'B':0.6133333333333333, 'C':0.488095238095238, 'M':0.8566308243727598,\n",
    "        'X':0.7222222222222222}\n",
    "# Specify the values of blue bars (height)\n",
    "blue_bar = data.values()\n",
    "# Specify the values of orange bars (height)\n",
    "orange_bar = data2.values()\n",
    "\n",
    "# Position of bars on x-axis\n",
    "ind = np.arange(N)\n",
    "\n",
    "# Figure size\n",
    "plt.figure(figsize=(10,5))\n",
    "\n",
    "# Width of a bar \n",
    "width = 0.3       \n",
    "\n",
    "# Plotting\n",
    "plt.bar(ind, orange_bar , width, label='TSS values for ENS with RF, MLP, ELM (Paper Model)')\n",
    "plt.axis([-0.5,4,0,1.2])\n",
    "plt.bar(ind + width, blue_bar, width, label='TSS values for ENS with RF, KNN, NB (My Model)')\n",
    "plt.legend()\n",
    "plt.xlabel('Flare Classes')\n",
    "plt.title('TSS values for ENS')\n",
    "\n",
    "# xticks()\n",
    "# First argument - A list of positions at which ticks should be placed\n",
    "# Second argument -  A list of labels to place at the given locations\n",
    "plt.xticks(ind + width / 2, ('B', 'C', 'M','X'))\n",
    "\n",
    "# Finding the best position for legends and putting it\n",
    "plt.legend(loc='best')\n",
    "plt.show()"
   ]
  },
  {
   "cell_type": "code",
   "execution_count": null,
   "id": "452e1565",
   "metadata": {},
   "outputs": [],
   "source": []
  },
  {
   "cell_type": "markdown",
   "id": "9bf0f4c6",
   "metadata": {},
   "source": [
    "# Prediction Result ENS with RF, Bagging, GradientBoosting Classifier "
   ]
  },
  {
   "cell_type": "code",
   "execution_count": 143,
   "id": "6669a62c",
   "metadata": {},
   "outputs": [
    {
     "data": {
      "image/png": "[encoded data removed]",
      "text/plain": [
       "<Figure size 720x360 with 1 Axes>"
      ]
     },
     "metadata": {
      "needs_background": "light"
     },
     "output_type": "display_data"
    }
   ],
   "source": [
    "N = 4\n",
    "import numpy as np\n",
    "# Data on X-axis\n",
    "data = {'B':0.8666666666666667, 'C':0.7321428571428572, 'M':0.9283154121863799,\n",
    "        'X':0.8611111111111112}\n",
    "data2 = {'B':0.853, 'C':0.648, 'M':0.831,\n",
    "        'X':0.8611111111111112}\n",
    "# Specify the values of blue bars (height)\n",
    "blue_bar = data.values()\n",
    "# Specify the values of orange bars (height)\n",
    "orange_bar = data2.values()\n",
    "\n",
    "# Position of bars on x-axis\n",
    "ind = np.arange(N)\n",
    "\n",
    "# Figure size\n",
    "plt.figure(figsize=(10,5))\n",
    "\n",
    "# Width of a bar \n",
    "width = 0.3       \n",
    "\n",
    "# Plotting\n",
    "plt.bar(ind, orange_bar , width, label='BACC values for ENS with RF, MLP, ELM (Paper Model)')\n",
    "plt.axis([-0.5,4,0,1.2])\n",
    "plt.bar(ind + width, blue_bar, width, label='BACC values for ENS with RF, BaggingClassifier, GradientBoostingClassifier (Our Model)')\n",
    "plt.legend()\n",
    "plt.xlabel('Flare Classes')\n",
    "plt.title('BACC values for ENS')\n",
    "\n",
    "# xticks()\n",
    "# First argument - A list of positions at which ticks should be placed\n",
    "# Second argument -  A list of labels to place at the given locations\n",
    "plt.xticks(ind + width / 2, ('B', 'C', 'M','X'))\n",
    "\n",
    "# Finding the best position for legends and putting it\n",
    "plt.legend(loc='best')\n",
    "plt.show()"
   ]
  },
  {
   "cell_type": "code",
   "execution_count": 144,
   "id": "f26e7762",
   "metadata": {},
   "outputs": [
    {
     "data": {
      "image/png": "[encoded data removed]",
      "text/plain": [
       "<Figure size 720x360 with 1 Axes>"
      ]
     },
     "metadata": {
      "needs_background": "light"
     },
     "output_type": "display_data"
    }
   ],
   "source": [
    "N = 4\n",
    "import numpy as np\n",
    "# Data on X-axis\n",
    "data = {'B':0.867, 'C':0.732, 'M':0.9283154121863799,\n",
    "        'X':0.8611111111111112}\n",
    "data2 = {'B':0.706, 'C':0.297, 'M':0.663,\n",
    "        'X':0.7222222222222222}\n",
    "# Specify the values of blue bars (height)\n",
    "blue_bar = data.values()\n",
    "# Specify the values of orange bars (height)\n",
    "orange_bar = data2.values()\n",
    "\n",
    "# Position of bars on x-axis\n",
    "ind = np.arange(N)\n",
    "\n",
    "# Figure size\n",
    "plt.figure(figsize=(10,5))\n",
    "\n",
    "# Width of a bar \n",
    "width = 0.3       \n",
    "\n",
    "# Plotting\n",
    "plt.bar(ind, orange_bar , width, label='TSS values for ENS with RF, MLP, ELM (Paper Model)')\n",
    "plt.axis([-0.5,4,0,1.2])\n",
    "plt.bar(ind + width, blue_bar, width, label='TSS values for ENS with RF, BaggingClassifier, GradientBoostingClassifier (My Model)')\n",
    "plt.legend()\n",
    "plt.xlabel('Flare Classes')\n",
    "plt.title('TSS values for ENS')\n",
    "\n",
    "# xticks()\n",
    "# First argument - A list of positions at which ticks should be placed\n",
    "# Second argument -  A list of labels to place at the given locations\n",
    "plt.xticks(ind + width / 2, ('B', 'C', 'M','X'))\n",
    "\n",
    "# Finding the best position for legends and putting it\n",
    "plt.legend(loc='best')\n",
    "plt.show()"
   ]
  },
  {
   "cell_type": "code",
   "execution_count": null,
   "id": "5250b8a0",
   "metadata": {},
   "outputs": [],
   "source": []
  },
  {
   "cell_type": "code",
   "execution_count": null,
   "id": "83f8a507",
   "metadata": {},
   "outputs": [],
   "source": []
  },
  {
   "cell_type": "code",
   "execution_count": 145,
   "id": "21d92a96",
   "metadata": {},
   "outputs": [
    {
     "data": {
      "image/png": "[encoded data removed]",
      "text/plain": [
       "<Figure size 720x360 with 1 Axes>"
      ]
     },
     "metadata": {
      "needs_background": "light"
     },
     "output_type": "display_data"
    }
   ],
   "source": [
    "N = 4\n",
    "import numpy as np\n",
    "# Data on X-axis\n",
    "data2 = {'B':0.773, 'C':0.547, 'M':0.856,\n",
    "        'X':0.722}\n",
    "data = {'B':0.773, 'C':0.464, 'M':0.824,\n",
    "        'X':0.7222222222222222}\n",
    "# Specify the values of blue bars (height)\n",
    "blue_bar = data.values()\n",
    "# Specify the values of orange bars (height)\n",
    "orange_bar = data2.values()\n",
    "\n",
    "# Position of bars on x-axis\n",
    "ind = np.arange(N)\n",
    "\n",
    "# Figure size\n",
    "plt.figure(figsize=(10,5))\n",
    "\n",
    "# Width of a bar \n",
    "width = 0.3       \n",
    "\n",
    "# Plotting\n",
    "plt.bar(ind, orange_bar , width, label='TSS values for ENS with RF(Paper Model)')\n",
    "plt.axis([-0.5,4,0,1.2])\n",
    "plt.bar(ind + width, blue_bar, width, label='TSS values for ENS with GradientBoosting (My Model)')\n",
    "plt.legend()\n",
    "plt.xlabel('Flare Classes')\n",
    "plt.title('TSS values for ENS')\n",
    "\n",
    "# xticks()\n",
    "# First argument - A list of positions at which ticks should be placed\n",
    "# Second argument -  A list of labels to place at the given locations\n",
    "plt.xticks(ind + width / 2, ('B', 'C', 'M','X'))\n",
    "\n",
    "# Finding the best position for legends and putting it\n",
    "plt.legend(loc='best')\n",
    "plt.show()"
   ]
  },
  {
   "cell_type": "code",
   "execution_count": null,
   "id": "46c1f1af",
   "metadata": {},
   "outputs": [],
   "source": []
  },
  {
   "cell_type": "code",
   "execution_count": null,
   "id": "1f32ef01",
   "metadata": {},
   "outputs": [],
   "source": []
  },
  {
   "cell_type": "code",
   "execution_count": null,
   "id": "e7785c07",
   "metadata": {},
   "outputs": [],
   "source": []
  }
 ],
 "metadata": {
  "kernelspec": {
   "display_name": "Python 3 (ipykernel)",
   "language": "python",
   "name": "python3"
  },
  "language_info": {
   "codemirror_mode": {
    "name": "ipython",
    "version": 3
   },
   "file_extension": ".py",
   "mimetype": "text/x-python",
   "name": "python",
   "nbconvert_exporter": "python",
   "pygments_lexer": "ipython3",
   "version": "3.7.4"
  }
 },
 "nbformat": 4,
 "nbformat_minor": 5
}
