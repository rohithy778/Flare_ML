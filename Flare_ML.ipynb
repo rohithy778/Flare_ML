{
 "cells": [
  {
   "cell_type": "code",
   "execution_count": 1,
   "metadata": {},
   "outputs": [],
   "source": [
    "import pandas as pd\n",
    "\n",
    "test_data = pd.read_csv(r\"C:\\Users\\rohithy\\Desktop\\FlareML\\FlareMl_test.txt\", delimiter = ',')"
   ]
  },
  {
   "cell_type": "code",
   "execution_count": 2,
   "metadata": {},
   "outputs": [
    {
     "data": {
      "text/html": [
       "<div>\n",
       "<style scoped>\n",
       "    .dataframe tbody tr th:only-of-type {\n",
       "        vertical-align: middle;\n",
       "    }\n",
       "\n",
       "    .dataframe tbody tr th {\n",
       "        vertical-align: top;\n",
       "    }\n",
       "\n",
       "    .dataframe thead th {\n",
       "        text-align: right;\n",
       "    }\n",
       "</style>\n",
       "<table border=\"1\" class=\"dataframe\">\n",
       "  <thead>\n",
       "    <tr style=\"text-align: right;\">\n",
       "      <th></th>\n",
       "      <th>Flare Class</th>\n",
       "      <th>fdate</th>\n",
       "      <th>noaaar</th>\n",
       "      <th>TOTUSJH</th>\n",
       "      <th>TOTBSQ</th>\n",
       "      <th>TOTPOT</th>\n",
       "      <th>TOTUSJZ</th>\n",
       "      <th>ABSNJZH</th>\n",
       "      <th>SAVNCPP</th>\n",
       "      <th>USFLUX</th>\n",
       "      <th>AREA_ACR</th>\n",
       "      <th>TOTFZ</th>\n",
       "      <th>MEANPOT</th>\n",
       "      <th>R_VALUE</th>\n",
       "      <th>EPSZ</th>\n",
       "      <th>SHRGT45</th>\n",
       "    </tr>\n",
       "  </thead>\n",
       "  <tbody>\n",
       "    <tr>\n",
       "      <th>0</th>\n",
       "      <td>B10</td>\n",
       "      <td>5/3/2010 0:10</td>\n",
       "      <td>11066</td>\n",
       "      <td>55.772</td>\n",
       "      <td>1.020700e+09</td>\n",
       "      <td>5.220000e+21</td>\n",
       "      <td>9.610000e+11</td>\n",
       "      <td>38.849</td>\n",
       "      <td>1.390000e+12</td>\n",
       "      <td>2.820000e+20</td>\n",
       "      <td>13.9159</td>\n",
       "      <td>115.820000</td>\n",
       "      <td>8009.98</td>\n",
       "      <td>3.102</td>\n",
       "      <td>0.2152</td>\n",
       "      <td>51.120</td>\n",
       "    </tr>\n",
       "    <tr>\n",
       "      <th>1</th>\n",
       "      <td>B40</td>\n",
       "      <td>5/5/2010 0:10</td>\n",
       "      <td>11066</td>\n",
       "      <td>41.846</td>\n",
       "      <td>9.579600e+08</td>\n",
       "      <td>1.510000e+21</td>\n",
       "      <td>6.020000e+11</td>\n",
       "      <td>7.576</td>\n",
       "      <td>1.560000e+11</td>\n",
       "      <td>4.180000e+20</td>\n",
       "      <td>63.1692</td>\n",
       "      <td>-57.081000</td>\n",
       "      <td>2358.96</td>\n",
       "      <td>1.908</td>\n",
       "      <td>-0.1130</td>\n",
       "      <td>2.079</td>\n",
       "    </tr>\n",
       "    <tr>\n",
       "      <th>2</th>\n",
       "      <td>M12</td>\n",
       "      <td>5/5/2010 0:10</td>\n",
       "      <td>11069</td>\n",
       "      <td>605.079</td>\n",
       "      <td>8.395900e+09</td>\n",
       "      <td>7.970000e+22</td>\n",
       "      <td>7.560000e+12</td>\n",
       "      <td>295.489</td>\n",
       "      <td>1.160000e+13</td>\n",
       "      <td>5.500000e+21</td>\n",
       "      <td>187.7550</td>\n",
       "      <td>-1069.000000</td>\n",
       "      <td>10742.80</td>\n",
       "      <td>4.173</td>\n",
       "      <td>-0.2415</td>\n",
       "      <td>12.511</td>\n",
       "    </tr>\n",
       "    <tr>\n",
       "      <th>3</th>\n",
       "      <td>B11</td>\n",
       "      <td>5/11/2010 0:10</td>\n",
       "      <td>11068</td>\n",
       "      <td>34.981</td>\n",
       "      <td>1.882500e+09</td>\n",
       "      <td>1.590000e+21</td>\n",
       "      <td>6.240000e+11</td>\n",
       "      <td>1.055</td>\n",
       "      <td>7.150000e+11</td>\n",
       "      <td>4.610000e+20</td>\n",
       "      <td>134.5900</td>\n",
       "      <td>-0.072779</td>\n",
       "      <td>2012.54</td>\n",
       "      <td>2.449</td>\n",
       "      <td>-0.0001</td>\n",
       "      <td>1.010</td>\n",
       "    </tr>\n",
       "    <tr>\n",
       "      <th>4</th>\n",
       "      <td>B51</td>\n",
       "      <td>6/9/2010 0:10</td>\n",
       "      <td>11078</td>\n",
       "      <td>633.567</td>\n",
       "      <td>1.114800e+10</td>\n",
       "      <td>1.060000e+23</td>\n",
       "      <td>8.990000e+12</td>\n",
       "      <td>30.109</td>\n",
       "      <td>4.540000e+12</td>\n",
       "      <td>7.240000e+21</td>\n",
       "      <td>255.5080</td>\n",
       "      <td>-1474.200000</td>\n",
       "      <td>9964.54</td>\n",
       "      <td>4.145</td>\n",
       "      <td>-0.2508</td>\n",
       "      <td>27.772</td>\n",
       "    </tr>\n",
       "  </tbody>\n",
       "</table>\n",
       "</div>"
      ],
      "text/plain": [
       "  Flare Class           fdate  noaaar  TOTUSJH        TOTBSQ        TOTPOT  \\\n",
       "0         B10   5/3/2010 0:10   11066   55.772  1.020700e+09  5.220000e+21   \n",
       "1         B40   5/5/2010 0:10   11066   41.846  9.579600e+08  1.510000e+21   \n",
       "2         M12   5/5/2010 0:10   11069  605.079  8.395900e+09  7.970000e+22   \n",
       "3         B11  5/11/2010 0:10   11068   34.981  1.882500e+09  1.590000e+21   \n",
       "4         B51   6/9/2010 0:10   11078  633.567  1.114800e+10  1.060000e+23   \n",
       "\n",
       "        TOTUSJZ  ABSNJZH       SAVNCPP        USFLUX  AREA_ACR        TOTFZ  \\\n",
       "0  9.610000e+11   38.849  1.390000e+12  2.820000e+20   13.9159   115.820000   \n",
       "1  6.020000e+11    7.576  1.560000e+11  4.180000e+20   63.1692   -57.081000   \n",
       "2  7.560000e+12  295.489  1.160000e+13  5.500000e+21  187.7550 -1069.000000   \n",
       "3  6.240000e+11    1.055  7.150000e+11  4.610000e+20  134.5900    -0.072779   \n",
       "4  8.990000e+12   30.109  4.540000e+12  7.240000e+21  255.5080 -1474.200000   \n",
       "\n",
       "    MEANPOT  R_VALUE    EPSZ  SHRGT45  \n",
       "0   8009.98    3.102  0.2152   51.120  \n",
       "1   2358.96    1.908 -0.1130    2.079  \n",
       "2  10742.80    4.173 -0.2415   12.511  \n",
       "3   2012.54    2.449 -0.0001    1.010  \n",
       "4   9964.54    4.145 -0.2508   27.772  "
      ]
     },
     "execution_count": 2,
     "metadata": {},
     "output_type": "execute_result"
    }
   ],
   "source": [
    "df = test_data.copy()\n",
    "test_data.head()"
   ]
  },
  {
   "cell_type": "code",
   "execution_count": 3,
   "metadata": {},
   "outputs": [
    {
     "data": {
      "text/html": [
       "<div>\n",
       "<style scoped>\n",
       "    .dataframe tbody tr th:only-of-type {\n",
       "        vertical-align: middle;\n",
       "    }\n",
       "\n",
       "    .dataframe tbody tr th {\n",
       "        vertical-align: top;\n",
       "    }\n",
       "\n",
       "    .dataframe thead th {\n",
       "        text-align: right;\n",
       "    }\n",
       "</style>\n",
       "<table border=\"1\" class=\"dataframe\">\n",
       "  <thead>\n",
       "    <tr style=\"text-align: right;\">\n",
       "      <th></th>\n",
       "      <th>noaaar</th>\n",
       "      <th>TOTUSJH</th>\n",
       "      <th>TOTBSQ</th>\n",
       "      <th>TOTPOT</th>\n",
       "      <th>TOTUSJZ</th>\n",
       "      <th>ABSNJZH</th>\n",
       "      <th>SAVNCPP</th>\n",
       "      <th>USFLUX</th>\n",
       "      <th>AREA_ACR</th>\n",
       "      <th>TOTFZ</th>\n",
       "      <th>MEANPOT</th>\n",
       "      <th>R_VALUE</th>\n",
       "      <th>EPSZ</th>\n",
       "      <th>SHRGT45</th>\n",
       "    </tr>\n",
       "  </thead>\n",
       "  <tbody>\n",
       "    <tr>\n",
       "      <th>count</th>\n",
       "      <td>40.000000</td>\n",
       "      <td>40.000000</td>\n",
       "      <td>4.000000e+01</td>\n",
       "      <td>4.000000e+01</td>\n",
       "      <td>4.000000e+01</td>\n",
       "      <td>40.000000</td>\n",
       "      <td>4.000000e+01</td>\n",
       "      <td>4.000000e+01</td>\n",
       "      <td>40.00000</td>\n",
       "      <td>40.000000</td>\n",
       "      <td>40.000000</td>\n",
       "      <td>40.000000</td>\n",
       "      <td>40.000000</td>\n",
       "      <td>40.000000</td>\n",
       "    </tr>\n",
       "    <tr>\n",
       "      <th>mean</th>\n",
       "      <td>11257.225000</td>\n",
       "      <td>1259.936375</td>\n",
       "      <td>2.538598e+10</td>\n",
       "      <td>3.663020e+23</td>\n",
       "      <td>2.333818e+13</td>\n",
       "      <td>222.222050</td>\n",
       "      <td>8.843200e+12</td>\n",
       "      <td>1.646210e+22</td>\n",
       "      <td>699.27193</td>\n",
       "      <td>-1834.440277</td>\n",
       "      <td>8730.166000</td>\n",
       "      <td>3.689075</td>\n",
       "      <td>-0.160285</td>\n",
       "      <td>25.111325</td>\n",
       "    </tr>\n",
       "    <tr>\n",
       "      <th>std</th>\n",
       "      <td>320.877761</td>\n",
       "      <td>2212.211162</td>\n",
       "      <td>4.289671e+10</td>\n",
       "      <td>8.698466e+23</td>\n",
       "      <td>4.285047e+13</td>\n",
       "      <td>446.371824</td>\n",
       "      <td>1.612393e+13</td>\n",
       "      <td>2.655309e+22</td>\n",
       "      <td>1161.19633</td>\n",
       "      <td>2364.046298</td>\n",
       "      <td>6062.748464</td>\n",
       "      <td>0.808062</td>\n",
       "      <td>0.135896</td>\n",
       "      <td>18.866497</td>\n",
       "    </tr>\n",
       "    <tr>\n",
       "      <th>min</th>\n",
       "      <td>11066.000000</td>\n",
       "      <td>34.981000</td>\n",
       "      <td>9.579600e+08</td>\n",
       "      <td>1.510000e+21</td>\n",
       "      <td>6.020000e+11</td>\n",
       "      <td>1.055000</td>\n",
       "      <td>1.560000e+11</td>\n",
       "      <td>2.820000e+20</td>\n",
       "      <td>13.91590</td>\n",
       "      <td>-10046.000000</td>\n",
       "      <td>1645.960000</td>\n",
       "      <td>1.908000</td>\n",
       "      <td>-0.451000</td>\n",
       "      <td>0.054000</td>\n",
       "    </tr>\n",
       "    <tr>\n",
       "      <th>25%</th>\n",
       "      <td>11092.750000</td>\n",
       "      <td>205.108750</td>\n",
       "      <td>5.615800e+09</td>\n",
       "      <td>2.825000e+22</td>\n",
       "      <td>3.252500e+12</td>\n",
       "      <td>21.628000</td>\n",
       "      <td>1.340000e+12</td>\n",
       "      <td>3.425000e+21</td>\n",
       "      <td>163.21775</td>\n",
       "      <td>-2215.650000</td>\n",
       "      <td>4519.550000</td>\n",
       "      <td>3.191500</td>\n",
       "      <td>-0.237450</td>\n",
       "      <td>10.873000</td>\n",
       "    </tr>\n",
       "    <tr>\n",
       "      <th>50%</th>\n",
       "      <td>11101.500000</td>\n",
       "      <td>642.475000</td>\n",
       "      <td>1.279150e+10</td>\n",
       "      <td>8.790000e+22</td>\n",
       "      <td>1.020000e+13</td>\n",
       "      <td>56.486500</td>\n",
       "      <td>2.310000e+12</td>\n",
       "      <td>7.585000e+21</td>\n",
       "      <td>269.22950</td>\n",
       "      <td>-1026.090000</td>\n",
       "      <td>7023.030000</td>\n",
       "      <td>3.757000</td>\n",
       "      <td>-0.158300</td>\n",
       "      <td>25.198500</td>\n",
       "    </tr>\n",
       "    <tr>\n",
       "      <th>75%</th>\n",
       "      <td>11243.000000</td>\n",
       "      <td>1095.175000</td>\n",
       "      <td>2.502075e+10</td>\n",
       "      <td>2.882500e+23</td>\n",
       "      <td>1.907500e+13</td>\n",
       "      <td>191.698500</td>\n",
       "      <td>8.297500e+12</td>\n",
       "      <td>1.482500e+22</td>\n",
       "      <td>718.62500</td>\n",
       "      <td>-357.977500</td>\n",
       "      <td>11120.000000</td>\n",
       "      <td>4.180500</td>\n",
       "      <td>-0.068500</td>\n",
       "      <td>37.321250</td>\n",
       "    </tr>\n",
       "    <tr>\n",
       "      <th>max</th>\n",
       "      <td>12297.000000</td>\n",
       "      <td>11762.200000</td>\n",
       "      <td>2.250000e+11</td>\n",
       "      <td>4.760000e+24</td>\n",
       "      <td>2.160000e+14</td>\n",
       "      <td>2185.350000</td>\n",
       "      <td>7.720000e+13</td>\n",
       "      <td>1.360000e+23</td>\n",
       "      <td>6158.15000</td>\n",
       "      <td>115.820000</td>\n",
       "      <td>27183.000000</td>\n",
       "      <td>5.463000</td>\n",
       "      <td>0.215200</td>\n",
       "      <td>72.794000</td>\n",
       "    </tr>\n",
       "  </tbody>\n",
       "</table>\n",
       "</div>"
      ],
      "text/plain": [
       "             noaaar       TOTUSJH        TOTBSQ        TOTPOT       TOTUSJZ  \\\n",
       "count     40.000000     40.000000  4.000000e+01  4.000000e+01  4.000000e+01   \n",
       "mean   11257.225000   1259.936375  2.538598e+10  3.663020e+23  2.333818e+13   \n",
       "std      320.877761   2212.211162  4.289671e+10  8.698466e+23  4.285047e+13   \n",
       "min    11066.000000     34.981000  9.579600e+08  1.510000e+21  6.020000e+11   \n",
       "25%    11092.750000    205.108750  5.615800e+09  2.825000e+22  3.252500e+12   \n",
       "50%    11101.500000    642.475000  1.279150e+10  8.790000e+22  1.020000e+13   \n",
       "75%    11243.000000   1095.175000  2.502075e+10  2.882500e+23  1.907500e+13   \n",
       "max    12297.000000  11762.200000  2.250000e+11  4.760000e+24  2.160000e+14   \n",
       "\n",
       "           ABSNJZH       SAVNCPP        USFLUX    AREA_ACR         TOTFZ  \\\n",
       "count    40.000000  4.000000e+01  4.000000e+01    40.00000     40.000000   \n",
       "mean    222.222050  8.843200e+12  1.646210e+22   699.27193  -1834.440277   \n",
       "std     446.371824  1.612393e+13  2.655309e+22  1161.19633   2364.046298   \n",
       "min       1.055000  1.560000e+11  2.820000e+20    13.91590 -10046.000000   \n",
       "25%      21.628000  1.340000e+12  3.425000e+21   163.21775  -2215.650000   \n",
       "50%      56.486500  2.310000e+12  7.585000e+21   269.22950  -1026.090000   \n",
       "75%     191.698500  8.297500e+12  1.482500e+22   718.62500   -357.977500   \n",
       "max    2185.350000  7.720000e+13  1.360000e+23  6158.15000    115.820000   \n",
       "\n",
       "            MEANPOT    R_VALUE       EPSZ    SHRGT45  \n",
       "count     40.000000  40.000000  40.000000  40.000000  \n",
       "mean    8730.166000   3.689075  -0.160285  25.111325  \n",
       "std     6062.748464   0.808062   0.135896  18.866497  \n",
       "min     1645.960000   1.908000  -0.451000   0.054000  \n",
       "25%     4519.550000   3.191500  -0.237450  10.873000  \n",
       "50%     7023.030000   3.757000  -0.158300  25.198500  \n",
       "75%    11120.000000   4.180500  -0.068500  37.321250  \n",
       "max    27183.000000   5.463000   0.215200  72.794000  "
      ]
     },
     "execution_count": 3,
     "metadata": {},
     "output_type": "execute_result"
    }
   ],
   "source": [
    "df.describe()"
   ]
  },
  {
   "cell_type": "code",
   "execution_count": 4,
   "metadata": {},
   "outputs": [],
   "source": [
    "def f(s):\n",
    "    return s[0]\n",
    "\n",
    "y_test = test_data['Flare Class'].apply(f)\n"
   ]
  },
  {
   "cell_type": "code",
   "execution_count": 5,
   "metadata": {
    "scrolled": true
   },
   "outputs": [
    {
     "data": {
      "text/plain": [
       "0    B\n",
       "1    B\n",
       "2    M\n",
       "3    B\n",
       "4    B\n",
       "Name: Flare Class, dtype: object"
      ]
     },
     "execution_count": 5,
     "metadata": {},
     "output_type": "execute_result"
    }
   ],
   "source": [
    "y_test.head()"
   ]
  },
  {
   "cell_type": "code",
   "execution_count": 6,
   "metadata": {},
   "outputs": [],
   "source": [
    "del df['fdate']\n",
    "del df['noaaar']\n",
    "del df['Flare Class']"
   ]
  },
  {
   "cell_type": "code",
   "execution_count": 7,
   "metadata": {},
   "outputs": [
    {
     "data": {
      "text/html": [
       "<div>\n",
       "<style scoped>\n",
       "    .dataframe tbody tr th:only-of-type {\n",
       "        vertical-align: middle;\n",
       "    }\n",
       "\n",
       "    .dataframe tbody tr th {\n",
       "        vertical-align: top;\n",
       "    }\n",
       "\n",
       "    .dataframe thead th {\n",
       "        text-align: right;\n",
       "    }\n",
       "</style>\n",
       "<table border=\"1\" class=\"dataframe\">\n",
       "  <thead>\n",
       "    <tr style=\"text-align: right;\">\n",
       "      <th></th>\n",
       "      <th>TOTUSJH</th>\n",
       "      <th>TOTBSQ</th>\n",
       "      <th>TOTPOT</th>\n",
       "      <th>TOTUSJZ</th>\n",
       "      <th>ABSNJZH</th>\n",
       "      <th>SAVNCPP</th>\n",
       "      <th>USFLUX</th>\n",
       "      <th>AREA_ACR</th>\n",
       "      <th>TOTFZ</th>\n",
       "      <th>MEANPOT</th>\n",
       "      <th>R_VALUE</th>\n",
       "      <th>EPSZ</th>\n",
       "      <th>SHRGT45</th>\n",
       "    </tr>\n",
       "  </thead>\n",
       "  <tbody>\n",
       "    <tr>\n",
       "      <th>0</th>\n",
       "      <td>55.772</td>\n",
       "      <td>1.020700e+09</td>\n",
       "      <td>5.220000e+21</td>\n",
       "      <td>9.610000e+11</td>\n",
       "      <td>38.849</td>\n",
       "      <td>1.390000e+12</td>\n",
       "      <td>2.820000e+20</td>\n",
       "      <td>13.9159</td>\n",
       "      <td>115.820000</td>\n",
       "      <td>8009.98</td>\n",
       "      <td>3.102</td>\n",
       "      <td>0.2152</td>\n",
       "      <td>51.120</td>\n",
       "    </tr>\n",
       "    <tr>\n",
       "      <th>1</th>\n",
       "      <td>41.846</td>\n",
       "      <td>9.579600e+08</td>\n",
       "      <td>1.510000e+21</td>\n",
       "      <td>6.020000e+11</td>\n",
       "      <td>7.576</td>\n",
       "      <td>1.560000e+11</td>\n",
       "      <td>4.180000e+20</td>\n",
       "      <td>63.1692</td>\n",
       "      <td>-57.081000</td>\n",
       "      <td>2358.96</td>\n",
       "      <td>1.908</td>\n",
       "      <td>-0.1130</td>\n",
       "      <td>2.079</td>\n",
       "    </tr>\n",
       "    <tr>\n",
       "      <th>2</th>\n",
       "      <td>605.079</td>\n",
       "      <td>8.395900e+09</td>\n",
       "      <td>7.970000e+22</td>\n",
       "      <td>7.560000e+12</td>\n",
       "      <td>295.489</td>\n",
       "      <td>1.160000e+13</td>\n",
       "      <td>5.500000e+21</td>\n",
       "      <td>187.7550</td>\n",
       "      <td>-1069.000000</td>\n",
       "      <td>10742.80</td>\n",
       "      <td>4.173</td>\n",
       "      <td>-0.2415</td>\n",
       "      <td>12.511</td>\n",
       "    </tr>\n",
       "    <tr>\n",
       "      <th>3</th>\n",
       "      <td>34.981</td>\n",
       "      <td>1.882500e+09</td>\n",
       "      <td>1.590000e+21</td>\n",
       "      <td>6.240000e+11</td>\n",
       "      <td>1.055</td>\n",
       "      <td>7.150000e+11</td>\n",
       "      <td>4.610000e+20</td>\n",
       "      <td>134.5900</td>\n",
       "      <td>-0.072779</td>\n",
       "      <td>2012.54</td>\n",
       "      <td>2.449</td>\n",
       "      <td>-0.0001</td>\n",
       "      <td>1.010</td>\n",
       "    </tr>\n",
       "    <tr>\n",
       "      <th>4</th>\n",
       "      <td>633.567</td>\n",
       "      <td>1.114800e+10</td>\n",
       "      <td>1.060000e+23</td>\n",
       "      <td>8.990000e+12</td>\n",
       "      <td>30.109</td>\n",
       "      <td>4.540000e+12</td>\n",
       "      <td>7.240000e+21</td>\n",
       "      <td>255.5080</td>\n",
       "      <td>-1474.200000</td>\n",
       "      <td>9964.54</td>\n",
       "      <td>4.145</td>\n",
       "      <td>-0.2508</td>\n",
       "      <td>27.772</td>\n",
       "    </tr>\n",
       "  </tbody>\n",
       "</table>\n",
       "</div>"
      ],
      "text/plain": [
       "   TOTUSJH        TOTBSQ        TOTPOT       TOTUSJZ  ABSNJZH       SAVNCPP  \\\n",
       "0   55.772  1.020700e+09  5.220000e+21  9.610000e+11   38.849  1.390000e+12   \n",
       "1   41.846  9.579600e+08  1.510000e+21  6.020000e+11    7.576  1.560000e+11   \n",
       "2  605.079  8.395900e+09  7.970000e+22  7.560000e+12  295.489  1.160000e+13   \n",
       "3   34.981  1.882500e+09  1.590000e+21  6.240000e+11    1.055  7.150000e+11   \n",
       "4  633.567  1.114800e+10  1.060000e+23  8.990000e+12   30.109  4.540000e+12   \n",
       "\n",
       "         USFLUX  AREA_ACR        TOTFZ   MEANPOT  R_VALUE    EPSZ  SHRGT45  \n",
       "0  2.820000e+20   13.9159   115.820000   8009.98    3.102  0.2152   51.120  \n",
       "1  4.180000e+20   63.1692   -57.081000   2358.96    1.908 -0.1130    2.079  \n",
       "2  5.500000e+21  187.7550 -1069.000000  10742.80    4.173 -0.2415   12.511  \n",
       "3  4.610000e+20  134.5900    -0.072779   2012.54    2.449 -0.0001    1.010  \n",
       "4  7.240000e+21  255.5080 -1474.200000   9964.54    4.145 -0.2508   27.772  "
      ]
     },
     "execution_count": 7,
     "metadata": {},
     "output_type": "execute_result"
    }
   ],
   "source": [
    "df.head()"
   ]
  },
  {
   "cell_type": "code",
   "execution_count": 8,
   "metadata": {},
   "outputs": [],
   "source": [
    "x_test = df.copy()"
   ]
  },
  {
   "cell_type": "code",
   "execution_count": 9,
   "metadata": {},
   "outputs": [
    {
     "data": {
      "text/html": [
       "<div>\n",
       "<style scoped>\n",
       "    .dataframe tbody tr th:only-of-type {\n",
       "        vertical-align: middle;\n",
       "    }\n",
       "\n",
       "    .dataframe tbody tr th {\n",
       "        vertical-align: top;\n",
       "    }\n",
       "\n",
       "    .dataframe thead th {\n",
       "        text-align: right;\n",
       "    }\n",
       "</style>\n",
       "<table border=\"1\" class=\"dataframe\">\n",
       "  <thead>\n",
       "    <tr style=\"text-align: right;\">\n",
       "      <th></th>\n",
       "      <th>TOTUSJH</th>\n",
       "      <th>TOTBSQ</th>\n",
       "      <th>TOTPOT</th>\n",
       "      <th>TOTUSJZ</th>\n",
       "      <th>ABSNJZH</th>\n",
       "      <th>SAVNCPP</th>\n",
       "      <th>USFLUX</th>\n",
       "      <th>AREA_ACR</th>\n",
       "      <th>TOTFZ</th>\n",
       "      <th>MEANPOT</th>\n",
       "      <th>R_VALUE</th>\n",
       "      <th>EPSZ</th>\n",
       "      <th>SHRGT45</th>\n",
       "    </tr>\n",
       "  </thead>\n",
       "  <tbody>\n",
       "    <tr>\n",
       "      <th>count</th>\n",
       "      <td>40.000000</td>\n",
       "      <td>4.000000e+01</td>\n",
       "      <td>4.000000e+01</td>\n",
       "      <td>4.000000e+01</td>\n",
       "      <td>40.000000</td>\n",
       "      <td>4.000000e+01</td>\n",
       "      <td>4.000000e+01</td>\n",
       "      <td>40.00000</td>\n",
       "      <td>40.000000</td>\n",
       "      <td>40.000000</td>\n",
       "      <td>40.000000</td>\n",
       "      <td>40.000000</td>\n",
       "      <td>40.000000</td>\n",
       "    </tr>\n",
       "    <tr>\n",
       "      <th>mean</th>\n",
       "      <td>1259.936375</td>\n",
       "      <td>2.538598e+10</td>\n",
       "      <td>3.663020e+23</td>\n",
       "      <td>2.333818e+13</td>\n",
       "      <td>222.222050</td>\n",
       "      <td>8.843200e+12</td>\n",
       "      <td>1.646210e+22</td>\n",
       "      <td>699.27193</td>\n",
       "      <td>-1834.440277</td>\n",
       "      <td>8730.166000</td>\n",
       "      <td>3.689075</td>\n",
       "      <td>-0.160285</td>\n",
       "      <td>25.111325</td>\n",
       "    </tr>\n",
       "    <tr>\n",
       "      <th>std</th>\n",
       "      <td>2212.211162</td>\n",
       "      <td>4.289671e+10</td>\n",
       "      <td>8.698466e+23</td>\n",
       "      <td>4.285047e+13</td>\n",
       "      <td>446.371824</td>\n",
       "      <td>1.612393e+13</td>\n",
       "      <td>2.655309e+22</td>\n",
       "      <td>1161.19633</td>\n",
       "      <td>2364.046298</td>\n",
       "      <td>6062.748464</td>\n",
       "      <td>0.808062</td>\n",
       "      <td>0.135896</td>\n",
       "      <td>18.866497</td>\n",
       "    </tr>\n",
       "    <tr>\n",
       "      <th>min</th>\n",
       "      <td>34.981000</td>\n",
       "      <td>9.579600e+08</td>\n",
       "      <td>1.510000e+21</td>\n",
       "      <td>6.020000e+11</td>\n",
       "      <td>1.055000</td>\n",
       "      <td>1.560000e+11</td>\n",
       "      <td>2.820000e+20</td>\n",
       "      <td>13.91590</td>\n",
       "      <td>-10046.000000</td>\n",
       "      <td>1645.960000</td>\n",
       "      <td>1.908000</td>\n",
       "      <td>-0.451000</td>\n",
       "      <td>0.054000</td>\n",
       "    </tr>\n",
       "    <tr>\n",
       "      <th>25%</th>\n",
       "      <td>205.108750</td>\n",
       "      <td>5.615800e+09</td>\n",
       "      <td>2.825000e+22</td>\n",
       "      <td>3.252500e+12</td>\n",
       "      <td>21.628000</td>\n",
       "      <td>1.340000e+12</td>\n",
       "      <td>3.425000e+21</td>\n",
       "      <td>163.21775</td>\n",
       "      <td>-2215.650000</td>\n",
       "      <td>4519.550000</td>\n",
       "      <td>3.191500</td>\n",
       "      <td>-0.237450</td>\n",
       "      <td>10.873000</td>\n",
       "    </tr>\n",
       "    <tr>\n",
       "      <th>50%</th>\n",
       "      <td>642.475000</td>\n",
       "      <td>1.279150e+10</td>\n",
       "      <td>8.790000e+22</td>\n",
       "      <td>1.020000e+13</td>\n",
       "      <td>56.486500</td>\n",
       "      <td>2.310000e+12</td>\n",
       "      <td>7.585000e+21</td>\n",
       "      <td>269.22950</td>\n",
       "      <td>-1026.090000</td>\n",
       "      <td>7023.030000</td>\n",
       "      <td>3.757000</td>\n",
       "      <td>-0.158300</td>\n",
       "      <td>25.198500</td>\n",
       "    </tr>\n",
       "    <tr>\n",
       "      <th>75%</th>\n",
       "      <td>1095.175000</td>\n",
       "      <td>2.502075e+10</td>\n",
       "      <td>2.882500e+23</td>\n",
       "      <td>1.907500e+13</td>\n",
       "      <td>191.698500</td>\n",
       "      <td>8.297500e+12</td>\n",
       "      <td>1.482500e+22</td>\n",
       "      <td>718.62500</td>\n",
       "      <td>-357.977500</td>\n",
       "      <td>11120.000000</td>\n",
       "      <td>4.180500</td>\n",
       "      <td>-0.068500</td>\n",
       "      <td>37.321250</td>\n",
       "    </tr>\n",
       "    <tr>\n",
       "      <th>max</th>\n",
       "      <td>11762.200000</td>\n",
       "      <td>2.250000e+11</td>\n",
       "      <td>4.760000e+24</td>\n",
       "      <td>2.160000e+14</td>\n",
       "      <td>2185.350000</td>\n",
       "      <td>7.720000e+13</td>\n",
       "      <td>1.360000e+23</td>\n",
       "      <td>6158.15000</td>\n",
       "      <td>115.820000</td>\n",
       "      <td>27183.000000</td>\n",
       "      <td>5.463000</td>\n",
       "      <td>0.215200</td>\n",
       "      <td>72.794000</td>\n",
       "    </tr>\n",
       "  </tbody>\n",
       "</table>\n",
       "</div>"
      ],
      "text/plain": [
       "            TOTUSJH        TOTBSQ        TOTPOT       TOTUSJZ      ABSNJZH  \\\n",
       "count     40.000000  4.000000e+01  4.000000e+01  4.000000e+01    40.000000   \n",
       "mean    1259.936375  2.538598e+10  3.663020e+23  2.333818e+13   222.222050   \n",
       "std     2212.211162  4.289671e+10  8.698466e+23  4.285047e+13   446.371824   \n",
       "min       34.981000  9.579600e+08  1.510000e+21  6.020000e+11     1.055000   \n",
       "25%      205.108750  5.615800e+09  2.825000e+22  3.252500e+12    21.628000   \n",
       "50%      642.475000  1.279150e+10  8.790000e+22  1.020000e+13    56.486500   \n",
       "75%     1095.175000  2.502075e+10  2.882500e+23  1.907500e+13   191.698500   \n",
       "max    11762.200000  2.250000e+11  4.760000e+24  2.160000e+14  2185.350000   \n",
       "\n",
       "            SAVNCPP        USFLUX    AREA_ACR         TOTFZ       MEANPOT  \\\n",
       "count  4.000000e+01  4.000000e+01    40.00000     40.000000     40.000000   \n",
       "mean   8.843200e+12  1.646210e+22   699.27193  -1834.440277   8730.166000   \n",
       "std    1.612393e+13  2.655309e+22  1161.19633   2364.046298   6062.748464   \n",
       "min    1.560000e+11  2.820000e+20    13.91590 -10046.000000   1645.960000   \n",
       "25%    1.340000e+12  3.425000e+21   163.21775  -2215.650000   4519.550000   \n",
       "50%    2.310000e+12  7.585000e+21   269.22950  -1026.090000   7023.030000   \n",
       "75%    8.297500e+12  1.482500e+22   718.62500   -357.977500  11120.000000   \n",
       "max    7.720000e+13  1.360000e+23  6158.15000    115.820000  27183.000000   \n",
       "\n",
       "         R_VALUE       EPSZ    SHRGT45  \n",
       "count  40.000000  40.000000  40.000000  \n",
       "mean    3.689075  -0.160285  25.111325  \n",
       "std     0.808062   0.135896  18.866497  \n",
       "min     1.908000  -0.451000   0.054000  \n",
       "25%     3.191500  -0.237450  10.873000  \n",
       "50%     3.757000  -0.158300  25.198500  \n",
       "75%     4.180500  -0.068500  37.321250  \n",
       "max     5.463000   0.215200  72.794000  "
      ]
     },
     "execution_count": 9,
     "metadata": {},
     "output_type": "execute_result"
    }
   ],
   "source": [
    "df.describe()"
   ]
  },
  {
   "cell_type": "code",
   "execution_count": 10,
   "metadata": {},
   "outputs": [],
   "source": [
    "train_data = pd.read_csv(r\"C:\\Users\\rohithy\\Desktop\\FlareML\\FlareMl_train.txt\", delimiter = ',')"
   ]
  },
  {
   "cell_type": "code",
   "execution_count": 11,
   "metadata": {},
   "outputs": [],
   "source": [
    "df2 = train_data.copy()\n",
    "y_train = df2['Flare Class']\n",
    "del df2['Flare Class']"
   ]
  },
  {
   "cell_type": "code",
   "execution_count": 12,
   "metadata": {},
   "outputs": [
    {
     "data": {
      "text/html": [
       "<div>\n",
       "<style scoped>\n",
       "    .dataframe tbody tr th:only-of-type {\n",
       "        vertical-align: middle;\n",
       "    }\n",
       "\n",
       "    .dataframe tbody tr th {\n",
       "        vertical-align: top;\n",
       "    }\n",
       "\n",
       "    .dataframe thead th {\n",
       "        text-align: right;\n",
       "    }\n",
       "</style>\n",
       "<table border=\"1\" class=\"dataframe\">\n",
       "  <thead>\n",
       "    <tr style=\"text-align: right;\">\n",
       "      <th></th>\n",
       "      <th>TOTUSJH</th>\n",
       "      <th>TOTBSQ</th>\n",
       "      <th>TOTPOT</th>\n",
       "      <th>TOTUSJZ</th>\n",
       "      <th>ABSNJZH</th>\n",
       "      <th>SAVNCPP</th>\n",
       "      <th>USFLUX</th>\n",
       "      <th>AREA_ACR</th>\n",
       "      <th>TOTFZ</th>\n",
       "      <th>MEANPOT</th>\n",
       "      <th>R_VALUE</th>\n",
       "      <th>EPSZ</th>\n",
       "      <th>SHRGT45</th>\n",
       "    </tr>\n",
       "  </thead>\n",
       "  <tbody>\n",
       "    <tr>\n",
       "      <th>count</th>\n",
       "      <td>435.000000</td>\n",
       "      <td>4.350000e+02</td>\n",
       "      <td>4.350000e+02</td>\n",
       "      <td>4.350000e+02</td>\n",
       "      <td>435.000000</td>\n",
       "      <td>4.350000e+02</td>\n",
       "      <td>4.350000e+02</td>\n",
       "      <td>435.000000</td>\n",
       "      <td>435.000000</td>\n",
       "      <td>435.000000</td>\n",
       "      <td>435.000000</td>\n",
       "      <td>435.000000</td>\n",
       "      <td>435.000000</td>\n",
       "    </tr>\n",
       "    <tr>\n",
       "      <th>mean</th>\n",
       "      <td>1783.002354</td>\n",
       "      <td>3.135001e+10</td>\n",
       "      <td>4.286130e+23</td>\n",
       "      <td>3.548901e+13</td>\n",
       "      <td>240.207857</td>\n",
       "      <td>9.846037e+12</td>\n",
       "      <td>2.286742e+22</td>\n",
       "      <td>925.748784</td>\n",
       "      <td>-2726.613970</td>\n",
       "      <td>7283.688713</td>\n",
       "      <td>3.879763</td>\n",
       "      <td>-0.180126</td>\n",
       "      <td>28.484575</td>\n",
       "    </tr>\n",
       "    <tr>\n",
       "      <th>std</th>\n",
       "      <td>1990.703086</td>\n",
       "      <td>3.628964e+10</td>\n",
       "      <td>6.936996e+23</td>\n",
       "      <td>3.668825e+13</td>\n",
       "      <td>369.123077</td>\n",
       "      <td>1.311533e+13</td>\n",
       "      <td>2.452246e+22</td>\n",
       "      <td>978.999477</td>\n",
       "      <td>3201.626042</td>\n",
       "      <td>4772.746887</td>\n",
       "      <td>0.776386</td>\n",
       "      <td>0.139119</td>\n",
       "      <td>15.225942</td>\n",
       "    </tr>\n",
       "    <tr>\n",
       "      <th>min</th>\n",
       "      <td>26.477000</td>\n",
       "      <td>8.724000e+08</td>\n",
       "      <td>7.490590e+20</td>\n",
       "      <td>3.684500e+11</td>\n",
       "      <td>0.501000</td>\n",
       "      <td>5.786140e+10</td>\n",
       "      <td>1.862340e+20</td>\n",
       "      <td>9.814020</td>\n",
       "      <td>-25663.000000</td>\n",
       "      <td>1097.680000</td>\n",
       "      <td>1.379000</td>\n",
       "      <td>-0.557600</td>\n",
       "      <td>0.054000</td>\n",
       "    </tr>\n",
       "    <tr>\n",
       "      <th>25%</th>\n",
       "      <td>567.107000</td>\n",
       "      <td>9.692600e+09</td>\n",
       "      <td>6.691065e+22</td>\n",
       "      <td>1.117925e+13</td>\n",
       "      <td>35.981500</td>\n",
       "      <td>1.873245e+12</td>\n",
       "      <td>7.221970e+21</td>\n",
       "      <td>294.217000</td>\n",
       "      <td>-3615.450000</td>\n",
       "      <td>3834.730000</td>\n",
       "      <td>3.484500</td>\n",
       "      <td>-0.273100</td>\n",
       "      <td>16.153500</td>\n",
       "    </tr>\n",
       "    <tr>\n",
       "      <th>50%</th>\n",
       "      <td>1061.760000</td>\n",
       "      <td>2.030200e+10</td>\n",
       "      <td>1.857720e+23</td>\n",
       "      <td>2.189960e+13</td>\n",
       "      <td>96.491000</td>\n",
       "      <td>4.832770e+12</td>\n",
       "      <td>1.534860e+22</td>\n",
       "      <td>604.826000</td>\n",
       "      <td>-1588.100000</td>\n",
       "      <td>5826.010000</td>\n",
       "      <td>3.979000</td>\n",
       "      <td>-0.166800</td>\n",
       "      <td>27.071000</td>\n",
       "    </tr>\n",
       "    <tr>\n",
       "      <th>75%</th>\n",
       "      <td>2374.765000</td>\n",
       "      <td>4.120700e+10</td>\n",
       "      <td>4.892940e+23</td>\n",
       "      <td>4.935565e+13</td>\n",
       "      <td>292.817000</td>\n",
       "      <td>1.281860e+13</td>\n",
       "      <td>2.954615e+22</td>\n",
       "      <td>1314.785000</td>\n",
       "      <td>-606.985000</td>\n",
       "      <td>9713.540000</td>\n",
       "      <td>4.420000</td>\n",
       "      <td>-0.074050</td>\n",
       "      <td>39.542000</td>\n",
       "    </tr>\n",
       "    <tr>\n",
       "      <th>max</th>\n",
       "      <td>14169.600000</td>\n",
       "      <td>2.759600e+11</td>\n",
       "      <td>5.279320e+24</td>\n",
       "      <td>2.398680e+14</td>\n",
       "      <td>2745.040000</td>\n",
       "      <td>9.329150e+13</td>\n",
       "      <td>1.964350e+23</td>\n",
       "      <td>6996.790000</td>\n",
       "      <td>1844.400000</td>\n",
       "      <td>27183.000000</td>\n",
       "      <td>5.463000</td>\n",
       "      <td>0.344000</td>\n",
       "      <td>72.794000</td>\n",
       "    </tr>\n",
       "  </tbody>\n",
       "</table>\n",
       "</div>"
      ],
      "text/plain": [
       "            TOTUSJH        TOTBSQ        TOTPOT       TOTUSJZ      ABSNJZH  \\\n",
       "count    435.000000  4.350000e+02  4.350000e+02  4.350000e+02   435.000000   \n",
       "mean    1783.002354  3.135001e+10  4.286130e+23  3.548901e+13   240.207857   \n",
       "std     1990.703086  3.628964e+10  6.936996e+23  3.668825e+13   369.123077   \n",
       "min       26.477000  8.724000e+08  7.490590e+20  3.684500e+11     0.501000   \n",
       "25%      567.107000  9.692600e+09  6.691065e+22  1.117925e+13    35.981500   \n",
       "50%     1061.760000  2.030200e+10  1.857720e+23  2.189960e+13    96.491000   \n",
       "75%     2374.765000  4.120700e+10  4.892940e+23  4.935565e+13   292.817000   \n",
       "max    14169.600000  2.759600e+11  5.279320e+24  2.398680e+14  2745.040000   \n",
       "\n",
       "            SAVNCPP        USFLUX     AREA_ACR         TOTFZ       MEANPOT  \\\n",
       "count  4.350000e+02  4.350000e+02   435.000000    435.000000    435.000000   \n",
       "mean   9.846037e+12  2.286742e+22   925.748784  -2726.613970   7283.688713   \n",
       "std    1.311533e+13  2.452246e+22   978.999477   3201.626042   4772.746887   \n",
       "min    5.786140e+10  1.862340e+20     9.814020 -25663.000000   1097.680000   \n",
       "25%    1.873245e+12  7.221970e+21   294.217000  -3615.450000   3834.730000   \n",
       "50%    4.832770e+12  1.534860e+22   604.826000  -1588.100000   5826.010000   \n",
       "75%    1.281860e+13  2.954615e+22  1314.785000   -606.985000   9713.540000   \n",
       "max    9.329150e+13  1.964350e+23  6996.790000   1844.400000  27183.000000   \n",
       "\n",
       "          R_VALUE        EPSZ     SHRGT45  \n",
       "count  435.000000  435.000000  435.000000  \n",
       "mean     3.879763   -0.180126   28.484575  \n",
       "std      0.776386    0.139119   15.225942  \n",
       "min      1.379000   -0.557600    0.054000  \n",
       "25%      3.484500   -0.273100   16.153500  \n",
       "50%      3.979000   -0.166800   27.071000  \n",
       "75%      4.420000   -0.074050   39.542000  \n",
       "max      5.463000    0.344000   72.794000  "
      ]
     },
     "execution_count": 12,
     "metadata": {},
     "output_type": "execute_result"
    }
   ],
   "source": [
    "df2.describe()"
   ]
  },
  {
   "cell_type": "code",
   "execution_count": 13,
   "metadata": {},
   "outputs": [],
   "source": [
    "x_train = df2"
   ]
  },
  {
   "cell_type": "code",
   "execution_count": 14,
   "metadata": {},
   "outputs": [
    {
     "data": {
      "text/plain": [
       "Index(['TOTUSJH', 'TOTBSQ', 'TOTPOT', 'TOTUSJZ', 'ABSNJZH', 'SAVNCPP',\n",
       "       'USFLUX', 'AREA_ACR', 'TOTFZ', 'MEANPOT', 'R_VALUE', 'EPSZ', 'SHRGT45'],\n",
       "      dtype='object')"
      ]
     },
     "execution_count": 14,
     "metadata": {},
     "output_type": "execute_result"
    }
   ],
   "source": [
    "x_train.columns"
   ]
  },
  {
   "cell_type": "code",
   "execution_count": null,
   "metadata": {},
   "outputs": [],
   "source": []
  },
  {
   "cell_type": "code",
   "execution_count": 15,
   "metadata": {},
   "outputs": [
    {
     "data": {
      "text/html": [
       "<div>\n",
       "<style scoped>\n",
       "    .dataframe tbody tr th:only-of-type {\n",
       "        vertical-align: middle;\n",
       "    }\n",
       "\n",
       "    .dataframe tbody tr th {\n",
       "        vertical-align: top;\n",
       "    }\n",
       "\n",
       "    .dataframe thead th {\n",
       "        text-align: right;\n",
       "    }\n",
       "</style>\n",
       "<table border=\"1\" class=\"dataframe\">\n",
       "  <thead>\n",
       "    <tr style=\"text-align: right;\">\n",
       "      <th></th>\n",
       "      <th>TOTUSJH</th>\n",
       "      <th>TOTBSQ</th>\n",
       "      <th>TOTPOT</th>\n",
       "      <th>TOTUSJZ</th>\n",
       "      <th>ABSNJZH</th>\n",
       "      <th>SAVNCPP</th>\n",
       "      <th>USFLUX</th>\n",
       "      <th>AREA_ACR</th>\n",
       "      <th>TOTFZ</th>\n",
       "      <th>MEANPOT</th>\n",
       "      <th>R_VALUE</th>\n",
       "      <th>EPSZ</th>\n",
       "      <th>SHRGT45</th>\n",
       "    </tr>\n",
       "  </thead>\n",
       "  <tbody>\n",
       "    <tr>\n",
       "      <th>0</th>\n",
       "      <td>3249.07</td>\n",
       "      <td>41815000000</td>\n",
       "      <td>8.596110e+23</td>\n",
       "      <td>62133000000000</td>\n",
       "      <td>700.682</td>\n",
       "      <td>14899500000000</td>\n",
       "      <td>2.735020e+22</td>\n",
       "      <td>1103.97</td>\n",
       "      <td>-552.89</td>\n",
       "      <td>14038.00</td>\n",
       "      <td>4.820</td>\n",
       "      <td>-0.0251</td>\n",
       "      <td>59.489</td>\n",
       "    </tr>\n",
       "    <tr>\n",
       "      <th>1</th>\n",
       "      <td>3176.31</td>\n",
       "      <td>47782000000</td>\n",
       "      <td>9.662510e+23</td>\n",
       "      <td>69314200000000</td>\n",
       "      <td>157.759</td>\n",
       "      <td>9905710000000</td>\n",
       "      <td>3.176960e+22</td>\n",
       "      <td>1400.93</td>\n",
       "      <td>-869.70</td>\n",
       "      <td>13463.60</td>\n",
       "      <td>4.825</td>\n",
       "      <td>-0.0345</td>\n",
       "      <td>55.222</td>\n",
       "    </tr>\n",
       "    <tr>\n",
       "      <th>2</th>\n",
       "      <td>1892.92</td>\n",
       "      <td>26673000000</td>\n",
       "      <td>3.717600e+23</td>\n",
       "      <td>42117300000000</td>\n",
       "      <td>171.952</td>\n",
       "      <td>6528880000000</td>\n",
       "      <td>1.890010e+22</td>\n",
       "      <td>1370.85</td>\n",
       "      <td>-231.29</td>\n",
       "      <td>7496.19</td>\n",
       "      <td>4.438</td>\n",
       "      <td>-0.0164</td>\n",
       "      <td>42.934</td>\n",
       "    </tr>\n",
       "    <tr>\n",
       "      <th>3</th>\n",
       "      <td>1868.82</td>\n",
       "      <td>24509000000</td>\n",
       "      <td>3.483140e+23</td>\n",
       "      <td>36289300000000</td>\n",
       "      <td>429.602</td>\n",
       "      <td>21180700000000</td>\n",
       "      <td>1.732570e+22</td>\n",
       "      <td>1198.60</td>\n",
       "      <td>-317.56</td>\n",
       "      <td>8669.42</td>\n",
       "      <td>4.319</td>\n",
       "      <td>-0.0246</td>\n",
       "      <td>35.944</td>\n",
       "    </tr>\n",
       "    <tr>\n",
       "      <th>4</th>\n",
       "      <td>5271.77</td>\n",
       "      <td>102290000000</td>\n",
       "      <td>1.920230e+24</td>\n",
       "      <td>86898000000000</td>\n",
       "      <td>1066.250</td>\n",
       "      <td>16117800000000</td>\n",
       "      <td>6.440390e+22</td>\n",
       "      <td>1939.06</td>\n",
       "      <td>-6162.10</td>\n",
       "      <td>16094.80</td>\n",
       "      <td>4.912</td>\n",
       "      <td>-0.1143</td>\n",
       "      <td>41.102</td>\n",
       "    </tr>\n",
       "  </tbody>\n",
       "</table>\n",
       "</div>"
      ],
      "text/plain": [
       "   TOTUSJH        TOTBSQ        TOTPOT         TOTUSJZ   ABSNJZH  \\\n",
       "0  3249.07   41815000000  8.596110e+23  62133000000000   700.682   \n",
       "1  3176.31   47782000000  9.662510e+23  69314200000000   157.759   \n",
       "2  1892.92   26673000000  3.717600e+23  42117300000000   171.952   \n",
       "3  1868.82   24509000000  3.483140e+23  36289300000000   429.602   \n",
       "4  5271.77  102290000000  1.920230e+24  86898000000000  1066.250   \n",
       "\n",
       "          SAVNCPP        USFLUX  AREA_ACR    TOTFZ   MEANPOT  R_VALUE    EPSZ  \\\n",
       "0  14899500000000  2.735020e+22   1103.97  -552.89  14038.00    4.820 -0.0251   \n",
       "1   9905710000000  3.176960e+22   1400.93  -869.70  13463.60    4.825 -0.0345   \n",
       "2   6528880000000  1.890010e+22   1370.85  -231.29   7496.19    4.438 -0.0164   \n",
       "3  21180700000000  1.732570e+22   1198.60  -317.56   8669.42    4.319 -0.0246   \n",
       "4  16117800000000  6.440390e+22   1939.06 -6162.10  16094.80    4.912 -0.1143   \n",
       "\n",
       "   SHRGT45  \n",
       "0   59.489  \n",
       "1   55.222  \n",
       "2   42.934  \n",
       "3   35.944  \n",
       "4   41.102  "
      ]
     },
     "execution_count": 15,
     "metadata": {},
     "output_type": "execute_result"
    }
   ],
   "source": [
    "x_train.head()"
   ]
  },
  {
   "cell_type": "markdown",
   "metadata": {},
   "source": [
    "# Logistic Regression"
   ]
  },
  {
   "cell_type": "code",
   "execution_count": 16,
   "metadata": {},
   "outputs": [],
   "source": [
    "from sklearn.linear_model import LogisticRegression"
   ]
  },
  {
   "cell_type": "code",
   "execution_count": 17,
   "metadata": {},
   "outputs": [],
   "source": [
    "from sklearn import preprocessing"
   ]
  },
  {
   "cell_type": "code",
   "execution_count": 18,
   "metadata": {},
   "outputs": [],
   "source": [
    "scaler = preprocessing.StandardScaler()\n",
    "scaler.fit(x_train)\n",
    "x_train_scaled = scaler.transform(x_train)\n",
    "scaler.fit(x_test)\n",
    "x_test_scaled = scaler.transform(x_test)"
   ]
  },
  {
   "cell_type": "code",
   "execution_count": 19,
   "metadata": {},
   "outputs": [],
   "source": [
    "# before scaling the Class B dominates"
   ]
  },
  {
   "cell_type": "code",
   "execution_count": 20,
   "metadata": {},
   "outputs": [
    {
     "name": "stderr",
     "output_type": "stream",
     "text": [
      "C:\\Users\\rohithy\\anaconda3\\lib\\site-packages\\sklearn\\linear_model\\_logistic.py:940: ConvergenceWarning: lbfgs failed to converge (status=2):\n",
      "ABNORMAL_TERMINATION_IN_LNSRCH.\n",
      "\n",
      "Increase the number of iterations (max_iter) or scale the data as shown in:\n",
      "    https://scikit-learn.org/stable/modules/preprocessing.html\n",
      "Please also refer to the documentation for alternative solver options:\n",
      "    https://scikit-learn.org/stable/modules/linear_model.html#logistic-regression\n",
      "  extra_warning_msg=_LOGISTIC_SOLVER_CONVERGENCE_MSG)\n"
     ]
    },
    {
     "data": {
      "text/plain": [
       "LogisticRegression(C=1.0, class_weight=None, dual=False, fit_intercept=True,\n",
       "                   intercept_scaling=1, l1_ratio=None, max_iter=100,\n",
       "                   multi_class='auto', n_jobs=None, penalty='l2',\n",
       "                   random_state=None, solver='lbfgs', tol=0.0001, verbose=0,\n",
       "                   warm_start=False)"
      ]
     },
     "execution_count": 20,
     "metadata": {},
     "output_type": "execute_result"
    }
   ],
   "source": [
    "clf = LogisticRegression()\n",
    "clf.fit(x_train, y_train)"
   ]
  },
  {
   "cell_type": "code",
   "execution_count": 21,
   "metadata": {},
   "outputs": [
    {
     "data": {
      "text/plain": [
       "LogisticRegression(C=1.0, class_weight=None, dual=False, fit_intercept=True,\n",
       "                   intercept_scaling=1, l1_ratio=None, max_iter=100,\n",
       "                   multi_class='auto', n_jobs=None, penalty='l2',\n",
       "                   random_state=None, solver='lbfgs', tol=0.0001, verbose=0,\n",
       "                   warm_start=False)"
      ]
     },
     "execution_count": 21,
     "metadata": {},
     "output_type": "execute_result"
    }
   ],
   "source": [
    "clf2 = LogisticRegression()\n",
    "clf2.fit(x_train_scaled, y_train)"
   ]
  },
  {
   "cell_type": "code",
   "execution_count": 22,
   "metadata": {},
   "outputs": [
    {
     "data": {
      "text/plain": [
       "array(['B', 'B', 'B', 'B', 'B', 'B', 'B', 'B', 'B', 'B', 'B', 'B', 'B',\n",
       "       'B', 'B', 'B', 'B', 'B', 'B', 'B', 'B', 'B', 'B', 'B', 'B', 'B',\n",
       "       'B', 'B', 'B', 'B', 'B', 'B', 'B', 'B', 'B', 'B', 'B', 'B', 'B',\n",
       "       'B'], dtype=object)"
      ]
     },
     "execution_count": 22,
     "metadata": {},
     "output_type": "execute_result"
    }
   ],
   "source": [
    "clf.predict(x_test)"
   ]
  },
  {
   "cell_type": "code",
   "execution_count": 23,
   "metadata": {},
   "outputs": [
    {
     "data": {
      "text/plain": [
       "array(['X', 'X', 'X', 'X', 'X', 'X', 'X', 'X', 'X', 'X', 'X', 'X', 'X',\n",
       "       'X', 'X', 'X', 'X', 'X', 'X', 'X', 'X', 'X', 'X', 'X', 'X', 'X',\n",
       "       'X', 'X', 'X', 'X', 'X', 'X', 'X', 'X', 'X', 'X', 'X', 'X', 'X',\n",
       "       'X'], dtype=object)"
      ]
     },
     "execution_count": 23,
     "metadata": {},
     "output_type": "execute_result"
    }
   ],
   "source": [
    "clf2.predict(x_test)"
   ]
  },
  {
   "cell_type": "code",
   "execution_count": 24,
   "metadata": {},
   "outputs": [],
   "source": [
    "# After Scaling class X dominates "
   ]
  },
  {
   "cell_type": "code",
   "execution_count": 25,
   "metadata": {},
   "outputs": [
    {
     "data": {
      "text/plain": [
       "LogisticRegression(C=1.0, class_weight=None, dual=False, fit_intercept=True,\n",
       "                   intercept_scaling=1, l1_ratio=None, max_iter=1000,\n",
       "                   multi_class='multinomial', n_jobs=None, penalty='l2',\n",
       "                   random_state=None, solver='newton-cg', tol=0.0001, verbose=0,\n",
       "                   warm_start=False)"
      ]
     },
     "execution_count": 25,
     "metadata": {},
     "output_type": "execute_result"
    }
   ],
   "source": [
    "clf3 = LogisticRegression(solver = \"newton-cg\", multi_class = 'multinomial', max_iter=1000)\n",
    "clf3.fit(x_train_scaled, y_train)"
   ]
  },
  {
   "cell_type": "code",
   "execution_count": 26,
   "metadata": {},
   "outputs": [
    {
     "data": {
      "text/plain": [
       "array(['X', 'X', 'X', 'X', 'X', 'X', 'X', 'X', 'X', 'X', 'X', 'X', 'X',\n",
       "       'X', 'X', 'X', 'X', 'X', 'X', 'X', 'X', 'X', 'X', 'X', 'X', 'X',\n",
       "       'X', 'X', 'X', 'X', 'X', 'X', 'X', 'X', 'X', 'X', 'X', 'X', 'X',\n",
       "       'X'], dtype=object)"
      ]
     },
     "execution_count": 26,
     "metadata": {},
     "output_type": "execute_result"
    }
   ],
   "source": [
    "clf3.predict(x_test)"
   ]
  },
  {
   "cell_type": "code",
   "execution_count": 27,
   "metadata": {},
   "outputs": [],
   "source": [
    "# Logistic regression is a bad algorithm for FlareML"
   ]
  },
  {
   "cell_type": "code",
   "execution_count": null,
   "metadata": {},
   "outputs": [],
   "source": []
  },
  {
   "cell_type": "markdown",
   "metadata": {},
   "source": [
    "# Decision Trees"
   ]
  },
  {
   "cell_type": "code",
   "execution_count": 28,
   "metadata": {},
   "outputs": [],
   "source": [
    "from sklearn.tree import DecisionTreeClassifier\n",
    "from sklearn.tree import export_graphviz"
   ]
  },
  {
   "cell_type": "code",
   "execution_count": 29,
   "metadata": {},
   "outputs": [
    {
     "data": {
      "text/plain": [
       "DecisionTreeClassifier(ccp_alpha=0.0, class_weight=None, criterion='gini',\n",
       "                       max_depth=None, max_features=None, max_leaf_nodes=None,\n",
       "                       min_impurity_decrease=0.0, min_impurity_split=None,\n",
       "                       min_samples_leaf=1, min_samples_split=2,\n",
       "                       min_weight_fraction_leaf=0.0, presort='deprecated',\n",
       "                       random_state=None, splitter='best')"
      ]
     },
     "execution_count": 29,
     "metadata": {},
     "output_type": "execute_result"
    }
   ],
   "source": [
    "clf4 = DecisionTreeClassifier()\n",
    "clf4.fit(x_train_scaled, y_train)"
   ]
  },
  {
   "cell_type": "code",
   "execution_count": 30,
   "metadata": {},
   "outputs": [
    {
     "data": {
      "text/plain": [
       "True"
      ]
     },
     "execution_count": 30,
     "metadata": {},
     "output_type": "execute_result"
    }
   ],
   "source": [
    "import pydotplus\n",
    "classes = [\"B\",\"C\",\"M\",\"X\"]\n",
    "dot_data = export_graphviz(clf4, out_file=None, feature_names = x_train.columns,\n",
    "                          class_names = classes)\n",
    "graph = pydotplus.graph_from_dot_data(dot_data)\n",
    "graph.write_pdf(\"FlareML.pdf\")"
   ]
  },
  {
   "cell_type": "code",
   "execution_count": 31,
   "metadata": {},
   "outputs": [],
   "source": [
    "y_test_pred = clf4.predict(x_test_scaled)"
   ]
  },
  {
   "cell_type": "code",
   "execution_count": 32,
   "metadata": {},
   "outputs": [],
   "source": [
    "from sklearn.metrics import confusion_matrix"
   ]
  },
  {
   "cell_type": "code",
   "execution_count": 33,
   "metadata": {},
   "outputs": [
    {
     "data": {
      "text/plain": [
       "array([[8, 6, 1, 0],\n",
       "       [1, 9, 2, 0],\n",
       "       [0, 5, 4, 0],\n",
       "       [0, 1, 1, 2]], dtype=int64)"
      ]
     },
     "execution_count": 33,
     "metadata": {},
     "output_type": "execute_result"
    }
   ],
   "source": [
    "confusion_matrix(y_test,y_test_pred)"
   ]
  },
  {
   "cell_type": "code",
   "execution_count": 34,
   "metadata": {},
   "outputs": [
    {
     "data": {
      "text/plain": [
       "0.575"
      ]
     },
     "execution_count": 34,
     "metadata": {},
     "output_type": "execute_result"
    }
   ],
   "source": [
    "clf4.score(x_test_scaled,y_test)"
   ]
  },
  {
   "cell_type": "code",
   "execution_count": 35,
   "metadata": {},
   "outputs": [],
   "source": [
    "from sklearn.metrics import accuracy_score"
   ]
  },
  {
   "cell_type": "code",
   "execution_count": 36,
   "metadata": {},
   "outputs": [
    {
     "data": {
      "text/plain": [
       "0.575"
      ]
     },
     "execution_count": 36,
     "metadata": {},
     "output_type": "execute_result"
    }
   ],
   "source": [
    "accuracy_score(y_test, y_test_pred)"
   ]
  },
  {
   "cell_type": "code",
   "execution_count": 37,
   "metadata": {},
   "outputs": [],
   "source": [
    "#decision Trees perform better than basic Logistic Regression"
   ]
  },
  {
   "cell_type": "code",
   "execution_count": null,
   "metadata": {},
   "outputs": [],
   "source": []
  },
  {
   "cell_type": "markdown",
   "metadata": {},
   "source": [
    "# Random Forest"
   ]
  },
  {
   "cell_type": "code",
   "execution_count": 38,
   "metadata": {},
   "outputs": [],
   "source": [
    "from sklearn.ensemble import RandomForestClassifier\n",
    "clf5 = RandomForestClassifier(random_state = 0)"
   ]
  },
  {
   "cell_type": "code",
   "execution_count": 39,
   "metadata": {},
   "outputs": [
    {
     "data": {
      "text/plain": [
       "RandomForestClassifier(bootstrap=True, ccp_alpha=0.0, class_weight=None,\n",
       "                       criterion='gini', max_depth=None, max_features='auto',\n",
       "                       max_leaf_nodes=None, max_samples=None,\n",
       "                       min_impurity_decrease=0.0, min_impurity_split=None,\n",
       "                       min_samples_leaf=1, min_samples_split=2,\n",
       "                       min_weight_fraction_leaf=0.0, n_estimators=100,\n",
       "                       n_jobs=None, oob_score=False, random_state=0, verbose=0,\n",
       "                       warm_start=False)"
      ]
     },
     "execution_count": 39,
     "metadata": {},
     "output_type": "execute_result"
    }
   ],
   "source": [
    "clf5.fit(x_train_scaled, y_train)"
   ]
  },
  {
   "cell_type": "code",
   "execution_count": 40,
   "metadata": {},
   "outputs": [
    {
     "data": {
      "text/plain": [
       "0.4"
      ]
     },
     "execution_count": 40,
     "metadata": {},
     "output_type": "execute_result"
    }
   ],
   "source": [
    "clf5.score(x_test_scaled,y_test)"
   ]
  },
  {
   "cell_type": "code",
   "execution_count": 41,
   "metadata": {},
   "outputs": [],
   "source": [
    "y_test_pred = clf5.predict(x_test_scaled)"
   ]
  },
  {
   "cell_type": "code",
   "execution_count": 42,
   "metadata": {},
   "outputs": [],
   "source": [
    "y_pred_rf = y_test_pred"
   ]
  },
  {
   "cell_type": "code",
   "execution_count": 43,
   "metadata": {},
   "outputs": [
    {
     "data": {
      "text/plain": [
       "array([[ 1, 13,  1,  0],\n",
       "       [ 1,  6,  5,  0],\n",
       "       [ 0,  3,  6,  0],\n",
       "       [ 0,  0,  1,  3]], dtype=int64)"
      ]
     },
     "execution_count": 43,
     "metadata": {},
     "output_type": "execute_result"
    }
   ],
   "source": [
    "confusion_matrix(y_test,y_test_pred)"
   ]
  },
  {
   "cell_type": "code",
   "execution_count": 44,
   "metadata": {},
   "outputs": [],
   "source": [
    "conf_matrix = confusion_matrix(y_test,y_test_pred)"
   ]
  },
  {
   "cell_type": "code",
   "execution_count": 45,
   "metadata": {},
   "outputs": [
    {
     "name": "stdout",
     "output_type": "stream",
     "text": [
      "[ 1 13  1  0]\n",
      "[1 6 5 0]\n",
      "[0 3 6 0]\n",
      "[0 0 1 3]\n",
      "[[1, 13, 1, 0], [1, 6, 5, 0], [0, 3, 6, 0], [0, 0, 1, 3]]\n",
      "[1, 13, 1, 0]\n",
      "0\t0\t1\t3\n"
     ]
    }
   ],
   "source": [
    "col = 0\n",
    "row = 0\n",
    "confusion_matrix_result = []\n",
    "for c in conf_matrix:\n",
    "    st = ''\n",
    "    a = []\n",
    "    print(c)\n",
    "    for c1 in c:\n",
    "        a.append(int(c1))\n",
    "        col = col + 1\n",
    "        if st == '':\n",
    "            st = str(c1)\n",
    "        else:\n",
    "            st = str(st) + '\\t' +  str(c1)\n",
    "    confusion_matrix_result.append(a)\n",
    "\n",
    "    \n",
    "print(confusion_matrix_result)\n",
    "print(confusion_matrix_result[0])\n",
    "print(st)"
   ]
  },
  {
   "cell_type": "code",
   "execution_count": 46,
   "metadata": {},
   "outputs": [],
   "source": [
    "clf6 = RandomForestClassifier(random_state = 0, max_features = 7)"
   ]
  },
  {
   "cell_type": "code",
   "execution_count": 47,
   "metadata": {},
   "outputs": [
    {
     "data": {
      "text/plain": [
       "0.45"
      ]
     },
     "execution_count": 47,
     "metadata": {},
     "output_type": "execute_result"
    }
   ],
   "source": [
    "clf6.fit(x_train_scaled, y_train)\n",
    "clf6.score(x_test_scaled,y_test)"
   ]
  },
  {
   "cell_type": "code",
   "execution_count": 48,
   "metadata": {},
   "outputs": [
    {
     "data": {
      "text/plain": [
       "array([[ 2, 12,  1,  0],\n",
       "       [ 0,  7,  5,  0],\n",
       "       [ 0,  3,  6,  0],\n",
       "       [ 0,  0,  1,  3]], dtype=int64)"
      ]
     },
     "execution_count": 48,
     "metadata": {},
     "output_type": "execute_result"
    }
   ],
   "source": [
    "y_test_pred = clf6.predict(x_test_scaled)\n",
    "confusion_matrix(y_test,y_test_pred)"
   ]
  },
  {
   "cell_type": "code",
   "execution_count": 49,
   "metadata": {},
   "outputs": [],
   "source": [
    "#class C dominates the random Forest Classifier"
   ]
  },
  {
   "cell_type": "code",
   "execution_count": 50,
   "metadata": {},
   "outputs": [
    {
     "data": {
      "text/plain": [
       "0.45"
      ]
     },
     "execution_count": 50,
     "metadata": {},
     "output_type": "execute_result"
    }
   ],
   "source": [
    "accuracy_score(y_test, y_test_pred)"
   ]
  },
  {
   "cell_type": "markdown",
   "metadata": {},
   "source": [
    "# KNN"
   ]
  },
  {
   "cell_type": "code",
   "execution_count": 51,
   "metadata": {},
   "outputs": [],
   "source": [
    "from sklearn.neighbors import KNeighborsClassifier\n",
    "from sklearn.model_selection import cross_val_score"
   ]
  },
  {
   "cell_type": "code",
   "execution_count": 52,
   "metadata": {},
   "outputs": [
    {
     "data": {
      "text/plain": [
       "KNeighborsClassifier(algorithm='auto', leaf_size=30, metric='minkowski',\n",
       "                     metric_params=None, n_jobs=None, n_neighbors=5, p=2,\n",
       "                     weights='uniform')"
      ]
     },
     "execution_count": 52,
     "metadata": {},
     "output_type": "execute_result"
    }
   ],
   "source": [
    "clf7 = KNeighborsClassifier()\n",
    "clf7.fit(x_train_scaled, y_train)"
   ]
  },
  {
   "cell_type": "code",
   "execution_count": 53,
   "metadata": {},
   "outputs": [
    {
     "data": {
      "text/plain": [
       "0.625"
      ]
     },
     "execution_count": 53,
     "metadata": {},
     "output_type": "execute_result"
    }
   ],
   "source": [
    "clf7.score(x_test_scaled, y_test)"
   ]
  },
  {
   "cell_type": "code",
   "execution_count": 54,
   "metadata": {},
   "outputs": [],
   "source": [
    "import matplotlib.pyplot as plt"
   ]
  },
  {
   "cell_type": "code",
   "execution_count": 55,
   "metadata": {},
   "outputs": [
    {
     "data": {
      "image/png": "[encoded data removed]",
      "text/plain": [
       "<Figure size 432x288 with 1 Axes>"
      ]
     },
     "metadata": {
      "needs_background": "light"
     },
     "output_type": "display_data"
    }
   ],
   "source": [
    "x_axis = []\n",
    "y_axis = []\n",
    "for i in range(1, 16, 2):\n",
    "    clf8 = KNeighborsClassifier(n_neighbors = i)\n",
    "    score = cross_val_score(clf8, x_train_scaled, y_train)\n",
    "    x_axis.append(i)\n",
    "    y_axis.append(score.mean())\n",
    "    \n",
    "plt.plot(x_axis,y_axis)\n",
    "plt.grid()\n",
    "plt.show()"
   ]
  },
  {
   "cell_type": "code",
   "execution_count": 56,
   "metadata": {},
   "outputs": [],
   "source": [
    "# for K = 7 the KNN algorithm performs the best"
   ]
  },
  {
   "cell_type": "code",
   "execution_count": 57,
   "metadata": {},
   "outputs": [
    {
     "data": {
      "text/plain": [
       "KNeighborsClassifier(algorithm='auto', leaf_size=30, metric='minkowski',\n",
       "                     metric_params=None, n_jobs=None, n_neighbors=7, p=2,\n",
       "                     weights='uniform')"
      ]
     },
     "execution_count": 57,
     "metadata": {},
     "output_type": "execute_result"
    }
   ],
   "source": [
    "clf9 = KNeighborsClassifier(n_neighbors=7)\n",
    "clf9.fit(x_train_scaled, y_train)"
   ]
  },
  {
   "cell_type": "code",
   "execution_count": 58,
   "metadata": {},
   "outputs": [
    {
     "data": {
      "text/plain": [
       "0.625"
      ]
     },
     "execution_count": 58,
     "metadata": {},
     "output_type": "execute_result"
    }
   ],
   "source": [
    "clf9.score(x_test_scaled, y_test)"
   ]
  },
  {
   "cell_type": "code",
   "execution_count": 59,
   "metadata": {},
   "outputs": [
    {
     "data": {
      "text/plain": [
       "array([[9, 6, 0, 0],\n",
       "       [2, 8, 2, 0],\n",
       "       [0, 2, 7, 0],\n",
       "       [0, 0, 3, 1]], dtype=int64)"
      ]
     },
     "execution_count": 59,
     "metadata": {},
     "output_type": "execute_result"
    }
   ],
   "source": [
    "y_test_pred = clf9.predict(x_test_scaled)\n",
    "confusion_matrix(y_test,y_test_pred)"
   ]
  },
  {
   "cell_type": "code",
   "execution_count": 60,
   "metadata": {},
   "outputs": [],
   "source": [
    "y_pred_knn = y_test_pred"
   ]
  },
  {
   "cell_type": "code",
   "execution_count": 61,
   "metadata": {},
   "outputs": [
    {
     "data": {
      "text/plain": [
       "0.625"
      ]
     },
     "execution_count": 61,
     "metadata": {},
     "output_type": "execute_result"
    }
   ],
   "source": [
    "accuracy_score(y_test, y_test_pred)"
   ]
  },
  {
   "cell_type": "code",
   "execution_count": 62,
   "metadata": {},
   "outputs": [],
   "source": [
    "# KNN Algorithm works better than Random Forest for FlareML"
   ]
  },
  {
   "cell_type": "code",
   "execution_count": null,
   "metadata": {},
   "outputs": [],
   "source": []
  },
  {
   "cell_type": "markdown",
   "metadata": {},
   "source": [
    "# SVM"
   ]
  },
  {
   "cell_type": "code",
   "execution_count": 63,
   "metadata": {},
   "outputs": [],
   "source": [
    "from sklearn.svm import SVC"
   ]
  },
  {
   "cell_type": "code",
   "execution_count": 64,
   "metadata": {},
   "outputs": [
    {
     "data": {
      "text/plain": [
       "SVC(C=2, break_ties=False, cache_size=200, class_weight=None, coef0=0.0,\n",
       "    decision_function_shape='ovr', degree=3, gamma='scale', kernel='rbf',\n",
       "    max_iter=-1, probability=False, random_state=None, shrinking=True,\n",
       "    tol=0.001, verbose=False)"
      ]
     },
     "execution_count": 64,
     "metadata": {},
     "output_type": "execute_result"
    }
   ],
   "source": [
    "clf10 = SVC(C=2)\n",
    "clf10.fit(x_train_scaled, y_train)"
   ]
  },
  {
   "cell_type": "code",
   "execution_count": 65,
   "metadata": {},
   "outputs": [
    {
     "data": {
      "text/plain": [
       "0.55"
      ]
     },
     "execution_count": 65,
     "metadata": {},
     "output_type": "execute_result"
    }
   ],
   "source": [
    "clf10.score(x_test_scaled, y_test)"
   ]
  },
  {
   "cell_type": "code",
   "execution_count": 66,
   "metadata": {},
   "outputs": [],
   "source": [
    "# Grid search Cross validation for choosing paramters"
   ]
  },
  {
   "cell_type": "code",
   "execution_count": 67,
   "metadata": {},
   "outputs": [],
   "source": [
    "from sklearn.model_selection import GridSearchCV"
   ]
  },
  {
   "cell_type": "code",
   "execution_count": 68,
   "metadata": {},
   "outputs": [
    {
     "data": {
      "text/plain": [
       "GridSearchCV(cv=None, error_score=nan,\n",
       "             estimator=SVC(C=1.0, break_ties=False, cache_size=200,\n",
       "                           class_weight=None, coef0=0.0,\n",
       "                           decision_function_shape='ovr', degree=3,\n",
       "                           gamma='scale', kernel='rbf', max_iter=-1,\n",
       "                           probability=False, random_state=None, shrinking=True,\n",
       "                           tol=0.001, verbose=False),\n",
       "             iid='deprecated', n_jobs=None,\n",
       "             param_grid={'C': [100.0, 1000.0, 5000.0, 10000.0, 100000.0],\n",
       "                         'gamma': [0.001, 0.0005, 0.0001, 0.005]},\n",
       "             pre_dispatch='2*n_jobs', refit=True, return_train_score=False,\n",
       "             scoring=None, verbose=0)"
      ]
     },
     "execution_count": 68,
     "metadata": {},
     "output_type": "execute_result"
    }
   ],
   "source": [
    "clf11 = SVC()\n",
    "grid = {'C':[1e2, 1e3, 5e3, 1e4, 1e5],\n",
    "       'gamma': [1e-3, 5e-4, 1e-4, 5e-3]}\n",
    "abc = GridSearchCV(clf11, grid)\n",
    "abc.fit(x_train_scaled, y_train)"
   ]
  },
  {
   "cell_type": "code",
   "execution_count": 69,
   "metadata": {},
   "outputs": [
    {
     "data": {
      "text/plain": [
       "SVC(C=100.0, break_ties=False, cache_size=200, class_weight=None, coef0=0.0,\n",
       "    decision_function_shape='ovr', degree=3, gamma=0.0005, kernel='rbf',\n",
       "    max_iter=-1, probability=False, random_state=None, shrinking=True,\n",
       "    tol=0.001, verbose=False)"
      ]
     },
     "execution_count": 69,
     "metadata": {},
     "output_type": "execute_result"
    }
   ],
   "source": [
    "abc.best_estimator_"
   ]
  },
  {
   "cell_type": "code",
   "execution_count": 70,
   "metadata": {},
   "outputs": [
    {
     "data": {
      "text/plain": [
       "SVC(C=100, break_ties=False, cache_size=200, class_weight=None, coef0=0.0,\n",
       "    decision_function_shape='ovr', degree=3, gamma=0.0005, kernel='rbf',\n",
       "    max_iter=-1, probability=False, random_state=None, shrinking=True,\n",
       "    tol=0.001, verbose=False)"
      ]
     },
     "execution_count": 70,
     "metadata": {},
     "output_type": "execute_result"
    }
   ],
   "source": [
    "clf12 = SVC(C=100, gamma = 0.0005)\n",
    "clf12.fit(x_train_scaled, y_train)"
   ]
  },
  {
   "cell_type": "code",
   "execution_count": 71,
   "metadata": {},
   "outputs": [
    {
     "data": {
      "text/plain": [
       "0.575"
      ]
     },
     "execution_count": 71,
     "metadata": {},
     "output_type": "execute_result"
    }
   ],
   "source": [
    "clf12.score(x_test_scaled, y_test)"
   ]
  },
  {
   "cell_type": "code",
   "execution_count": 72,
   "metadata": {},
   "outputs": [
    {
     "data": {
      "text/plain": [
       "array([[12,  3,  0,  0],\n",
       "       [ 1,  6,  5,  0],\n",
       "       [ 0,  5,  4,  0],\n",
       "       [ 0,  0,  3,  1]], dtype=int64)"
      ]
     },
     "execution_count": 72,
     "metadata": {},
     "output_type": "execute_result"
    }
   ],
   "source": [
    "y_test_pred = clf12.predict(x_test_scaled)\n",
    "confusion_matrix(y_test,y_test_pred)"
   ]
  },
  {
   "cell_type": "code",
   "execution_count": 73,
   "metadata": {},
   "outputs": [],
   "source": [
    "#SVM predict Class B better"
   ]
  },
  {
   "cell_type": "code",
   "execution_count": null,
   "metadata": {},
   "outputs": [],
   "source": []
  },
  {
   "cell_type": "markdown",
   "metadata": {},
   "source": [
    "# Naive Bayes"
   ]
  },
  {
   "cell_type": "code",
   "execution_count": 74,
   "metadata": {},
   "outputs": [],
   "source": [
    "from sklearn.naive_bayes import GaussianNB"
   ]
  },
  {
   "cell_type": "code",
   "execution_count": 75,
   "metadata": {},
   "outputs": [
    {
     "data": {
      "text/plain": [
       "GaussianNB(priors=None, var_smoothing=1e-09)"
      ]
     },
     "execution_count": 75,
     "metadata": {},
     "output_type": "execute_result"
    }
   ],
   "source": [
    "clf13 = GaussianNB()\n",
    "clf13.fit(x_train_scaled, y_train)"
   ]
  },
  {
   "cell_type": "code",
   "execution_count": 76,
   "metadata": {},
   "outputs": [
    {
     "data": {
      "text/plain": [
       "array([[12,  3,  0,  0],\n",
       "       [ 1,  6,  5,  0],\n",
       "       [ 0,  5,  4,  0],\n",
       "       [ 0,  0,  3,  1]], dtype=int64)"
      ]
     },
     "execution_count": 76,
     "metadata": {},
     "output_type": "execute_result"
    }
   ],
   "source": [
    "y_pred = clf13.predict(x_test_scaled)\n",
    "confusion_matrix(y_test, y_test_pred)"
   ]
  },
  {
   "cell_type": "code",
   "execution_count": 77,
   "metadata": {},
   "outputs": [],
   "source": [
    "y_pred_nb = y_pred"
   ]
  },
  {
   "cell_type": "code",
   "execution_count": null,
   "metadata": {},
   "outputs": [],
   "source": []
  },
  {
   "cell_type": "code",
   "execution_count": 78,
   "metadata": {},
   "outputs": [
    {
     "data": {
      "text/plain": [
       "array(['B', 'B', 'C', 'B', 'C', 'C', 'B', 'B', 'C', 'C', 'C', 'B', 'B',\n",
       "       'B', 'B', 'B', 'B', 'B', 'B', 'B', 'M', 'X', 'C', 'X', 'C', 'C',\n",
       "       'C', 'M', 'M', 'M', 'C', 'M', 'M', 'B', 'B', 'C', 'C', 'C', 'C',\n",
       "       'C'], dtype='<U1')"
      ]
     },
     "execution_count": 78,
     "metadata": {},
     "output_type": "execute_result"
    }
   ],
   "source": [
    "y_pred_nb"
   ]
  },
  {
   "cell_type": "code",
   "execution_count": null,
   "metadata": {},
   "outputs": [],
   "source": []
  },
  {
   "cell_type": "code",
   "execution_count": 79,
   "metadata": {},
   "outputs": [
    {
     "data": {
      "text/plain": [
       "0.675"
      ]
     },
     "execution_count": 79,
     "metadata": {},
     "output_type": "execute_result"
    }
   ],
   "source": [
    "clf13.score(x_test_scaled, y_test)"
   ]
  },
  {
   "cell_type": "code",
   "execution_count": 80,
   "metadata": {},
   "outputs": [],
   "source": [
    "#Naive Bayes performs better than SVM, Random Forest, KNN"
   ]
  },
  {
   "cell_type": "code",
   "execution_count": null,
   "metadata": {},
   "outputs": [],
   "source": []
  },
  {
   "cell_type": "markdown",
   "metadata": {},
   "source": [
    "# ens for KNN,Naive Bayes,RF"
   ]
  },
  {
   "cell_type": "code",
   "execution_count": 98,
   "metadata": {},
   "outputs": [],
   "source": [
    "def compute_ens_result(rf_result, knn_result, nb_result):\n",
    "    final_results = []\n",
    "    for i in range(0, len(rf_result)):\n",
    "        rf_p = rf_result[i]\n",
    "        knn_p = knn_result[i]\n",
    "        nb_p = nb_result[i]\n",
    "        if rf_p == knn_p and rf_p == nb_p :\n",
    "            final_results.append(rf_p) \n",
    "        elif rf_p == knn_p or rf_p == nb_p :\n",
    "            final_results.append(rf_p)\n",
    "        elif nb_p == knn_p :\n",
    "            final_results.append(knn_p)\n",
    "        else :\n",
    "            final_results.append(rf_p)\n",
    "    \n",
    "    return final_results"
   ]
  },
  {
   "cell_type": "code",
   "execution_count": 99,
   "metadata": {},
   "outputs": [],
   "source": [
    "mapping ={1:\"B\", 2:\"C\", 3:\"M\", 4:'X', -1:'N/A'}\n",
    "B = mapping[1]\n",
    "C = mapping[2]\n",
    "M = mapping[3]\n",
    "X = mapping[4]"
   ]
  },
  {
   "cell_type": "code",
   "execution_count": 100,
   "metadata": {},
   "outputs": [],
   "source": [
    "ens = compute_ens_result(y_pred_rf,y_pred_knn,y_pred_nb)"
   ]
  },
  {
   "cell_type": "code",
   "execution_count": 101,
   "metadata": {},
   "outputs": [
    {
     "data": {
      "text/plain": [
       "array([[9, 6, 0, 0],\n",
       "       [1, 8, 3, 0],\n",
       "       [0, 3, 6, 0],\n",
       "       [0, 0, 2, 2]], dtype=int64)"
      ]
     },
     "execution_count": 101,
     "metadata": {},
     "output_type": "execute_result"
    }
   ],
   "source": [
    "confusion_matrix(y_test, ens)"
   ]
  },
  {
   "cell_type": "code",
   "execution_count": 102,
   "metadata": {},
   "outputs": [],
   "source": [
    "labels = ['B','C','M','X']"
   ]
  },
  {
   "cell_type": "code",
   "execution_count": 108,
   "metadata": {},
   "outputs": [],
   "source": [
    "from sklearn.metrics import multilabel_confusion_matrix"
   ]
  },
  {
   "cell_type": "code",
   "execution_count": 110,
   "metadata": {},
   "outputs": [],
   "source": [
    "def log_cv_report(y_true, y_pred):\n",
    "    labels = ['B','C','M','X']\n",
    "    r = multilabel_confusion_matrix(y_true, y_pred,labels=labels)\n",
    "    pm={}\n",
    "    \n",
    "    for i in range(len(labels)):\n",
    "        l = labels[i]\n",
    "        c = {}\n",
    "        cm = r[i]\n",
    "        c['TN'] = cm[0][0]\n",
    "        c['FN'] = cm[1][0]\n",
    "        c['TP'] = cm[1][1]\n",
    "        c['FP'] = cm[0][1]\n",
    "        c['T'] = cm.sum()\n",
    "        if (c['FP'] == 0):\n",
    "            c['TN'] = c['TN'] - 1\n",
    "            c['FP'] = 1\n",
    "        if (c['FN'] == 0):\n",
    "            c['TP'] = c['TP'] - 1\n",
    "            c['FN'] = 1\n",
    "                  \n",
    "        pm[l] = calc_metrics(c['TP'],c['TN'],c['FP'],c['FN'])\n",
    "        \n",
    "    ac = accuracy_score(y_true, y_pred)\n",
    "    print('Prediction accuracy: ',ac)\n",
    "    return pm;"
   ]
  },
  {
   "cell_type": "code",
   "execution_count": 111,
   "metadata": {},
   "outputs": [],
   "source": [
    "def truncate_float(number, digits=4) -> float:\n",
    "    try :\n",
    "        if math.isnan(number):\n",
    "            return 0.0\n",
    "        stepper = 10.0 ** digits\n",
    "        return math.trunc(stepper * number) / stepper\n",
    "    except Exception as e:\n",
    "        return number"
   ]
  },
  {
   "cell_type": "code",
   "execution_count": 112,
   "metadata": {},
   "outputs": [],
   "source": [
    "def calc_metrics(TP,TN,FP,FN):\n",
    "    P = TP + FN \n",
    "    N = TN + FP\n",
    "    T = N + P \n",
    "    accuracy = 0\n",
    "    balanced_accuracy = 0 \n",
    "    precision = 0 \n",
    "    recall = 0 \n",
    "    TSS = 0 \n",
    "    \n",
    "\n",
    "    accuracy = (TP+TN) / (TP+FP+TN+FN)\n",
    "    BACC =  ( (TP/(TP + FN)) + (TN/(TN + FP)) ) /2\n",
    "    TPR = TP/(TP+FN)\n",
    "    FPR = FP/(FP+TN)\n",
    "    precision = TP / (TP + FP)\n",
    "    recall = TP / (TP  + FN) \n",
    "    TSS = (TP/(TP+FN)) - (FP/(FP+TN))\n",
    "\n",
    "\n",
    "    return [truncate_float(BACC),truncate_float(TSS)]"
   ]
  },
  {
   "cell_type": "code",
   "execution_count": 113,
   "metadata": {},
   "outputs": [
    {
     "name": "stdout",
     "output_type": "stream",
     "text": [
      "Prediction accuracy:  0.625\n"
     ]
    },
    {
     "data": {
      "text/plain": [
       "{'B': [0.78, 0.5599999999999999],\n",
       " 'C': [0.6726190476190477, 0.3452380952380952],\n",
       " 'M': [0.7526881720430108, 0.5053763440860215],\n",
       " 'X': [0.7361111111111112, 0.4722222222222222]}"
      ]
     },
     "execution_count": 113,
     "metadata": {},
     "output_type": "execute_result"
    }
   ],
   "source": [
    "BACC_TSS_BCMX = log_cv_report(y_test,ens)\n",
    "BACC_TSS_BCMX"
   ]
  },
  {
   "cell_type": "code",
   "execution_count": 125,
   "metadata": {},
   "outputs": [
    {
     "data": {
      "image/png": "[encoded data removed]",
      "text/plain": [
       "<Figure size 720x360 with 1 Axes>"
      ]
     },
     "metadata": {
      "needs_background": "light"
     },
     "output_type": "display_data"
    }
   ],
   "source": [
    "import numpy as np\n",
    "import matplotlib.pyplot as plt\n",
    "  \n",
    "# creating the dataset\n",
    "data = {'B':0.78, 'C':0.6726190476190477, 'M':0.7526881720430108,\n",
    "        'X':0.7361111111111112}\n",
    "courses = list(data.keys())\n",
    "values = list(data.values())\n",
    "  \n",
    "fig = plt.figure(figsize = (10, 5))\n",
    " \n",
    "# creating the bar plot\n",
    "plt.bar(courses, values, color ='maroon',\n",
    "        width = 0.4)\n",
    " \n",
    "plt.xlabel(\"Flare Classes\")\n",
    "plt.ylabel(\"\")\n",
    "plt.title(\"Prediction result for Algorithm: ENS (BACC)\")\n",
    "plt.show()"
   ]
  },
  {
   "cell_type": "code",
   "execution_count": 124,
   "metadata": {},
   "outputs": [
    {
     "data": {
      "image/png": "[encoded data removed]",
      "text/plain": [
       "<Figure size 720x360 with 1 Axes>"
      ]
     },
     "metadata": {
      "needs_background": "light"
     },
     "output_type": "display_data"
    }
   ],
   "source": [
    "data = {'B':0.556, 'C':0.345, 'M':0.505,\n",
    "        'X':0.473}\n",
    "courses = list(data.keys())\n",
    "values = list(data.values())\n",
    "  \n",
    "fig = plt.figure(figsize = (10, 5))\n",
    " \n",
    "# creating the bar plot\n",
    "plt.bar(courses, values, color ='maroon',\n",
    "        width = 0.3)\n",
    " \n",
    "plt.xlabel(\"Flare Classes\")\n",
    "plt.ylabel(\"\")\n",
    "plt.ylim(0,1)\n",
    "plt.title(\"Prediction result for Algorithm: ENS (TSS)\")\n",
    "plt.show()"
   ]
  },
  {
   "cell_type": "markdown",
   "metadata": {},
   "source": [
    "# nb, knn"
   ]
  },
  {
   "cell_type": "code",
   "execution_count": 127,
   "metadata": {},
   "outputs": [],
   "source": [
    "#y_pred_rf,y_pred_knn,y_pred_nb"
   ]
  },
  {
   "cell_type": "code",
   "execution_count": 130,
   "metadata": {},
   "outputs": [
    {
     "name": "stdout",
     "output_type": "stream",
     "text": [
      "Prediction accuracy:  0.625\n"
     ]
    },
    {
     "data": {
      "text/plain": [
       "{'B': [0.76, 0.52],\n",
       " 'C': [0.6904761904761905, 0.38095238095238093],\n",
       " 'M': [0.8082437275985663, 0.6164874551971327],\n",
       " 'X': [0.6111111111111112, 0.2222222222222222]}"
      ]
     },
     "execution_count": 130,
     "metadata": {},
     "output_type": "execute_result"
    }
   ],
   "source": [
    "BACC_TSS_BCMX = log_cv_report(y_test,y_pred_knn)\n",
    "BACC_TSS_BCMX"
   ]
  },
  {
   "cell_type": "code",
   "execution_count": 131,
   "metadata": {},
   "outputs": [
    {
     "data": {
      "image/png": "[encoded data removed]",
      "text/plain": [
       "<Figure size 720x360 with 1 Axes>"
      ]
     },
     "metadata": {
      "needs_background": "light"
     },
     "output_type": "display_data"
    }
   ],
   "source": [
    "data = {'B':0.52, 'C':0.38, 'M':0.616,\n",
    "        'X':0.23}\n",
    "courses = list(data.keys())\n",
    "values = list(data.values())\n",
    "  \n",
    "fig = plt.figure(figsize = (10, 5))\n",
    " \n",
    "# creating the bar plot\n",
    "plt.bar(courses, values, color ='maroon',\n",
    "        width = 0.3)\n",
    " \n",
    "plt.xlabel(\"Flare Classes\")\n",
    "plt.ylabel(\"\")\n",
    "plt.ylim(0,1)\n",
    "plt.title(\"Prediction result for Algorithm: KNN (TSS)\")\n",
    "plt.show()"
   ]
  },
  {
   "cell_type": "code",
   "execution_count": 132,
   "metadata": {},
   "outputs": [
    {
     "name": "stdout",
     "output_type": "stream",
     "text": [
      "Prediction accuracy:  0.675\n"
     ]
    },
    {
     "data": {
      "text/plain": [
       "{'B': [0.9266666666666667, 0.8533333333333334],\n",
       " 'C': [0.6904761904761905, 0.38095238095238093],\n",
       " 'M': [0.6182795698924731, 0.23655913978494622],\n",
       " 'X': [0.7361111111111112, 0.4722222222222222]}"
      ]
     },
     "execution_count": 132,
     "metadata": {},
     "output_type": "execute_result"
    }
   ],
   "source": [
    "BACC_TSS_BCMX = log_cv_report(y_test,y_pred_nb)\n",
    "BACC_TSS_BCMX"
   ]
  },
  {
   "cell_type": "code",
   "execution_count": 134,
   "metadata": {},
   "outputs": [
    {
     "data": {
      "image/png": "[encoded data removed]",
      "text/plain": [
       "<Figure size 720x360 with 1 Axes>"
      ]
     },
     "metadata": {
      "needs_background": "light"
     },
     "output_type": "display_data"
    }
   ],
   "source": [
    "data = {'B':0.854, 'C':0.38, 'M':0.236,\n",
    "        'X':0.473}\n",
    "courses = list(data.keys())\n",
    "values = list(data.values())\n",
    "  \n",
    "fig = plt.figure(figsize = (10, 5))\n",
    " \n",
    "# creating the bar plot\n",
    "plt.bar(courses, values, color ='maroon',\n",
    "        width = 0.3)\n",
    " \n",
    "plt.xlabel(\"Flare Classes\")\n",
    "plt.ylabel(\"\")\n",
    "plt.ylim(0,1)\n",
    "plt.title(\"Prediction result for Algorithm: Naive Bayes (TSS)\")\n",
    "plt.show()"
   ]
  },
  {
   "cell_type": "code",
   "execution_count": null,
   "metadata": {},
   "outputs": [],
   "source": []
  }
 ],
 "metadata": {
  "kernelspec": {
   "display_name": "Python 3",
   "language": "python",
   "name": "python3"
  },
  "language_info": {
   "codemirror_mode": {
    "name": "ipython",
    "version": 3
   },
   "file_extension": ".py",
   "mimetype": "text/x-python",
   "name": "python",
   "nbconvert_exporter": "python",
   "pygments_lexer": "ipython3",
   "version": "3.7.6"
  }
 },
 "nbformat": 4,
 "nbformat_minor": 4
}
